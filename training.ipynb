{
 "cells": [
  {
   "cell_type": "code",
   "execution_count": 21,
   "metadata": {},
   "outputs": [],
   "source": [
    "from sklearn.model_selection import train_test_split\n",
    "import tensorflow as tf\n",
    "import keras\n",
    "# tf.keras.utils.to_categorical\n",
    "import os\n",
    "\n",
    "FOLDER_NAME = 'extracted_dataset'\n"
   ]
  },
  {
   "cell_type": "code",
   "execution_count": 15,
   "metadata": {},
   "outputs": [
    {
     "name": "stdout",
     "output_type": "stream",
     "text": [
      "[{'a': 0}, {'b': 1}, {'c': 2}, {'d': 3}, {'e': 4}, {'f': 5}, {'g': 6}, {'h': 7}, {'i': 8}, {'j': 9}, {'k': 10}, {'l': 11}, {'m': 12}, {'n': 13}, {'o': 14}, {'p': 15}, {'q': 16}, {'r': 17}, {'s': 18}, {'t': 19}, {'u': 20}, {'v': 21}, {'w': 22}, {'x': 23}, {'y': 24}, {'z': 25}]\n"
     ]
    }
   ],
   "source": [
    "\n",
    "# Create label map\n",
    "label_map = []\n",
    "for (root, folders, files) in os.walk(FOLDER_NAME):\n",
    "    if root == FOLDER_NAME:\n",
    "        for index, foldername in enumerate(folders):\n",
    "            label_map.append({foldername: index})\n",
    "\n",
    "\n",
    "print(label_map)\n"
   ]
  },
  {
   "cell_type": "code",
   "execution_count": null,
   "metadata": {},
   "outputs": [],
   "source": []
  }
 ],
 "metadata": {
  "kernelspec": {
   "display_name": "Python 3",
   "language": "python",
   "name": "python3"
  },
  "language_info": {
   "codemirror_mode": {
    "name": "ipython",
    "version": 3
   },
   "file_extension": ".py",
   "mimetype": "text/x-python",
   "name": "python",
   "nbconvert_exporter": "python",
   "pygments_lexer": "ipython3",
   "version": "3.10.4"
  },
  "orig_nbformat": 4
 },
 "nbformat": 4,
 "nbformat_minor": 2
}
