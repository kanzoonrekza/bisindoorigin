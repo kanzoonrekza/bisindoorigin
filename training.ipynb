{
 "cells": [
  {
   "cell_type": "code",
   "execution_count": 14,
   "metadata": {},
   "outputs": [],
   "source": [
    "from sklearn.model_selection import train_test_split\n",
    "import tensorflow as tf\n",
    "import keras\n",
    "import os\n",
    "import numpy as np\n",
    "FOLDER_NAME = 'dataset_extracted'\n"
   ]
  },
  {
   "cell_type": "code",
   "execution_count": 4,
   "metadata": {},
   "outputs": [
    {
     "name": "stdout",
     "output_type": "stream",
     "text": [
      "{'a': 0, 'b': 1, 'c': 2, 'd': 3, 'e': 4, 'f': 5, 'g': 6, 'h': 7, 'i': 8, 'j': 9, 'k': 10, 'l': 11, 'm': 12, 'n': 13, 'o': 14, 'p': 15, 'q': 16, 'r': 17, 's': 18, 't': 19, 'u': 20, 'v': 21, 'w': 22, 'x': 23, 'y': 24, 'z': 25}\n"
     ]
    }
   ],
   "source": [
    "# Create label map\n",
    "label_map = {}\n",
    "for (root, folders, files) in os.walk(FOLDER_NAME):\n",
    "    if root == FOLDER_NAME:\n",
    "        for index, foldername in enumerate(folders):\n",
    "            label_map[foldername] = index\n",
    "\n",
    "\n",
    "print(label_map)\n"
   ]
  },
  {
   "cell_type": "code",
   "execution_count": 5,
   "metadata": {},
   "outputs": [
    {
     "name": "stdout",
     "output_type": "stream",
     "text": [
      "(1690, 48, 1662)\n",
      "(1690,)\n"
     ]
    }
   ],
   "source": [
    "sequence, label = [], []\n",
    "target_length = 48\n",
    "for (root, folders, files) in os.walk(FOLDER_NAME):\n",
    "    # if root != FOLDER_NAME:\n",
    "    for filename in files:\n",
    "        file_path = os.path.join(os.path.relpath(\n",
    "            root, FOLDER_NAME), filename)\n",
    "        res = np.load(f'{FOLDER_NAME}/{file_path}')\n",
    "        for _ in range(target_length-res.shape[0]):\n",
    "            res = np.vstack((res, res[-1, :]))\n",
    "        sequence.append(np.array(res))\n",
    "        label.append(label_map[os.path.basename(root)])\n",
    "\n",
    "print(np.array(sequence).shape)\n",
    "print(np.array(label).shape)\n"
   ]
  },
  {
   "cell_type": "code",
   "execution_count": 34,
   "metadata": {},
   "outputs": [
    {
     "name": "stdout",
     "output_type": "stream",
     "text": [
      "(1605, 48, 1662) (85, 48, 1662)\n"
     ]
    }
   ],
   "source": [
    "X_train, X_test, y_train, y_test = train_test_split(np.array(sequence), keras.utils.to_categorical(\n",
    "    np.array(label).astype(int), num_classes=26, dtype='float32'), test_size=0.05)\n",
    "\n",
    "print(X_train.shape, X_test.shape)\n"
   ]
  }
 ],
 "metadata": {
  "kernelspec": {
   "display_name": "Python 3",
   "language": "python",
   "name": "python3"
  },
  "language_info": {
   "codemirror_mode": {
    "name": "ipython",
    "version": 3
   },
   "file_extension": ".py",
   "mimetype": "text/x-python",
   "name": "python",
   "nbconvert_exporter": "python",
   "pygments_lexer": "ipython3",
   "version": "3.10.4"
  },
  "orig_nbformat": 4
 },
 "nbformat": 4,
 "nbformat_minor": 2
}
