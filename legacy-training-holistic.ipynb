{
 "cells": [
  {
   "cell_type": "markdown",
   "metadata": {},
   "source": [
    "# Code for training the holistic model"
   ]
  },
  {
   "cell_type": "markdown",
   "metadata": {},
   "source": [
    "## Import Libraries \n"
   ]
  },
  {
   "cell_type": "code",
   "execution_count": 435,
   "metadata": {},
   "outputs": [],
   "source": [
    "import tensorflow as tf\n",
    "import numpy as np\n",
    "import os\n",
    "from datetime import datetime\n",
    "\n",
    "from keras.models import Sequential\n",
    "from keras.layers import LSTM, Dense\n",
    "from keras.callbacks import TensorBoard\n",
    "from keras.optimizers import Adam\n",
    "\n",
    "\n",
    "from sklearn.model_selection import train_test_split\n",
    "from sklearn.metrics import multilabel_confusion_matrix, accuracy_score, precision_score, recall_score, f1_score, log_loss, classification_report\n",
    "\n",
    "# Variables\n",
    "n = 2  # Data duplication\n",
    "handsOnly = True  # Whether to use only hands or not\n",
    "learning_rate = 0.0001\n",
    "epoch = 100"
   ]
  },
  {
   "cell_type": "markdown",
   "metadata": {},
   "source": [
    "## Setup Variables"
   ]
  },
  {
   "cell_type": "code",
   "execution_count": 436,
   "metadata": {},
   "outputs": [],
   "source": [
    "FOLDER_NAME = 'dataset'\n",
    "ALL_CLASSES = ['a', 'b', 'c', 'd', 'e', 'f', 'g', 'h', 'i', 'j', 'k', 'l', 'm', 'n', 'o', 'p', 'q', 'r', 's', 't', 'u', 'v', 'w', 'x', 'y', 'z']"
   ]
  },
  {
   "cell_type": "code",
   "execution_count": 437,
   "metadata": {},
   "outputs": [
    {
     "name": "stdout",
     "output_type": "stream",
     "text": [
      "{'a': 0, 'b': 1, 'c': 2, 'd': 3, 'e': 4, 'f': 5, 'g': 6, 'h': 7, 'i': 8, 'j': 9, 'k': 10, 'l': 11, 'm': 12, 'n': 13, 'o': 14, 'p': 15, 'q': 16, 'r': 17, 's': 18, 't': 19, 'u': 20, 'v': 21, 'w': 22, 'x': 23, 'y': 24, 'z': 25}\n"
     ]
    }
   ],
   "source": [
    "# Create label map, representing each class as a number\n",
    "label_map = {}\n",
    "for (root, folders, files) in os.walk(FOLDER_NAME):\n",
    "    for foldername in folders:\n",
    "        if foldername in ALL_CLASSES:\n",
    "            label_map[foldername] = ALL_CLASSES.index(foldername)\n",
    "\n",
    "print(label_map)"
   ]
  },
  {
   "cell_type": "code",
   "execution_count": 438,
   "metadata": {},
   "outputs": [
    {
     "name": "stdout",
     "output_type": "stream",
     "text": [
      "Total files: 0 --- dataset\n",
      "Total files: 50 --- dataset\\a\n",
      "Total files: 50 --- dataset\\b\n",
      "Total files: 50 --- dataset\\c\n",
      "Total files: 50 --- dataset\\d\n",
      "Total files: 50 --- dataset\\e\n",
      "Total files: 50 --- dataset\\f\n",
      "Total files: 50 --- dataset\\g\n",
      "Total files: 50 --- dataset\\h\n",
      "Total files: 50 --- dataset\\i\n",
      "Total files: 50 --- dataset\\j\n",
      "Total files: 50 --- dataset\\k\n",
      "Total files: 50 --- dataset\\l\n",
      "Total files: 50 --- dataset\\m\n",
      "Total files: 50 --- dataset\\n\n",
      "Total files: 50 --- dataset\\o\n",
      "Total files: 50 --- dataset\\p\n",
      "Total files: 50 --- dataset\\q\n",
      "Total files: 50 --- dataset\\r\n",
      "Total files: 50 --- dataset\\s\n",
      "Total files: 50 --- dataset\\t\n",
      "Total files: 50 --- dataset\\u\n",
      "Total files: 50 --- dataset\\v\n",
      "Total files: 50 --- dataset\\w\n",
      "Total files: 50 --- dataset\\x\n",
      "Total files: 50 --- dataset\\y\n",
      "Total files: 50 --- dataset\\z\n",
      "(1300, 14, 126)\n",
      "(1300,)\n"
     ]
    }
   ],
   "source": [
    "# Get all datset data with its label and put it in a list\n",
    "sequence, label = [], []\n",
    "target_length = 14\n",
    "for (root, folders, files) in os.walk(FOLDER_NAME):\n",
    "    total_file = 0\n",
    "    for filename in files:\n",
    "        file_path = os.path.join(os.path.relpath(\n",
    "            root, FOLDER_NAME), filename)\n",
    "        if (filename.endswith('.npy') and os.path.split(file_path)[0] in ALL_CLASSES):\n",
    "            res = np.load(f'{FOLDER_NAME}/{file_path}')\n",
    "            for _ in range(target_length-res.shape[0]):\n",
    "                res = np.vstack((res, res[-1, :]))\n",
    "            # uncomment this if you want to use only hands features\n",
    "            if(handsOnly):\n",
    "                res = res[:, -126:]\n",
    "            sequence.append(np.array(res))\n",
    "            label.append(label_map[os.path.basename(root[-1])])\n",
    "            total_file += 1\n",
    "    print(f\"Total files: {total_file} --- {root}\")\n",
    "\n",
    "print(np.array(sequence).shape)\n",
    "print(np.array(label).shape)"
   ]
  },
  {
   "cell_type": "code",
   "execution_count": 439,
   "metadata": {},
   "outputs": [
    {
     "name": "stdout",
     "output_type": "stream",
     "text": [
      "(2600, 14, 126)\n",
      "(2600,)\n"
     ]
    }
   ],
   "source": [
    "sequence = np.concatenate([sequence] * n, axis=0)\n",
    "label = np.concatenate([label] * n, axis=0)\n",
    "\n",
    "\n",
    "print(np.array(sequence).shape)\n",
    "print(np.array(label).shape)"
   ]
  },
  {
   "cell_type": "code",
   "execution_count": 440,
   "metadata": {},
   "outputs": [
    {
     "data": {
      "text/plain": [
       "[PhysicalDevice(name='/physical_device:GPU:0', device_type='GPU')]"
      ]
     },
     "execution_count": 440,
     "metadata": {},
     "output_type": "execute_result"
    }
   ],
   "source": [
    "tf.config.list_physical_devices('GPU')\n"
   ]
  },
  {
   "cell_type": "markdown",
   "metadata": {},
   "source": [
    "## Training Data"
   ]
  },
  {
   "cell_type": "code",
   "execution_count": 441,
   "metadata": {},
   "outputs": [
    {
     "name": "stdout",
     "output_type": "stream",
     "text": [
      "(2080, 14, 126) (520, 14, 126)\n"
     ]
    }
   ],
   "source": [
    "X_train, X_test, y_train, y_test = train_test_split(np.array(sequence), tf.keras.utils.to_categorical(\n",
    "    np.array(label).astype(int), num_classes=np.array(ALL_CLASSES).shape[0], dtype='float32'), test_size=0.2)\n",
    "\n",
    "print(X_train.shape, X_test.shape)\n"
   ]
  },
  {
   "cell_type": "code",
   "execution_count": 442,
   "metadata": {},
   "outputs": [
    {
     "name": "stdout",
     "output_type": "stream",
     "text": [
      "Logs\\126-tanh-lr-0001-dupli-2-100-epoch-20240822-211834\n"
     ]
    }
   ],
   "source": [
    "training_phase = str(np.array(sequence).shape[2]) + \"-tanh-lr-\" + str(learning_rate).replace(\"0.\", \"\") + \"-dupli-\" + str(n) + \"-\" + str(epoch) + \"-epoch-\" + datetime.now().strftime(\"%Y%m%d-%H%M%S\")\n",
    "log_dir = os.path.join('Logs', training_phase)\n",
    "tb_callback = TensorBoard(log_dir=log_dir)\n",
    "\n",
    "print(log_dir)\n",
    "\n",
    "model = Sequential()\n",
    "model.add(LSTM(64, return_sequences=True,\n",
    "               activation='tanh', input_shape=(14, np.array(sequence).shape[2])))\n",
    "model.add(LSTM(64, return_sequences=True, activation='tanh'))\n",
    "model.add(LSTM(64, return_sequences=False, activation='tanh'))\n",
    "model.add(Dense(64, activation='relu'))\n",
    "model.add(Dense(32, activation='relu'))\n",
    "model.add(Dense(np.array(ALL_CLASSES).shape[0], activation='softmax'))\n",
    "\n",
    "optimizer = Adam(learning_rate=learning_rate)\n",
    "\n",
    "model.compile(optimizer=optimizer, loss='categorical_crossentropy',\n",
    "              metrics=['categorical_accuracy'])"
   ]
  },
  {
   "cell_type": "code",
   "execution_count": 443,
   "metadata": {},
   "outputs": [
    {
     "name": "stdout",
     "output_type": "stream",
     "text": [
      "Epoch 1/100\n",
      "65/65 [==============================] - 5s 19ms/step - loss: 3.2316 - categorical_accuracy: 0.0452\n",
      "Epoch 2/100\n",
      "65/65 [==============================] - 1s 12ms/step - loss: 3.1385 - categorical_accuracy: 0.0803\n",
      "Epoch 3/100\n",
      "65/65 [==============================] - 1s 12ms/step - loss: 2.9835 - categorical_accuracy: 0.1043\n",
      "Epoch 4/100\n",
      "65/65 [==============================] - 1s 11ms/step - loss: 2.8036 - categorical_accuracy: 0.1510\n",
      "Epoch 5/100\n",
      "65/65 [==============================] - 1s 13ms/step - loss: 2.6095 - categorical_accuracy: 0.1731\n",
      "Epoch 6/100\n",
      "65/65 [==============================] - 1s 12ms/step - loss: 2.4027 - categorical_accuracy: 0.2288\n",
      "Epoch 7/100\n",
      "65/65 [==============================] - 1s 11ms/step - loss: 2.1837 - categorical_accuracy: 0.2952\n",
      "Epoch 8/100\n",
      "65/65 [==============================] - 1s 12ms/step - loss: 1.9973 - categorical_accuracy: 0.3683\n",
      "Epoch 9/100\n",
      "65/65 [==============================] - 1s 11ms/step - loss: 1.8400 - categorical_accuracy: 0.4038\n",
      "Epoch 10/100\n",
      "65/65 [==============================] - 1s 11ms/step - loss: 1.6650 - categorical_accuracy: 0.4918\n",
      "Epoch 11/100\n",
      "65/65 [==============================] - 2s 26ms/step - loss: 1.5300 - categorical_accuracy: 0.5587\n",
      "Epoch 12/100\n",
      "65/65 [==============================] - 1s 11ms/step - loss: 1.3955 - categorical_accuracy: 0.6149\n",
      "Epoch 13/100\n",
      "65/65 [==============================] - 1s 11ms/step - loss: 1.2797 - categorical_accuracy: 0.6572\n",
      "Epoch 14/100\n",
      "65/65 [==============================] - 1s 12ms/step - loss: 1.1705 - categorical_accuracy: 0.7125\n",
      "Epoch 15/100\n",
      "65/65 [==============================] - 1s 11ms/step - loss: 1.0591 - categorical_accuracy: 0.7543\n",
      "Epoch 16/100\n",
      "65/65 [==============================] - 2s 26ms/step - loss: 0.9685 - categorical_accuracy: 0.7788\n",
      "Epoch 17/100\n",
      "65/65 [==============================] - 1s 12ms/step - loss: 0.8659 - categorical_accuracy: 0.8293\n",
      "Epoch 18/100\n",
      "65/65 [==============================] - 1s 12ms/step - loss: 0.7455 - categorical_accuracy: 0.8534\n",
      "Epoch 19/100\n",
      "65/65 [==============================] - 1s 17ms/step - loss: 0.6912 - categorical_accuracy: 0.8687\n",
      "Epoch 20/100\n",
      "65/65 [==============================] - 1s 12ms/step - loss: 0.6157 - categorical_accuracy: 0.8808\n",
      "Epoch 21/100\n",
      "65/65 [==============================] - 1s 12ms/step - loss: 0.5548 - categorical_accuracy: 0.8923\n",
      "Epoch 22/100\n",
      "65/65 [==============================] - 1s 17ms/step - loss: 0.4887 - categorical_accuracy: 0.9120\n",
      "Epoch 23/100\n",
      "65/65 [==============================] - 1s 12ms/step - loss: 0.4727 - categorical_accuracy: 0.9024\n",
      "Epoch 24/100\n",
      "65/65 [==============================] - 1s 12ms/step - loss: 0.4120 - categorical_accuracy: 0.9101\n",
      "Epoch 25/100\n",
      "65/65 [==============================] - 1s 12ms/step - loss: 0.3614 - categorical_accuracy: 0.9298\n",
      "Epoch 26/100\n",
      "65/65 [==============================] - 1s 12ms/step - loss: 0.3418 - categorical_accuracy: 0.9279\n",
      "Epoch 27/100\n",
      "65/65 [==============================] - 1s 12ms/step - loss: 0.3095 - categorical_accuracy: 0.9394\n",
      "Epoch 28/100\n",
      "65/65 [==============================] - 1s 20ms/step - loss: 0.3100 - categorical_accuracy: 0.9212\n",
      "Epoch 29/100\n",
      "65/65 [==============================] - 1s 12ms/step - loss: 0.2681 - categorical_accuracy: 0.9442\n",
      "Epoch 30/100\n",
      "65/65 [==============================] - 1s 11ms/step - loss: 0.2554 - categorical_accuracy: 0.9409\n",
      "Epoch 31/100\n",
      "65/65 [==============================] - 1s 12ms/step - loss: 0.2332 - categorical_accuracy: 0.9495\n",
      "Epoch 32/100\n",
      "65/65 [==============================] - 1s 11ms/step - loss: 0.3215 - categorical_accuracy: 0.9159\n",
      "Epoch 33/100\n",
      "65/65 [==============================] - 1s 12ms/step - loss: 0.2147 - categorical_accuracy: 0.9399\n",
      "Epoch 34/100\n",
      "65/65 [==============================] - 1s 15ms/step - loss: 0.2098 - categorical_accuracy: 0.9457\n",
      "Epoch 35/100\n",
      "65/65 [==============================] - 1s 13ms/step - loss: 0.1856 - categorical_accuracy: 0.9500\n",
      "Epoch 36/100\n",
      "65/65 [==============================] - 1s 13ms/step - loss: 0.1875 - categorical_accuracy: 0.9457\n",
      "Epoch 37/100\n",
      "65/65 [==============================] - 1s 12ms/step - loss: 0.1741 - categorical_accuracy: 0.9548\n",
      "Epoch 38/100\n",
      "65/65 [==============================] - 1s 12ms/step - loss: 0.1665 - categorical_accuracy: 0.9534\n",
      "Epoch 39/100\n",
      "65/65 [==============================] - 1s 12ms/step - loss: 0.1569 - categorical_accuracy: 0.9572\n",
      "Epoch 40/100\n",
      "65/65 [==============================] - 1s 12ms/step - loss: 0.1500 - categorical_accuracy: 0.9591\n",
      "Epoch 41/100\n",
      "65/65 [==============================] - 1s 12ms/step - loss: 0.1631 - categorical_accuracy: 0.9476\n",
      "Epoch 42/100\n",
      "65/65 [==============================] - 1s 12ms/step - loss: 0.1541 - categorical_accuracy: 0.9529\n",
      "Epoch 43/100\n",
      "65/65 [==============================] - 1s 13ms/step - loss: 0.1381 - categorical_accuracy: 0.9611\n",
      "Epoch 44/100\n",
      "65/65 [==============================] - 1s 12ms/step - loss: 0.1690 - categorical_accuracy: 0.9481\n",
      "Epoch 45/100\n",
      "65/65 [==============================] - 1s 12ms/step - loss: 0.2055 - categorical_accuracy: 0.9255\n",
      "Epoch 46/100\n",
      "65/65 [==============================] - 1s 14ms/step - loss: 0.1594 - categorical_accuracy: 0.9519\n",
      "Epoch 47/100\n",
      "65/65 [==============================] - 1s 13ms/step - loss: 0.1219 - categorical_accuracy: 0.9678\n",
      "Epoch 48/100\n",
      "65/65 [==============================] - 1s 13ms/step - loss: 0.1178 - categorical_accuracy: 0.9615\n",
      "Epoch 49/100\n",
      "65/65 [==============================] - 1s 12ms/step - loss: 0.1317 - categorical_accuracy: 0.9654\n",
      "Epoch 50/100\n",
      "65/65 [==============================] - 1s 12ms/step - loss: 0.1345 - categorical_accuracy: 0.9601\n",
      "Epoch 51/100\n",
      "65/65 [==============================] - 1s 13ms/step - loss: 0.1151 - categorical_accuracy: 0.9659\n",
      "Epoch 52/100\n",
      "65/65 [==============================] - 1s 12ms/step - loss: 0.1544 - categorical_accuracy: 0.9481\n",
      "Epoch 53/100\n",
      "65/65 [==============================] - 1s 13ms/step - loss: 0.1101 - categorical_accuracy: 0.9678\n",
      "Epoch 54/100\n",
      "65/65 [==============================] - 1s 13ms/step - loss: 0.1120 - categorical_accuracy: 0.9649\n",
      "Epoch 55/100\n",
      "65/65 [==============================] - 1s 13ms/step - loss: 0.1364 - categorical_accuracy: 0.9534\n",
      "Epoch 56/100\n",
      "65/65 [==============================] - 1s 12ms/step - loss: 0.1315 - categorical_accuracy: 0.9558\n",
      "Epoch 57/100\n",
      "65/65 [==============================] - 1s 12ms/step - loss: 0.1070 - categorical_accuracy: 0.9692\n",
      "Epoch 58/100\n",
      "65/65 [==============================] - 1s 13ms/step - loss: 0.0948 - categorical_accuracy: 0.9726\n",
      "Epoch 59/100\n",
      "65/65 [==============================] - 1s 13ms/step - loss: 0.0824 - categorical_accuracy: 0.9788\n",
      "Epoch 60/100\n",
      "65/65 [==============================] - 1s 12ms/step - loss: 0.0895 - categorical_accuracy: 0.9769\n",
      "Epoch 61/100\n",
      "65/65 [==============================] - 1s 13ms/step - loss: 0.0810 - categorical_accuracy: 0.9803\n",
      "Epoch 62/100\n",
      "65/65 [==============================] - 1s 13ms/step - loss: 0.0855 - categorical_accuracy: 0.9726\n",
      "Epoch 63/100\n",
      "65/65 [==============================] - 1s 14ms/step - loss: 0.1239 - categorical_accuracy: 0.9548\n",
      "Epoch 64/100\n",
      "65/65 [==============================] - 1s 13ms/step - loss: 0.0772 - categorical_accuracy: 0.9784\n",
      "Epoch 65/100\n",
      "65/65 [==============================] - 1s 13ms/step - loss: 0.0710 - categorical_accuracy: 0.9808\n",
      "Epoch 66/100\n",
      "65/65 [==============================] - 1s 13ms/step - loss: 0.0849 - categorical_accuracy: 0.9760\n",
      "Epoch 67/100\n",
      "65/65 [==============================] - 1s 13ms/step - loss: 0.1035 - categorical_accuracy: 0.9688\n",
      "Epoch 68/100\n",
      "65/65 [==============================] - 2s 23ms/step - loss: 0.1553 - categorical_accuracy: 0.9505\n",
      "Epoch 69/100\n",
      "65/65 [==============================] - 1s 13ms/step - loss: 0.0782 - categorical_accuracy: 0.9760\n",
      "Epoch 70/100\n",
      "65/65 [==============================] - 1s 12ms/step - loss: 0.0552 - categorical_accuracy: 0.9880\n",
      "Epoch 71/100\n",
      "65/65 [==============================] - 1s 15ms/step - loss: 0.0567 - categorical_accuracy: 0.9832\n",
      "Epoch 72/100\n",
      "65/65 [==============================] - 1s 15ms/step - loss: 0.0566 - categorical_accuracy: 0.9851\n",
      "Epoch 73/100\n",
      "65/65 [==============================] - 1s 12ms/step - loss: 0.0475 - categorical_accuracy: 0.9894\n",
      "Epoch 74/100\n",
      "65/65 [==============================] - 1s 12ms/step - loss: 0.0554 - categorical_accuracy: 0.9817\n",
      "Epoch 75/100\n",
      "65/65 [==============================] - 1s 14ms/step - loss: 0.0672 - categorical_accuracy: 0.9784\n",
      "Epoch 76/100\n",
      "65/65 [==============================] - 1s 12ms/step - loss: 0.0656 - categorical_accuracy: 0.9827\n",
      "Epoch 77/100\n",
      "65/65 [==============================] - 1s 12ms/step - loss: 0.1137 - categorical_accuracy: 0.9567\n",
      "Epoch 78/100\n",
      "65/65 [==============================] - 1s 13ms/step - loss: 0.0517 - categorical_accuracy: 0.9846\n",
      "Epoch 79/100\n",
      "65/65 [==============================] - 1s 13ms/step - loss: 0.0441 - categorical_accuracy: 0.9904\n",
      "Epoch 80/100\n",
      "65/65 [==============================] - 1s 13ms/step - loss: 0.0470 - categorical_accuracy: 0.9875\n",
      "Epoch 81/100\n",
      "65/65 [==============================] - 1s 14ms/step - loss: 0.0413 - categorical_accuracy: 0.9889\n",
      "Epoch 82/100\n",
      "65/65 [==============================] - 1s 14ms/step - loss: 0.0496 - categorical_accuracy: 0.9861\n",
      "Epoch 83/100\n",
      "65/65 [==============================] - 1s 12ms/step - loss: 0.0327 - categorical_accuracy: 0.9923\n",
      "Epoch 84/100\n",
      "65/65 [==============================] - 1s 13ms/step - loss: 0.0404 - categorical_accuracy: 0.9885\n",
      "Epoch 85/100\n",
      "65/65 [==============================] - 1s 12ms/step - loss: 0.0726 - categorical_accuracy: 0.9755\n",
      "Epoch 86/100\n",
      "65/65 [==============================] - 1s 20ms/step - loss: 0.0464 - categorical_accuracy: 0.9875\n",
      "Epoch 87/100\n",
      "65/65 [==============================] - 1s 13ms/step - loss: 0.0423 - categorical_accuracy: 0.9875\n",
      "Epoch 88/100\n",
      "65/65 [==============================] - 1s 12ms/step - loss: 0.0424 - categorical_accuracy: 0.9865\n",
      "Epoch 89/100\n",
      "65/65 [==============================] - 1s 13ms/step - loss: 0.0533 - categorical_accuracy: 0.9817\n",
      "Epoch 90/100\n",
      "65/65 [==============================] - 1s 12ms/step - loss: 0.0477 - categorical_accuracy: 0.9851\n",
      "Epoch 91/100\n",
      "65/65 [==============================] - 1s 13ms/step - loss: 0.1699 - categorical_accuracy: 0.9466\n",
      "Epoch 92/100\n",
      "65/65 [==============================] - 1s 13ms/step - loss: 0.0957 - categorical_accuracy: 0.9649\n",
      "Epoch 93/100\n",
      "65/65 [==============================] - 1s 13ms/step - loss: 0.0490 - categorical_accuracy: 0.9870\n",
      "Epoch 94/100\n",
      "65/65 [==============================] - 1s 14ms/step - loss: 0.0505 - categorical_accuracy: 0.9851\n",
      "Epoch 95/100\n",
      "65/65 [==============================] - 1s 12ms/step - loss: 0.0328 - categorical_accuracy: 0.9923\n",
      "Epoch 96/100\n",
      "65/65 [==============================] - 1s 13ms/step - loss: 0.0242 - categorical_accuracy: 0.9957\n",
      "Epoch 97/100\n",
      "65/65 [==============================] - 1s 13ms/step - loss: 0.0319 - categorical_accuracy: 0.9899\n",
      "Epoch 98/100\n",
      "65/65 [==============================] - 1s 13ms/step - loss: 0.0268 - categorical_accuracy: 0.9933\n",
      "Epoch 99/100\n",
      "65/65 [==============================] - 1s 13ms/step - loss: 0.0303 - categorical_accuracy: 0.9909\n",
      "Epoch 100/100\n",
      "65/65 [==============================] - 1s 13ms/step - loss: 0.0412 - categorical_accuracy: 0.9861\n"
     ]
    },
    {
     "data": {
      "text/plain": [
       "<keras.callbacks.History at 0x201a67fad00>"
      ]
     },
     "execution_count": 443,
     "metadata": {},
     "output_type": "execute_result"
    }
   ],
   "source": [
    "model.fit(X_train, y_train, epochs=epoch, callbacks=[\n",
    "          tb_callback])"
   ]
  },
  {
   "cell_type": "code",
   "execution_count": 444,
   "metadata": {},
   "outputs": [
    {
     "name": "stdout",
     "output_type": "stream",
     "text": [
      "Model: \"sequential_31\"\n",
      "_________________________________________________________________\n",
      " Layer (type)                Output Shape              Param #   \n",
      "=================================================================\n",
      " lstm_93 (LSTM)              (None, 14, 64)            48896     \n",
      "                                                                 \n",
      " lstm_94 (LSTM)              (None, 14, 64)            33024     \n",
      "                                                                 \n",
      " lstm_95 (LSTM)              (None, 64)                33024     \n",
      "                                                                 \n",
      " dense_93 (Dense)            (None, 64)                4160      \n",
      "                                                                 \n",
      " dense_94 (Dense)            (None, 32)                2080      \n",
      "                                                                 \n",
      " dense_95 (Dense)            (None, 26)                858       \n",
      "                                                                 \n",
      "=================================================================\n",
      "Total params: 122,042\n",
      "Trainable params: 122,042\n",
      "Non-trainable params: 0\n",
      "_________________________________________________________________\n"
     ]
    }
   ],
   "source": [
    "model.summary()\n"
   ]
  },
  {
   "cell_type": "code",
   "execution_count": 445,
   "metadata": {},
   "outputs": [],
   "source": [
    "model.save(f'{log_dir}/action.h5')"
   ]
  },
  {
   "cell_type": "code",
   "execution_count": 446,
   "metadata": {},
   "outputs": [
    {
     "name": "stdout",
     "output_type": "stream",
     "text": [
      "17/17 [==============================] - 1s 7ms/step\n"
     ]
    }
   ],
   "source": [
    "res = model.predict(X_test)"
   ]
  },
  {
   "cell_type": "code",
   "execution_count": 447,
   "metadata": {},
   "outputs": [
    {
     "name": "stdout",
     "output_type": "stream",
     "text": [
      "17/17 [==============================] - 0s 7ms/step\n",
      "Training Phase: 126-tanh-lr-0001-dupli-2-100-epoch-20240822-211834\n",
      "\n",
      "\n",
      "Accuracy: 0.9846153846153847\n",
      "Precision: 0.9866515837104072\n",
      "Recall: 0.9846153846153847\n",
      "F1 Score: 0.984212158808933\n",
      "Loss: 0.04531312834892019\n",
      "\n"
     ]
    },
    {
     "name": "stderr",
     "output_type": "stream",
     "text": [
      "c:\\Users\\Kanzoon\\miniconda3\\envs\\tf\\lib\\site-packages\\sklearn\\metrics\\_classification.py:2916: UserWarning: The y_pred values do not sum to one. Starting from 1.5 thiswill result in an error.\n",
      "  warnings.warn(\n"
     ]
    }
   ],
   "source": [
    "import sys\n",
    "import io\n",
    "import os\n",
    "from datetime import datetime\n",
    "from sklearn.metrics import accuracy_score, precision_score, recall_score, f1_score, classification_report, log_loss\n",
    "import numpy as np\n",
    "\n",
    "# Create Logs directory if it doesn't exist\n",
    "if not os.path.exists('Logs'):\n",
    "    os.makedirs('Logs')\n",
    "\n",
    "# Assume X_test and y_test are your test dataset\n",
    "# Make predictions\n",
    "y_pred = model.predict(X_test)\n",
    "\n",
    "# Convert predictions to class labels\n",
    "y_pred_classes = np.argmax(y_pred, axis=1)\n",
    "y_true = np.argmax(y_test, axis=1)  # if y_test is one-hot encoded\n",
    "\n",
    "# Calculate accuracy\n",
    "accuracy = accuracy_score(y_true, y_pred_classes)\n",
    "\n",
    "# Calculate precision, recall, and F1 score for each class\n",
    "precision = precision_score(y_true, y_pred_classes, average='weighted')\n",
    "recall = recall_score(y_true, y_pred_classes, average='weighted')\n",
    "f1 = f1_score(y_true, y_pred_classes, average='weighted')\n",
    "\n",
    "# Infer the classes from y_test\n",
    "classes = np.unique(y_true)\n",
    "\n",
    "# Calculate log loss\n",
    "loss = log_loss(y_true, y_pred, labels=classes)\n",
    "\n",
    "# Redirect stdout to a string buffer\n",
    "old_stdout = sys.stdout\n",
    "sys.stdout = buffer = io.StringIO()\n",
    "\n",
    "print(f\"Training Phase: {training_phase}\\n\\n\")\n",
    "# Print the results\n",
    "print(f\"Accuracy: {accuracy}\")\n",
    "print(f\"Precision: {precision}\")\n",
    "print(f\"Recall: {recall}\")\n",
    "print(f\"F1 Score: {f1}\")\n",
    "print(f\"Loss: {loss}\")\n",
    "\n",
    "# Detailed classification report\n",
    "report = classification_report(y_true, y_pred_classes)\n",
    "\n",
    "# Restore stdout\n",
    "sys.stdout = old_stdout\n",
    "\n",
    "# Get the contents of the buffer\n",
    "output = buffer.getvalue()\n",
    "\n",
    "# Create the directory for the specific training phase if it doesn't exist\n",
    "phase_dir = f'Logs/{training_phase}'\n",
    "if not os.path.exists(phase_dir):\n",
    "    os.makedirs(phase_dir)\n",
    "\n",
    "# Save the output to a uniquely named text file in the Logs directory\n",
    "log_filename = f'{phase_dir}/summary.txt'\n",
    "with open(log_filename, 'w') as f:\n",
    "    f.write(output)\n",
    "    f.write(\"\\n\")\n",
    "    f.write(report)\n",
    "\n",
    "# Optionally, print the output to console as well\n",
    "print(output)\n"
   ]
  },
  {
   "cell_type": "code",
   "execution_count": 448,
   "metadata": {},
   "outputs": [
    {
     "name": "stdout",
     "output_type": "stream",
     "text": [
      "s s\n"
     ]
    }
   ],
   "source": [
    "actions = np.array(ALL_CLASSES)\n",
    "testing = 13\n",
    "print(actions[np.argmax(res[testing])], actions[np.argmax(y_test[testing])])"
   ]
  }
 ],
 "metadata": {
  "kernelspec": {
   "display_name": "tf",
   "language": "python",
   "name": "python3"
  },
  "language_info": {
   "codemirror_mode": {
    "name": "ipython",
    "version": 3
   },
   "file_extension": ".py",
   "mimetype": "text/x-python",
   "name": "python",
   "nbconvert_exporter": "python",
   "pygments_lexer": "ipython3",
   "version": "3.9.18"
  }
 },
 "nbformat": 4,
 "nbformat_minor": 2
}
