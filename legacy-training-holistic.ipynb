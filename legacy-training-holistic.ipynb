{
 "cells": [
  {
   "cell_type": "markdown",
   "metadata": {},
   "source": [
    "# Code for training the holistic model"
   ]
  },
  {
   "cell_type": "markdown",
   "metadata": {},
   "source": [
    "## Import Libraries \n"
   ]
  },
  {
   "cell_type": "code",
   "execution_count": 9,
   "metadata": {},
   "outputs": [],
   "source": [
    "from sklearn.model_selection import train_test_split\n",
    "import tensorflow as tf\n",
    "import numpy as np\n",
    "import os\n",
    "FOLDER_NAME = '../dataset'\n",
    "\n",
    "CLASSES = ['a', 'b', 'c', 'd', 'e', 'f', 'g', 'h', 'i', 'j', 'k', 'l', 'm', 'n', 'o', 'p', 'q', 'r', 's', 't', 'u', 'v', 'w', 'x', 'y', 'z']"
   ]
  },
  {
   "cell_type": "code",
   "execution_count": 10,
   "metadata": {},
   "outputs": [
    {
     "name": "stdout",
     "output_type": "stream",
     "text": [
      "{'a': 0, 'b': 1, 'c': 2, 'd': 3, 'e': 4, 'f': 5, 'g': 6, 'h': 7, 'i': 8, 'j': 9, 'k': 10, 'l': 11, 'm': 12, 'n': 13, 'o': 14, 'p': 15, 'r': 17, 's': 18, 't': 19, 'u': 20, 'v': 21, 'w': 22, 'x': 23, 'y': 24, 'z': 25}\n"
     ]
    }
   ],
   "source": [
    "# Create label map\n",
    "label_map = {}\n",
    "for (root, folders, files) in os.walk(FOLDER_NAME):\n",
    "    for foldername in folders:\n",
    "        if foldername in CLASSES:\n",
    "            label_map[foldername] = CLASSES.index(foldername)\n",
    "\n",
    "print(label_map)"
   ]
  },
  {
   "cell_type": "code",
   "execution_count": 11,
   "metadata": {},
   "outputs": [
    {
     "name": "stdout",
     "output_type": "stream",
     "text": [
      "(552, 14, 1662)\n",
      "(552,)\n"
     ]
    }
   ],
   "source": [
    "sequence, label = [], []\n",
    "target_length = 14\n",
    "for (root, folders, files) in os.walk(FOLDER_NAME):\n",
    "    for filename in files:\n",
    "        file_path = os.path.join(os.path.relpath(\n",
    "            root, FOLDER_NAME), filename)\n",
    "        if (filename.endswith('.npy') and os.path.split(file_path)[0] in CLASSES):\n",
    "            res = np.load(f'{FOLDER_NAME}/{file_path}')\n",
    "            for _ in range(target_length-res.shape[0]):\n",
    "                res = np.vstack((res, res[-1, :]))\n",
    "            sequence.append(np.array(res))\n",
    "            label.append(label_map[os.path.basename(root[-1])])\n",
    "\n",
    "print(np.array(sequence).shape)\n",
    "print(np.array(label).shape)"
   ]
  },
  {
   "cell_type": "code",
   "execution_count": 21,
   "metadata": {},
   "outputs": [
    {
     "name": "stdout",
     "output_type": "stream",
     "text": [
      "(1656, 14, 1662)\n",
      "(1656,)\n"
     ]
    }
   ],
   "source": [
    "# FOR DATA DUPLICATION\n",
    "sequence = np.concatenate([sequence, sequence, sequence, ], axis=0)\n",
    "label = np.concatenate([label, label, label], axis=0)\n",
    "\n",
    "print(np.array(sequence).shape)\n",
    "print(np.array(label).shape)\n"
   ]
  },
  {
   "cell_type": "code",
   "execution_count": 61,
   "metadata": {},
   "outputs": [
    {
     "name": "stdout",
     "output_type": "stream",
     "text": [
      "(1490, 14, 1662) (166, 14, 1662)\n"
     ]
    }
   ],
   "source": [
    "X_train, X_test, y_train, y_test = train_test_split(np.array(sequence), tf.keras.utils.to_categorical(\n",
    "    np.array(label).astype(int), num_classes=np.array(CLASSES).shape[0], dtype='float32'), test_size=0.1)\n",
    "\n",
    "print(X_train.shape, X_test.shape)\n"
   ]
  },
  {
   "cell_type": "code",
   "execution_count": 23,
   "metadata": {},
   "outputs": [],
   "source": [
    "from keras.models import Sequential\n",
    "from keras.layers import LSTM, Dense\n",
    "from keras.callbacks import TensorBoard\n"
   ]
  },
  {
   "cell_type": "code",
   "execution_count": 62,
   "metadata": {},
   "outputs": [],
   "source": [
    "log_dir = os.path.join('Logs')\n",
    "tb_callback = TensorBoard(log_dir=log_dir)\n"
   ]
  },
  {
   "cell_type": "code",
   "execution_count": 63,
   "metadata": {},
   "outputs": [],
   "source": [
    "model = Sequential()\n",
    "model.add(LSTM(64, return_sequences=True,\n",
    "          activation='tanh', input_shape=(14, 1662)))\n",
    "model.add(LSTM(128, return_sequences=True, activation='tanh'))\n",
    "model.add(LSTM(64, return_sequences=False, activation='tanh'))\n",
    "model.add(Dense(64, activation='relu'))\n",
    "model.add(Dense(32, activation='relu'))\n",
    "model.add(Dense(np.array(CLASSES).shape[0], activation='softmax'))\n"
   ]
  },
  {
   "cell_type": "code",
   "execution_count": 64,
   "metadata": {},
   "outputs": [],
   "source": [
    "model.compile(optimizer='adam', loss='categorical_crossentropy',\n",
    "              metrics=['categorical_accuracy'])\n"
   ]
  },
  {
   "cell_type": "code",
   "execution_count": 65,
   "metadata": {},
   "outputs": [
    {
     "data": {
      "text/plain": [
       "[PhysicalDevice(name='/physical_device:GPU:0', device_type='GPU')]"
      ]
     },
     "execution_count": 65,
     "metadata": {},
     "output_type": "execute_result"
    }
   ],
   "source": [
    "tf.config.list_physical_devices('GPU')\n"
   ]
  },
  {
   "cell_type": "code",
   "execution_count": 66,
   "metadata": {},
   "outputs": [
    {
     "name": "stdout",
     "output_type": "stream",
     "text": [
      "Epoch 1/200\n",
      "47/47 [==============================] - 4s 16ms/step - loss: 3.2141 - categorical_accuracy: 0.0718\n",
      "Epoch 2/200\n",
      "47/47 [==============================] - 1s 13ms/step - loss: 3.0844 - categorical_accuracy: 0.0537\n",
      "Epoch 3/200\n",
      "47/47 [==============================] - 1s 13ms/step - loss: 2.7582 - categorical_accuracy: 0.1094\n",
      "Epoch 4/200\n",
      "47/47 [==============================] - 1s 13ms/step - loss: 2.5457 - categorical_accuracy: 0.1275\n",
      "Epoch 5/200\n",
      "47/47 [==============================] - 1s 12ms/step - loss: 2.5051 - categorical_accuracy: 0.1322\n",
      "Epoch 6/200\n",
      "47/47 [==============================] - 1s 13ms/step - loss: 2.4989 - categorical_accuracy: 0.1128\n",
      "Epoch 7/200\n",
      "47/47 [==============================] - 1s 13ms/step - loss: 2.7344 - categorical_accuracy: 0.1074\n",
      "Epoch 8/200\n",
      "47/47 [==============================] - 1s 14ms/step - loss: 2.5022 - categorical_accuracy: 0.1215\n",
      "Epoch 9/200\n",
      "47/47 [==============================] - 1s 13ms/step - loss: 2.4916 - categorical_accuracy: 0.1289\n",
      "Epoch 10/200\n",
      "47/47 [==============================] - 1s 12ms/step - loss: 2.4903 - categorical_accuracy: 0.1235\n",
      "Epoch 11/200\n",
      "47/47 [==============================] - 1s 13ms/step - loss: 2.4915 - categorical_accuracy: 0.1215\n",
      "Epoch 12/200\n",
      "47/47 [==============================] - 1s 12ms/step - loss: 2.4864 - categorical_accuracy: 0.1329\n",
      "Epoch 13/200\n",
      "47/47 [==============================] - 1s 12ms/step - loss: 2.4869 - categorical_accuracy: 0.1315\n",
      "Epoch 14/200\n",
      "47/47 [==============================] - 1s 13ms/step - loss: 2.4841 - categorical_accuracy: 0.1295\n",
      "Epoch 15/200\n",
      "47/47 [==============================] - 1s 12ms/step - loss: 2.4858 - categorical_accuracy: 0.1060\n",
      "Epoch 16/200\n",
      "47/47 [==============================] - 1s 12ms/step - loss: 2.4798 - categorical_accuracy: 0.1228\n",
      "Epoch 17/200\n",
      "47/47 [==============================] - 1s 12ms/step - loss: 2.4815 - categorical_accuracy: 0.1638\n",
      "Epoch 18/200\n",
      "47/47 [==============================] - 1s 12ms/step - loss: 2.5316 - categorical_accuracy: 0.1228\n",
      "Epoch 19/200\n",
      "47/47 [==============================] - 1s 13ms/step - loss: 2.4477 - categorical_accuracy: 0.1510\n",
      "Epoch 20/200\n",
      "47/47 [==============================] - 1s 19ms/step - loss: 2.3842 - categorical_accuracy: 0.1685\n",
      "Epoch 21/200\n",
      "47/47 [==============================] - 1s 13ms/step - loss: 2.3297 - categorical_accuracy: 0.1631\n",
      "Epoch 22/200\n",
      "47/47 [==============================] - 1s 13ms/step - loss: 2.2827 - categorical_accuracy: 0.1711\n",
      "Epoch 23/200\n",
      "47/47 [==============================] - 1s 13ms/step - loss: 2.3354 - categorical_accuracy: 0.1718\n",
      "Epoch 24/200\n",
      "47/47 [==============================] - 1s 13ms/step - loss: 2.2247 - categorical_accuracy: 0.1846\n",
      "Epoch 25/200\n",
      "47/47 [==============================] - 1s 14ms/step - loss: 2.1975 - categorical_accuracy: 0.1980\n",
      "Epoch 26/200\n",
      "47/47 [==============================] - 1s 29ms/step - loss: 2.1755 - categorical_accuracy: 0.1852\n",
      "Epoch 27/200\n",
      "47/47 [==============================] - 1s 13ms/step - loss: 2.1065 - categorical_accuracy: 0.2148\n",
      "Epoch 28/200\n",
      "47/47 [==============================] - 1s 12ms/step - loss: 2.2803 - categorical_accuracy: 0.1651\n",
      "Epoch 29/200\n",
      "47/47 [==============================] - 1s 13ms/step - loss: 2.1407 - categorical_accuracy: 0.1919\n",
      "Epoch 30/200\n",
      "47/47 [==============================] - 1s 13ms/step - loss: 2.0558 - categorical_accuracy: 0.2161\n",
      "Epoch 31/200\n",
      "47/47 [==============================] - 1s 13ms/step - loss: 2.0137 - categorical_accuracy: 0.2101\n",
      "Epoch 32/200\n",
      "47/47 [==============================] - 1s 13ms/step - loss: 2.0611 - categorical_accuracy: 0.2034\n",
      "Epoch 33/200\n",
      "47/47 [==============================] - 1s 13ms/step - loss: 1.9431 - categorical_accuracy: 0.2443\n",
      "Epoch 34/200\n",
      "47/47 [==============================] - 1s 13ms/step - loss: 1.9626 - categorical_accuracy: 0.2208\n",
      "Epoch 35/200\n",
      "47/47 [==============================] - 1s 17ms/step - loss: 1.9554 - categorical_accuracy: 0.2497\n",
      "Epoch 36/200\n",
      "47/47 [==============================] - 1s 13ms/step - loss: 1.7916 - categorical_accuracy: 0.2852\n",
      "Epoch 37/200\n",
      "47/47 [==============================] - 1s 13ms/step - loss: 1.9447 - categorical_accuracy: 0.2423\n",
      "Epoch 38/200\n",
      "47/47 [==============================] - 1s 13ms/step - loss: 1.9008 - categorical_accuracy: 0.2611\n",
      "Epoch 39/200\n",
      "47/47 [==============================] - 1s 13ms/step - loss: 1.8876 - categorical_accuracy: 0.2383\n",
      "Epoch 40/200\n",
      "47/47 [==============================] - 1s 12ms/step - loss: 1.9424 - categorical_accuracy: 0.2570\n",
      "Epoch 41/200\n",
      "47/47 [==============================] - 1s 13ms/step - loss: 1.7849 - categorical_accuracy: 0.2826\n",
      "Epoch 42/200\n",
      "47/47 [==============================] - 1s 13ms/step - loss: 1.6489 - categorical_accuracy: 0.3154\n",
      "Epoch 43/200\n",
      "47/47 [==============================] - 1s 13ms/step - loss: 1.6704 - categorical_accuracy: 0.2960\n",
      "Epoch 44/200\n",
      "47/47 [==============================] - 1s 12ms/step - loss: 1.5602 - categorical_accuracy: 0.3329\n",
      "Epoch 45/200\n",
      "47/47 [==============================] - 1s 13ms/step - loss: 1.6241 - categorical_accuracy: 0.3154\n",
      "Epoch 46/200\n",
      "47/47 [==============================] - 1s 13ms/step - loss: 1.6406 - categorical_accuracy: 0.3161\n",
      "Epoch 47/200\n",
      "47/47 [==============================] - 1s 13ms/step - loss: 1.5907 - categorical_accuracy: 0.3577\n",
      "Epoch 48/200\n",
      "47/47 [==============================] - 1s 13ms/step - loss: 1.5063 - categorical_accuracy: 0.3705\n",
      "Epoch 49/200\n",
      "47/47 [==============================] - 1s 13ms/step - loss: 1.5887 - categorical_accuracy: 0.3356\n",
      "Epoch 50/200\n",
      "47/47 [==============================] - 1s 13ms/step - loss: 1.6309 - categorical_accuracy: 0.3221\n",
      "Epoch 51/200\n",
      "47/47 [==============================] - 1s 13ms/step - loss: 1.4254 - categorical_accuracy: 0.3993\n",
      "Epoch 52/200\n",
      "47/47 [==============================] - 1s 13ms/step - loss: 1.4698 - categorical_accuracy: 0.3852\n",
      "Epoch 53/200\n",
      "47/47 [==============================] - 1s 12ms/step - loss: 1.4402 - categorical_accuracy: 0.3966\n",
      "Epoch 54/200\n",
      "47/47 [==============================] - 1s 13ms/step - loss: 1.4079 - categorical_accuracy: 0.4114\n",
      "Epoch 55/200\n",
      "47/47 [==============================] - 1s 13ms/step - loss: 1.3502 - categorical_accuracy: 0.4349\n",
      "Epoch 56/200\n",
      "47/47 [==============================] - 1s 13ms/step - loss: 1.3778 - categorical_accuracy: 0.4154\n",
      "Epoch 57/200\n",
      "47/47 [==============================] - 1s 13ms/step - loss: 1.3516 - categorical_accuracy: 0.4235\n",
      "Epoch 58/200\n",
      "47/47 [==============================] - 1s 13ms/step - loss: 1.3563 - categorical_accuracy: 0.4161\n",
      "Epoch 59/200\n",
      "47/47 [==============================] - 1s 13ms/step - loss: 1.3824 - categorical_accuracy: 0.4302\n",
      "Epoch 60/200\n",
      "47/47 [==============================] - 1s 13ms/step - loss: 1.4445 - categorical_accuracy: 0.4295\n",
      "Epoch 61/200\n",
      "47/47 [==============================] - 1s 13ms/step - loss: 1.2442 - categorical_accuracy: 0.4919\n",
      "Epoch 62/200\n",
      "47/47 [==============================] - 1s 12ms/step - loss: 1.2109 - categorical_accuracy: 0.5107\n",
      "Epoch 63/200\n",
      "47/47 [==============================] - 1s 12ms/step - loss: 1.1625 - categorical_accuracy: 0.5148\n",
      "Epoch 64/200\n",
      "47/47 [==============================] - 1s 14ms/step - loss: 1.2070 - categorical_accuracy: 0.4966\n",
      "Epoch 65/200\n",
      "47/47 [==============================] - 1s 13ms/step - loss: 1.1278 - categorical_accuracy: 0.5228\n",
      "Epoch 66/200\n",
      "47/47 [==============================] - 1s 22ms/step - loss: 1.2415 - categorical_accuracy: 0.4993\n",
      "Epoch 67/200\n",
      "47/47 [==============================] - 1s 14ms/step - loss: 1.0896 - categorical_accuracy: 0.5537\n",
      "Epoch 68/200\n",
      "47/47 [==============================] - 1s 13ms/step - loss: 1.1380 - categorical_accuracy: 0.5195\n",
      "Epoch 69/200\n",
      "47/47 [==============================] - 1s 13ms/step - loss: 1.0699 - categorical_accuracy: 0.5470\n",
      "Epoch 70/200\n",
      "47/47 [==============================] - 1s 13ms/step - loss: 1.0453 - categorical_accuracy: 0.5510\n",
      "Epoch 71/200\n",
      "47/47 [==============================] - 1s 13ms/step - loss: 0.9894 - categorical_accuracy: 0.5738\n",
      "Epoch 72/200\n",
      "47/47 [==============================] - 1s 13ms/step - loss: 1.1160 - categorical_accuracy: 0.5235\n",
      "Epoch 73/200\n",
      "47/47 [==============================] - 1s 13ms/step - loss: 0.9177 - categorical_accuracy: 0.6174\n",
      "Epoch 74/200\n",
      "47/47 [==============================] - 1s 13ms/step - loss: 0.9800 - categorical_accuracy: 0.5906\n",
      "Epoch 75/200\n",
      "47/47 [==============================] - 1s 13ms/step - loss: 1.0040 - categorical_accuracy: 0.5638\n",
      "Epoch 76/200\n",
      "47/47 [==============================] - 1s 13ms/step - loss: 0.9277 - categorical_accuracy: 0.6094\n",
      "Epoch 77/200\n",
      "47/47 [==============================] - 1s 13ms/step - loss: 0.8805 - categorical_accuracy: 0.6188\n",
      "Epoch 78/200\n",
      "47/47 [==============================] - 1s 15ms/step - loss: 0.9037 - categorical_accuracy: 0.6181\n",
      "Epoch 79/200\n",
      "47/47 [==============================] - 1s 13ms/step - loss: 0.8297 - categorical_accuracy: 0.6477\n",
      "Epoch 80/200\n",
      "47/47 [==============================] - 1s 13ms/step - loss: 0.8365 - categorical_accuracy: 0.6490\n",
      "Epoch 81/200\n",
      "47/47 [==============================] - 1s 13ms/step - loss: 0.7964 - categorical_accuracy: 0.6779\n",
      "Epoch 82/200\n",
      "47/47 [==============================] - 1s 13ms/step - loss: 0.7783 - categorical_accuracy: 0.6691\n",
      "Epoch 83/200\n",
      "47/47 [==============================] - 1s 13ms/step - loss: 0.8944 - categorical_accuracy: 0.6235\n",
      "Epoch 84/200\n",
      "47/47 [==============================] - 1s 13ms/step - loss: 0.7501 - categorical_accuracy: 0.6872\n",
      "Epoch 85/200\n",
      "47/47 [==============================] - 1s 13ms/step - loss: 0.7139 - categorical_accuracy: 0.7081\n",
      "Epoch 86/200\n",
      "47/47 [==============================] - 1s 13ms/step - loss: 0.7404 - categorical_accuracy: 0.6812\n",
      "Epoch 87/200\n",
      "47/47 [==============================] - 1s 13ms/step - loss: 0.8506 - categorical_accuracy: 0.6517\n",
      "Epoch 88/200\n",
      "47/47 [==============================] - 1s 12ms/step - loss: 0.6979 - categorical_accuracy: 0.7094\n",
      "Epoch 89/200\n",
      "47/47 [==============================] - 1s 13ms/step - loss: 0.7383 - categorical_accuracy: 0.6872\n",
      "Epoch 90/200\n",
      "47/47 [==============================] - 1s 13ms/step - loss: 0.8944 - categorical_accuracy: 0.6221\n",
      "Epoch 91/200\n",
      "47/47 [==============================] - 1s 18ms/step - loss: 0.6888 - categorical_accuracy: 0.7067\n",
      "Epoch 92/200\n",
      "47/47 [==============================] - 1s 13ms/step - loss: 0.9685 - categorical_accuracy: 0.6208\n",
      "Epoch 93/200\n",
      "47/47 [==============================] - 1s 13ms/step - loss: 0.9071 - categorical_accuracy: 0.6349\n",
      "Epoch 94/200\n",
      "47/47 [==============================] - 1s 13ms/step - loss: 0.6234 - categorical_accuracy: 0.7409\n",
      "Epoch 95/200\n",
      "47/47 [==============================] - 1s 13ms/step - loss: 0.7851 - categorical_accuracy: 0.6698\n",
      "Epoch 96/200\n",
      "47/47 [==============================] - 1s 12ms/step - loss: 0.6609 - categorical_accuracy: 0.7134\n",
      "Epoch 97/200\n",
      "47/47 [==============================] - 1s 13ms/step - loss: 0.6724 - categorical_accuracy: 0.7154\n",
      "Epoch 98/200\n",
      "47/47 [==============================] - 1s 13ms/step - loss: 0.5712 - categorical_accuracy: 0.7523\n",
      "Epoch 99/200\n",
      "47/47 [==============================] - 1s 14ms/step - loss: 0.5876 - categorical_accuracy: 0.7570\n",
      "Epoch 100/200\n",
      "47/47 [==============================] - 1s 13ms/step - loss: 0.5634 - categorical_accuracy: 0.7658\n",
      "Epoch 101/200\n",
      "47/47 [==============================] - 1s 14ms/step - loss: 0.5525 - categorical_accuracy: 0.7664\n",
      "Epoch 102/200\n",
      "47/47 [==============================] - 1s 12ms/step - loss: 0.7111 - categorical_accuracy: 0.7074\n",
      "Epoch 103/200\n",
      "47/47 [==============================] - 1s 13ms/step - loss: 0.6828 - categorical_accuracy: 0.7054\n",
      "Epoch 104/200\n",
      "47/47 [==============================] - 1s 13ms/step - loss: 0.5790 - categorical_accuracy: 0.7544\n",
      "Epoch 105/200\n",
      "47/47 [==============================] - 1s 12ms/step - loss: 0.5286 - categorical_accuracy: 0.7832\n",
      "Epoch 106/200\n",
      "47/47 [==============================] - 1s 13ms/step - loss: 0.5465 - categorical_accuracy: 0.7725\n",
      "Epoch 107/200\n",
      "47/47 [==============================] - 1s 12ms/step - loss: 0.5480 - categorical_accuracy: 0.7758\n",
      "Epoch 108/200\n",
      "47/47 [==============================] - 1s 13ms/step - loss: 0.5579 - categorical_accuracy: 0.7631\n",
      "Epoch 109/200\n",
      "47/47 [==============================] - 1s 13ms/step - loss: 1.1302 - categorical_accuracy: 0.6114\n",
      "Epoch 110/200\n",
      "47/47 [==============================] - 1s 13ms/step - loss: 0.7154 - categorical_accuracy: 0.7067\n",
      "Epoch 111/200\n",
      "47/47 [==============================] - 1s 13ms/step - loss: 0.5275 - categorical_accuracy: 0.7886\n",
      "Epoch 112/200\n",
      "47/47 [==============================] - 1s 13ms/step - loss: 0.5304 - categorical_accuracy: 0.7638\n",
      "Epoch 113/200\n",
      "47/47 [==============================] - 1s 13ms/step - loss: 0.4799 - categorical_accuracy: 0.8000\n",
      "Epoch 114/200\n",
      "47/47 [==============================] - 1s 13ms/step - loss: 0.7663 - categorical_accuracy: 0.6919\n",
      "Epoch 115/200\n",
      "47/47 [==============================] - 1s 13ms/step - loss: 0.5591 - categorical_accuracy: 0.7671\n",
      "Epoch 116/200\n",
      "47/47 [==============================] - 1s 13ms/step - loss: 0.5204 - categorical_accuracy: 0.7946\n",
      "Epoch 117/200\n",
      "47/47 [==============================] - 1s 13ms/step - loss: 0.4702 - categorical_accuracy: 0.8007\n",
      "Epoch 118/200\n",
      "47/47 [==============================] - 1s 13ms/step - loss: 0.4163 - categorical_accuracy: 0.8309\n",
      "Epoch 119/200\n",
      "47/47 [==============================] - 1s 13ms/step - loss: 0.4574 - categorical_accuracy: 0.8094\n",
      "Epoch 120/200\n",
      "47/47 [==============================] - 1s 28ms/step - loss: 0.5025 - categorical_accuracy: 0.7960\n",
      "Epoch 121/200\n",
      "47/47 [==============================] - 1s 13ms/step - loss: 0.5153 - categorical_accuracy: 0.7933\n",
      "Epoch 122/200\n",
      "47/47 [==============================] - 1s 25ms/step - loss: 0.3863 - categorical_accuracy: 0.8530\n",
      "Epoch 123/200\n",
      "47/47 [==============================] - 1s 13ms/step - loss: 0.4844 - categorical_accuracy: 0.7993\n",
      "Epoch 124/200\n",
      "47/47 [==============================] - 1s 13ms/step - loss: 0.4806 - categorical_accuracy: 0.8174\n",
      "Epoch 125/200\n",
      "47/47 [==============================] - 1s 18ms/step - loss: 0.5558 - categorical_accuracy: 0.7852\n",
      "Epoch 126/200\n",
      "47/47 [==============================] - 1s 13ms/step - loss: 0.4929 - categorical_accuracy: 0.8047\n",
      "Epoch 127/200\n",
      "47/47 [==============================] - 1s 13ms/step - loss: 0.5251 - categorical_accuracy: 0.7879\n",
      "Epoch 128/200\n",
      "47/47 [==============================] - 1s 13ms/step - loss: 0.4732 - categorical_accuracy: 0.8020\n",
      "Epoch 129/200\n",
      "47/47 [==============================] - 1s 25ms/step - loss: 0.4718 - categorical_accuracy: 0.8027\n",
      "Epoch 130/200\n",
      "47/47 [==============================] - 1s 13ms/step - loss: 0.4703 - categorical_accuracy: 0.8081\n",
      "Epoch 131/200\n",
      "47/47 [==============================] - 1s 13ms/step - loss: 0.3631 - categorical_accuracy: 0.8691\n",
      "Epoch 132/200\n",
      "47/47 [==============================] - 1s 13ms/step - loss: 0.3751 - categorical_accuracy: 0.8477\n",
      "Epoch 133/200\n",
      "47/47 [==============================] - 1s 13ms/step - loss: 0.3718 - categorical_accuracy: 0.8463\n",
      "Epoch 134/200\n",
      "47/47 [==============================] - 1s 13ms/step - loss: 0.3902 - categorical_accuracy: 0.8497\n",
      "Epoch 135/200\n",
      "47/47 [==============================] - 1s 13ms/step - loss: 0.3051 - categorical_accuracy: 0.8785\n",
      "Epoch 136/200\n",
      "47/47 [==============================] - 1s 20ms/step - loss: 0.3997 - categorical_accuracy: 0.8356\n",
      "Epoch 137/200\n",
      "47/47 [==============================] - 1s 13ms/step - loss: 0.5149 - categorical_accuracy: 0.8034\n",
      "Epoch 138/200\n",
      "47/47 [==============================] - 1s 13ms/step - loss: 0.3999 - categorical_accuracy: 0.8430\n",
      "Epoch 139/200\n",
      "47/47 [==============================] - 1s 13ms/step - loss: 0.3332 - categorical_accuracy: 0.8725\n",
      "Epoch 140/200\n",
      "47/47 [==============================] - 1s 13ms/step - loss: 0.4246 - categorical_accuracy: 0.8282\n",
      "Epoch 141/200\n",
      "47/47 [==============================] - 1s 13ms/step - loss: 0.3984 - categorical_accuracy: 0.8517\n",
      "Epoch 142/200\n",
      "47/47 [==============================] - 1s 13ms/step - loss: 0.4319 - categorical_accuracy: 0.8383\n",
      "Epoch 143/200\n",
      "47/47 [==============================] - 1s 14ms/step - loss: 0.3469 - categorical_accuracy: 0.8718\n",
      "Epoch 144/200\n",
      "47/47 [==============================] - 1s 13ms/step - loss: 0.3380 - categorical_accuracy: 0.8651\n",
      "Epoch 145/200\n",
      "47/47 [==============================] - 1s 13ms/step - loss: 0.6296 - categorical_accuracy: 0.7899\n",
      "Epoch 146/200\n",
      "47/47 [==============================] - 1s 13ms/step - loss: 0.3459 - categorical_accuracy: 0.8557\n",
      "Epoch 147/200\n",
      "47/47 [==============================] - 1s 13ms/step - loss: 0.3368 - categorical_accuracy: 0.8604\n",
      "Epoch 148/200\n",
      "47/47 [==============================] - 1s 13ms/step - loss: 0.5362 - categorical_accuracy: 0.7879\n",
      "Epoch 149/200\n",
      "47/47 [==============================] - 1s 13ms/step - loss: 0.5675 - categorical_accuracy: 0.7651\n",
      "Epoch 150/200\n",
      "47/47 [==============================] - 1s 14ms/step - loss: 0.2970 - categorical_accuracy: 0.8799\n",
      "Epoch 151/200\n",
      "47/47 [==============================] - 1s 12ms/step - loss: 0.3859 - categorical_accuracy: 0.8497\n",
      "Epoch 152/200\n",
      "47/47 [==============================] - 1s 12ms/step - loss: 0.4832 - categorical_accuracy: 0.8054\n",
      "Epoch 153/200\n",
      "47/47 [==============================] - 1s 12ms/step - loss: 0.3395 - categorical_accuracy: 0.8624\n",
      "Epoch 154/200\n",
      "47/47 [==============================] - 1s 12ms/step - loss: 0.2535 - categorical_accuracy: 0.9000\n",
      "Epoch 155/200\n",
      "47/47 [==============================] - 1s 13ms/step - loss: 0.3484 - categorical_accuracy: 0.8725\n",
      "Epoch 156/200\n",
      "47/47 [==============================] - 1s 12ms/step - loss: 0.3442 - categorical_accuracy: 0.8678\n",
      "Epoch 157/200\n",
      "47/47 [==============================] - 1s 12ms/step - loss: 0.7295 - categorical_accuracy: 0.7570\n",
      "Epoch 158/200\n",
      "47/47 [==============================] - 1s 12ms/step - loss: 0.3749 - categorical_accuracy: 0.8490\n",
      "Epoch 159/200\n",
      "47/47 [==============================] - 1s 13ms/step - loss: 0.2663 - categorical_accuracy: 0.9060\n",
      "Epoch 160/200\n",
      "47/47 [==============================] - 1s 12ms/step - loss: 0.2154 - categorical_accuracy: 0.9228\n",
      "Epoch 161/200\n",
      "47/47 [==============================] - 1s 12ms/step - loss: 0.2132 - categorical_accuracy: 0.9181\n",
      "Epoch 162/200\n",
      "47/47 [==============================] - 1s 12ms/step - loss: 0.3215 - categorical_accuracy: 0.8738\n",
      "Epoch 163/200\n",
      "47/47 [==============================] - 1s 12ms/step - loss: 0.2238 - categorical_accuracy: 0.9101\n",
      "Epoch 164/200\n",
      "47/47 [==============================] - 1s 12ms/step - loss: 0.2003 - categorical_accuracy: 0.9195\n",
      "Epoch 165/200\n",
      "47/47 [==============================] - 1s 12ms/step - loss: 0.3032 - categorical_accuracy: 0.8826\n",
      "Epoch 166/200\n",
      "47/47 [==============================] - 1s 12ms/step - loss: 0.2968 - categorical_accuracy: 0.8839\n",
      "Epoch 167/200\n",
      "47/47 [==============================] - 1s 12ms/step - loss: 0.3545 - categorical_accuracy: 0.8671\n",
      "Epoch 168/200\n",
      "47/47 [==============================] - 1s 14ms/step - loss: 0.2741 - categorical_accuracy: 0.8913\n",
      "Epoch 169/200\n",
      "47/47 [==============================] - 1s 12ms/step - loss: 0.2355 - categorical_accuracy: 0.9114\n",
      "Epoch 170/200\n",
      "47/47 [==============================] - 1s 12ms/step - loss: 0.3124 - categorical_accuracy: 0.8872\n",
      "Epoch 171/200\n",
      "47/47 [==============================] - 1s 12ms/step - loss: 0.3442 - categorical_accuracy: 0.8624\n",
      "Epoch 172/200\n",
      "47/47 [==============================] - 1s 13ms/step - loss: 0.2024 - categorical_accuracy: 0.9275\n",
      "Epoch 173/200\n",
      "47/47 [==============================] - 1s 12ms/step - loss: 0.3077 - categorical_accuracy: 0.8799\n",
      "Epoch 174/200\n",
      "47/47 [==============================] - 1s 12ms/step - loss: 0.2186 - categorical_accuracy: 0.9242\n",
      "Epoch 175/200\n",
      "47/47 [==============================] - 1s 12ms/step - loss: 0.2093 - categorical_accuracy: 0.9201\n",
      "Epoch 176/200\n",
      "47/47 [==============================] - 1s 12ms/step - loss: 0.4832 - categorical_accuracy: 0.8262\n",
      "Epoch 177/200\n",
      "47/47 [==============================] - 1s 12ms/step - loss: 0.3315 - categorical_accuracy: 0.8812\n",
      "Epoch 178/200\n",
      "47/47 [==============================] - 1s 13ms/step - loss: 0.1680 - categorical_accuracy: 0.9383\n",
      "Epoch 179/200\n",
      "47/47 [==============================] - 1s 12ms/step - loss: 0.1549 - categorical_accuracy: 0.9389\n",
      "Epoch 180/200\n",
      "47/47 [==============================] - 1s 12ms/step - loss: 0.1481 - categorical_accuracy: 0.9430\n",
      "Epoch 181/200\n",
      "47/47 [==============================] - 1s 12ms/step - loss: 0.1437 - categorical_accuracy: 0.9470\n",
      "Epoch 182/200\n",
      "47/47 [==============================] - 1s 12ms/step - loss: 0.2354 - categorical_accuracy: 0.9134\n",
      "Epoch 183/200\n",
      "47/47 [==============================] - 1s 12ms/step - loss: 0.5017 - categorical_accuracy: 0.8188\n",
      "Epoch 184/200\n",
      "47/47 [==============================] - 1s 12ms/step - loss: 0.2843 - categorical_accuracy: 0.8899\n",
      "Epoch 185/200\n",
      "47/47 [==============================] - 1s 12ms/step - loss: 0.2083 - categorical_accuracy: 0.9275\n",
      "Epoch 186/200\n",
      "47/47 [==============================] - 1s 12ms/step - loss: 0.2758 - categorical_accuracy: 0.8933\n",
      "Epoch 187/200\n",
      "47/47 [==============================] - 1s 12ms/step - loss: 0.1697 - categorical_accuracy: 0.9456\n",
      "Epoch 188/200\n",
      "47/47 [==============================] - 1s 12ms/step - loss: 0.2285 - categorical_accuracy: 0.9121\n",
      "Epoch 189/200\n",
      "47/47 [==============================] - 1s 12ms/step - loss: 0.2565 - categorical_accuracy: 0.8919\n",
      "Epoch 190/200\n",
      "47/47 [==============================] - 1s 14ms/step - loss: 0.1583 - categorical_accuracy: 0.9430\n",
      "Epoch 191/200\n",
      "47/47 [==============================] - 1s 13ms/step - loss: 0.1701 - categorical_accuracy: 0.9315\n",
      "Epoch 192/200\n",
      "47/47 [==============================] - 1s 12ms/step - loss: 0.1929 - categorical_accuracy: 0.9275\n",
      "Epoch 193/200\n",
      "47/47 [==============================] - 1s 13ms/step - loss: 0.1222 - categorical_accuracy: 0.9503\n",
      "Epoch 194/200\n",
      "47/47 [==============================] - 1s 12ms/step - loss: 0.1577 - categorical_accuracy: 0.9443\n",
      "Epoch 195/200\n",
      "47/47 [==============================] - 1s 13ms/step - loss: 0.2439 - categorical_accuracy: 0.9027\n",
      "Epoch 196/200\n",
      "47/47 [==============================] - 1s 12ms/step - loss: 0.2046 - categorical_accuracy: 0.9275\n",
      "Epoch 197/200\n",
      "47/47 [==============================] - 1s 12ms/step - loss: 0.1854 - categorical_accuracy: 0.9221\n",
      "Epoch 198/200\n",
      "47/47 [==============================] - 1s 12ms/step - loss: 0.2545 - categorical_accuracy: 0.9060\n",
      "Epoch 199/200\n",
      "47/47 [==============================] - 1s 13ms/step - loss: 0.1634 - categorical_accuracy: 0.9409\n",
      "Epoch 200/200\n",
      "47/47 [==============================] - 1s 12ms/step - loss: 0.1869 - categorical_accuracy: 0.9295\n"
     ]
    },
    {
     "data": {
      "text/plain": [
       "<keras.callbacks.History at 0x23bbd508e50>"
      ]
     },
     "execution_count": 66,
     "metadata": {},
     "output_type": "execute_result"
    }
   ],
   "source": [
    "model.fit(X_train, y_train, epochs=200, callbacks=[tb_callback])\n"
   ]
  },
  {
   "cell_type": "code",
   "execution_count": 67,
   "metadata": {},
   "outputs": [
    {
     "name": "stdout",
     "output_type": "stream",
     "text": [
      "Model: \"sequential_2\"\n",
      "_________________________________________________________________\n",
      " Layer (type)                Output Shape              Param #   \n",
      "=================================================================\n",
      " lstm_6 (LSTM)               (None, 14, 64)            442112    \n",
      "                                                                 \n",
      " lstm_7 (LSTM)               (None, 14, 128)           98816     \n",
      "                                                                 \n",
      " lstm_8 (LSTM)               (None, 64)                49408     \n",
      "                                                                 \n",
      " dense_6 (Dense)             (None, 64)                4160      \n",
      "                                                                 \n",
      " dense_7 (Dense)             (None, 32)                2080      \n",
      "                                                                 \n",
      " dense_8 (Dense)             (None, 26)                858       \n",
      "                                                                 \n",
      "=================================================================\n",
      "Total params: 597,434\n",
      "Trainable params: 597,434\n",
      "Non-trainable params: 0\n",
      "_________________________________________________________________\n"
     ]
    }
   ],
   "source": [
    "model.summary()\n"
   ]
  },
  {
   "cell_type": "code",
   "execution_count": 68,
   "metadata": {},
   "outputs": [
    {
     "name": "stdout",
     "output_type": "stream",
     "text": [
      "6/6 [==============================] - 1s 19ms/step\n"
     ]
    }
   ],
   "source": [
    "res = model.predict(X_test)"
   ]
  },
  {
   "cell_type": "code",
   "execution_count": 69,
   "metadata": {},
   "outputs": [
    {
     "name": "stdout",
     "output_type": "stream",
     "text": [
      "6/6 [==============================] - 0s 19ms/step\n",
      "Accuracy: 0.9156626506024096\n",
      "Precision: 0.933082329317269\n",
      "Recall: 0.9156626506024096\n",
      "F1 Score: 0.9102202000316194\n",
      "              precision    recall  f1-score   support\n",
      "\n",
      "           0       1.00      0.64      0.78        11\n",
      "           1       1.00      1.00      1.00         6\n",
      "           2       1.00      1.00      1.00         2\n",
      "           3       1.00      1.00      1.00         3\n",
      "           4       1.00      0.91      0.95        11\n",
      "           5       1.00      1.00      1.00        14\n",
      "           6       1.00      1.00      1.00         6\n",
      "           7       0.73      1.00      0.85        11\n",
      "           8       0.75      1.00      0.86         9\n",
      "           9       1.00      1.00      1.00         4\n",
      "          10       1.00      1.00      1.00         7\n",
      "          11       0.92      1.00      0.96        11\n",
      "          12       1.00      1.00      1.00         9\n",
      "          13       1.00      1.00      1.00         8\n",
      "          14       1.00      0.40      0.57         5\n",
      "          15       0.62      1.00      0.77         5\n",
      "          17       1.00      0.83      0.91         6\n",
      "          18       0.67      0.57      0.62         7\n",
      "          19       1.00      0.33      0.50         3\n",
      "          20       0.80      1.00      0.89         4\n",
      "          21       1.00      1.00      1.00         2\n",
      "          22       1.00      1.00      1.00         9\n",
      "          23       1.00      1.00      1.00         6\n",
      "          24       1.00      1.00      1.00         5\n",
      "          25       1.00      1.00      1.00         2\n",
      "\n",
      "    accuracy                           0.92       166\n",
      "   macro avg       0.94      0.91      0.91       166\n",
      "weighted avg       0.93      0.92      0.91       166\n",
      "\n"
     ]
    }
   ],
   "source": [
    "import numpy as np\n",
    "from sklearn.metrics import accuracy_score, precision_score, recall_score, f1_score, classification_report\n",
    "\n",
    "# Assume X_test and y_test are your test dataset\n",
    "# Make predictions\n",
    "y_pred = model.predict(X_test)\n",
    "\n",
    "# Convert predictions to class labels\n",
    "y_pred_classes = np.argmax(y_pred, axis=1)\n",
    "y_true = np.argmax(y_test, axis=1)  # if y_test is one-hot encoded\n",
    "\n",
    "# Calculate accuracy\n",
    "accuracy = accuracy_score(y_true, y_pred_classes)\n",
    "\n",
    "# Calculate precision, recall, and F1 score for each class\n",
    "precision = precision_score(y_true, y_pred_classes, average='weighted')\n",
    "recall = recall_score(y_true, y_pred_classes, average='weighted')\n",
    "f1 = f1_score(y_true, y_pred_classes, average='weighted')\n",
    "\n",
    "# Print the results\n",
    "print(f\"Accuracy: {accuracy}\")\n",
    "print(f\"Precision: {precision}\")\n",
    "print(f\"Recall: {recall}\")\n",
    "print(f\"F1 Score: {f1}\")\n",
    "\n",
    "# Detailed classification report\n",
    "report = classification_report(y_true, y_pred_classes)\n",
    "print(report)\n"
   ]
  },
  {
   "cell_type": "code",
   "execution_count": 75,
   "metadata": {},
   "outputs": [
    {
     "name": "stdout",
     "output_type": "stream",
     "text": [
      "f f\n"
     ]
    }
   ],
   "source": [
    "actions = np.array(CLASSES)\n",
    "testing = 17\n",
    "print(actions[np.argmax(res[testing])], actions[np.argmax(y_test[testing])])"
   ]
  },
  {
   "cell_type": "code",
   "execution_count": 76,
   "metadata": {},
   "outputs": [],
   "source": [
    "model.save('action.h5')"
   ]
  },
  {
   "cell_type": "code",
   "execution_count": 77,
   "metadata": {},
   "outputs": [],
   "source": [
    "model.load_weights('action.h5')"
   ]
  },
  {
   "cell_type": "code",
   "execution_count": 78,
   "metadata": {},
   "outputs": [
    {
     "name": "stdout",
     "output_type": "stream",
     "text": [
      "6/6 [==============================] - 0s 20ms/step\n"
     ]
    }
   ],
   "source": [
    "yhat = model.predict(X_test)"
   ]
  },
  {
   "cell_type": "code",
   "execution_count": 79,
   "metadata": {},
   "outputs": [],
   "source": [
    "ytrue = np.argmax(y_test, axis=1).tolist()\n"
   ]
  },
  {
   "cell_type": "code",
   "execution_count": 80,
   "metadata": {},
   "outputs": [],
   "source": [
    "yhat = np.argmax(yhat, axis=1).tolist()"
   ]
  },
  {
   "cell_type": "code",
   "execution_count": 81,
   "metadata": {},
   "outputs": [
    {
     "data": {
      "text/plain": [
       "array([[[155,   0],\n",
       "        [  4,   7]],\n",
       "\n",
       "       [[160,   0],\n",
       "        [  0,   6]],\n",
       "\n",
       "       [[164,   0],\n",
       "        [  0,   2]],\n",
       "\n",
       "       [[163,   0],\n",
       "        [  0,   3]],\n",
       "\n",
       "       [[155,   0],\n",
       "        [  1,  10]],\n",
       "\n",
       "       [[152,   0],\n",
       "        [  0,  14]],\n",
       "\n",
       "       [[160,   0],\n",
       "        [  0,   6]],\n",
       "\n",
       "       [[151,   4],\n",
       "        [  0,  11]],\n",
       "\n",
       "       [[154,   3],\n",
       "        [  0,   9]],\n",
       "\n",
       "       [[162,   0],\n",
       "        [  0,   4]],\n",
       "\n",
       "       [[159,   0],\n",
       "        [  0,   7]],\n",
       "\n",
       "       [[154,   1],\n",
       "        [  0,  11]],\n",
       "\n",
       "       [[157,   0],\n",
       "        [  0,   9]],\n",
       "\n",
       "       [[158,   0],\n",
       "        [  0,   8]],\n",
       "\n",
       "       [[161,   0],\n",
       "        [  3,   2]],\n",
       "\n",
       "       [[158,   3],\n",
       "        [  0,   5]],\n",
       "\n",
       "       [[160,   0],\n",
       "        [  1,   5]],\n",
       "\n",
       "       [[157,   2],\n",
       "        [  3,   4]],\n",
       "\n",
       "       [[163,   0],\n",
       "        [  2,   1]],\n",
       "\n",
       "       [[161,   1],\n",
       "        [  0,   4]],\n",
       "\n",
       "       [[164,   0],\n",
       "        [  0,   2]],\n",
       "\n",
       "       [[157,   0],\n",
       "        [  0,   9]],\n",
       "\n",
       "       [[160,   0],\n",
       "        [  0,   6]],\n",
       "\n",
       "       [[161,   0],\n",
       "        [  0,   5]],\n",
       "\n",
       "       [[164,   0],\n",
       "        [  0,   2]]], dtype=int64)"
      ]
     },
     "execution_count": 81,
     "metadata": {},
     "output_type": "execute_result"
    }
   ],
   "source": [
    "from sklearn.metrics import multilabel_confusion_matrix, accuracy_score\n",
    "multilabel_confusion_matrix(ytrue, yhat)"
   ]
  },
  {
   "cell_type": "code",
   "execution_count": 82,
   "metadata": {},
   "outputs": [
    {
     "data": {
      "text/plain": [
       "0.9156626506024096"
      ]
     },
     "execution_count": 82,
     "metadata": {},
     "output_type": "execute_result"
    }
   ],
   "source": [
    "accuracy_score(ytrue, yhat)"
   ]
  }
 ],
 "metadata": {
  "kernelspec": {
   "display_name": "tf",
   "language": "python",
   "name": "python3"
  },
  "language_info": {
   "codemirror_mode": {
    "name": "ipython",
    "version": 3
   },
   "file_extension": ".py",
   "mimetype": "text/x-python",
   "name": "python",
   "nbconvert_exporter": "python",
   "pygments_lexer": "ipython3",
   "version": "3.9.18"
  },
  "orig_nbformat": 4
 },
 "nbformat": 4,
 "nbformat_minor": 2
}
