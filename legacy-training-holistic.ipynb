{
 "cells": [
  {
   "cell_type": "markdown",
   "metadata": {},
   "source": [
    "# Code for training the holistic model"
   ]
  },
  {
   "cell_type": "markdown",
   "metadata": {},
   "source": [
    "## Import Libraries \n"
   ]
  },
  {
   "cell_type": "code",
   "execution_count": 1,
   "metadata": {},
   "outputs": [],
   "source": [
    "import tensorflow as tf\n",
    "import numpy as np\n",
    "import os\n",
    "from datetime import datetime\n",
    "\n",
    "from keras.models import Sequential\n",
    "from keras.layers import LSTM, Dense\n",
    "from keras.callbacks import TensorBoard\n",
    "\n",
    "from sklearn.model_selection import train_test_split\n",
    "from sklearn.metrics import multilabel_confusion_matrix, accuracy_score, precision_score, recall_score, f1_score, classification_report"
   ]
  },
  {
   "cell_type": "markdown",
   "metadata": {},
   "source": [
    "## Setup Variables"
   ]
  },
  {
   "cell_type": "code",
   "execution_count": 2,
   "metadata": {},
   "outputs": [],
   "source": [
    "FOLDER_NAME = 'dataset'\n",
    "ALL_CLASSES = ['a', 'b', 'c', 'd', 'e', 'f', 'g', 'h', 'i', 'j', 'k', 'l', 'm', 'n', 'o', 'p', 'q', 'r', 's', 't', 'u', 'v', 'w', 'x', 'y', 'z']"
   ]
  },
  {
   "cell_type": "code",
   "execution_count": 3,
   "metadata": {},
   "outputs": [
    {
     "name": "stdout",
     "output_type": "stream",
     "text": [
      "{'a': 0, 'b': 1, 'c': 2, 'd': 3, 'e': 4, 'f': 5, 'g': 6, 'h': 7, 'i': 8, 'j': 9, 'k': 10, 'l': 11, 'm': 12, 'n': 13, 'o': 14, 'p': 15, 'r': 17, 's': 18, 't': 19, 'u': 20, 'v': 21, 'w': 22, 'x': 23, 'y': 24, 'z': 25}\n"
     ]
    }
   ],
   "source": [
    "# Create label map, representing each class as a number\n",
    "label_map = {}\n",
    "for (root, folders, files) in os.walk(FOLDER_NAME):\n",
    "    for foldername in folders:\n",
    "        if foldername in ALL_CLASSES:\n",
    "            label_map[foldername] = ALL_CLASSES.index(foldername)\n",
    "\n",
    "print(label_map)"
   ]
  },
  {
   "cell_type": "code",
   "execution_count": 4,
   "metadata": {},
   "outputs": [
    {
     "name": "stdout",
     "output_type": "stream",
     "text": [
      "Total files: 0 --- dataset\n",
      "Total files: 40 --- dataset\\a\n",
      "Total files: 24 --- dataset\\b\n",
      "Total files: 20 --- dataset\\c\n",
      "Total files: 20 --- dataset\\d\n",
      "Total files: 19 --- dataset\\e\n",
      "Total files: 30 --- dataset\\f\n",
      "Total files: 20 --- dataset\\g\n",
      "Total files: 30 --- dataset\\h\n",
      "Total files: 30 --- dataset\\i\n",
      "Total files: 22 --- dataset\\j\n",
      "Total files: 20 --- dataset\\k\n",
      "Total files: 35 --- dataset\\l\n",
      "Total files: 22 --- dataset\\m\n",
      "Total files: 21 --- dataset\\n\n",
      "Total files: 30 --- dataset\\o\n",
      "Total files: 19 --- dataset\\p\n",
      "Total files: 20 --- dataset\\r\n",
      "Total files: 21 --- dataset\\s\n",
      "Total files: 10 --- dataset\\t\n",
      "Total files: 29 --- dataset\\u\n",
      "Total files: 20 --- dataset\\v\n",
      "Total files: 20 --- dataset\\w\n",
      "Total files: 10 --- dataset\\x\n",
      "Total files: 10 --- dataset\\y\n",
      "Total files: 60 --- dataset\\z\n",
      "(602, 14, 126)\n",
      "(602,)\n"
     ]
    }
   ],
   "source": [
    "# Get all datset data with its label and put it in a list\n",
    "sequence, label = [], []\n",
    "target_length = 14\n",
    "for (root, folders, files) in os.walk(FOLDER_NAME):\n",
    "    total_file = 0\n",
    "    for filename in files:\n",
    "        file_path = os.path.join(os.path.relpath(\n",
    "            root, FOLDER_NAME), filename)\n",
    "        if (filename.endswith('.npy') and os.path.split(file_path)[0] in ALL_CLASSES):\n",
    "            res = np.load(f'{FOLDER_NAME}/{file_path}')\n",
    "            for _ in range(target_length-res.shape[0]):\n",
    "                res = np.vstack((res, res[-1, :]))\n",
    "            res = res[:, -126:]\n",
    "            sequence.append(np.array(res))\n",
    "            label.append(label_map[os.path.basename(root[-1])])\n",
    "            total_file += 1\n",
    "    print(f\"Total files: {total_file} --- {root}\")\n",
    "\n",
    "print(np.array(sequence).shape)\n",
    "print(np.array(label).shape)"
   ]
  },
  {
   "cell_type": "code",
   "execution_count": 6,
   "metadata": {},
   "outputs": [
    {
     "name": "stdout",
     "output_type": "stream",
     "text": [
      "(2408, 14, 126)\n",
      "(2408,)\n"
     ]
    }
   ],
   "source": [
    "# Dataset duplication if necessary\n",
    "n = 2\n",
    "sequence = np.concatenate([sequence] * n, axis=0)\n",
    "label = np.concatenate([label] * n, axis=0)\n",
    "\n",
    "\n",
    "print(np.array(sequence).shape)\n",
    "print(np.array(label).shape)"
   ]
  },
  {
   "cell_type": "code",
   "execution_count": 7,
   "metadata": {},
   "outputs": [
    {
     "data": {
      "text/plain": [
       "[PhysicalDevice(name='/physical_device:GPU:0', device_type='GPU')]"
      ]
     },
     "execution_count": 7,
     "metadata": {},
     "output_type": "execute_result"
    }
   ],
   "source": [
    "tf.config.list_physical_devices('GPU')\n"
   ]
  },
  {
   "cell_type": "markdown",
   "metadata": {},
   "source": [
    "## Training Data"
   ]
  },
  {
   "cell_type": "code",
   "execution_count": 8,
   "metadata": {},
   "outputs": [
    {
     "name": "stdout",
     "output_type": "stream",
     "text": [
      "(1926, 14, 126) (482, 14, 126)\n"
     ]
    }
   ],
   "source": [
    "X_train, X_test, y_train, y_test = train_test_split(np.array(sequence), tf.keras.utils.to_categorical(\n",
    "    np.array(label).astype(int), num_classes=np.array(ALL_CLASSES).shape[0], dtype='float32'), test_size=0.2)\n",
    "\n",
    "print(X_train.shape, X_test.shape)\n"
   ]
  },
  {
   "cell_type": "code",
   "execution_count": 9,
   "metadata": {},
   "outputs": [
    {
     "name": "stdout",
     "output_type": "stream",
     "text": [
      "Other data shape: (1926, 14, 126)\n",
      "Hands data shape: (1926, 14, 0)\n"
     ]
    }
   ],
   "source": [
    "pose_end = 33 * 4  # 132\n",
    "face_end = pose_end + 468 * 3  # 1536\n",
    "lh_end = face_end + 21 * 3  # 1599\n",
    "rh_end = lh_end + 21 * 3  # 1662\n",
    "\n",
    "# Separate the data\n",
    "other_data = X_train[:, :, :face_end]  # Include pose and face\n",
    "hands_data = X_train[:, :, face_end:]  # Include left and right hand\n",
    "\n",
    "print(\"Other data shape:\", other_data.shape)\n",
    "print(\"Hands data shape:\", hands_data.shape)\n",
    "\n"
   ]
  },
  {
   "cell_type": "code",
   "execution_count": 10,
   "metadata": {},
   "outputs": [
    {
     "name": "stdout",
     "output_type": "stream",
     "text": [
      "Logs\\20240627-194439\n"
     ]
    }
   ],
   "source": [
    "current_time = datetime.now().strftime(\"%Y%m%d-%H%M%S\")\n",
    "\n",
    "log_dir = os.path.join('Logs', current_time)\n",
    "tb_callback = TensorBoard(log_dir=log_dir)\n",
    "\n",
    "print(log_dir)\n",
    "\n",
    "model = Sequential()\n",
    "model.add(LSTM(64, return_sequences=True,\n",
    "          activation='tanh', input_shape=(14, 126)))\n",
    "model.add(LSTM(128, return_sequences=True, activation='tanh'))\n",
    "model.add(LSTM(64, return_sequences=False, activation='tanh'))\n",
    "model.add(Dense(64, activation='relu'))\n",
    "model.add(Dense(32, activation='relu'))\n",
    "model.add(Dense(np.array(ALL_CLASSES).shape[0], activation='softmax'))\n",
    "\n",
    "model.compile(optimizer='adam', loss='categorical_crossentropy',\n",
    "              metrics=['categorical_accuracy'])"
   ]
  },
  {
   "cell_type": "code",
   "execution_count": 11,
   "metadata": {},
   "outputs": [
    {
     "name": "stdout",
     "output_type": "stream",
     "text": [
      "Epoch 1/200\n",
      "61/61 [==============================] - 10s 15ms/step - loss: 2.9041 - categorical_accuracy: 0.1241\n",
      "Epoch 2/200\n",
      "61/61 [==============================] - 1s 13ms/step - loss: 2.2348 - categorical_accuracy: 0.2586\n",
      "Epoch 3/200\n",
      "61/61 [==============================] - 1s 12ms/step - loss: 1.9277 - categorical_accuracy: 0.2908\n",
      "Epoch 4/200\n",
      "61/61 [==============================] - 1s 21ms/step - loss: 1.7783 - categorical_accuracy: 0.3032\n",
      "Epoch 5/200\n",
      "61/61 [==============================] - 1s 13ms/step - loss: 1.6413 - categorical_accuracy: 0.3593\n",
      "Epoch 6/200\n",
      "61/61 [==============================] - 2s 25ms/step - loss: 1.5452 - categorical_accuracy: 0.3884\n",
      "Epoch 7/200\n",
      "61/61 [==============================] - 1s 13ms/step - loss: 1.5020 - categorical_accuracy: 0.4050\n",
      "Epoch 8/200\n",
      "61/61 [==============================] - 1s 14ms/step - loss: 1.3841 - categorical_accuracy: 0.4476\n",
      "Epoch 9/200\n",
      "61/61 [==============================] - 1s 13ms/step - loss: 1.3225 - categorical_accuracy: 0.4735\n",
      "Epoch 10/200\n",
      "61/61 [==============================] - 1s 13ms/step - loss: 1.3253 - categorical_accuracy: 0.4611\n",
      "Epoch 11/200\n",
      "61/61 [==============================] - 1s 16ms/step - loss: 1.1137 - categorical_accuracy: 0.5358\n",
      "Epoch 12/200\n",
      "61/61 [==============================] - 1s 13ms/step - loss: 1.2271 - categorical_accuracy: 0.5151\n",
      "Epoch 13/200\n",
      "61/61 [==============================] - 1s 13ms/step - loss: 1.1443 - categorical_accuracy: 0.5436\n",
      "Epoch 14/200\n",
      "61/61 [==============================] - 1s 13ms/step - loss: 1.0379 - categorical_accuracy: 0.5613\n",
      "Epoch 15/200\n",
      "61/61 [==============================] - 1s 12ms/step - loss: 1.0533 - categorical_accuracy: 0.5789\n",
      "Epoch 16/200\n",
      "61/61 [==============================] - 1s 12ms/step - loss: 0.9088 - categorical_accuracy: 0.6277\n",
      "Epoch 17/200\n",
      "61/61 [==============================] - 1s 12ms/step - loss: 1.0382 - categorical_accuracy: 0.5805\n",
      "Epoch 18/200\n",
      "61/61 [==============================] - 1s 15ms/step - loss: 0.8511 - categorical_accuracy: 0.6542\n",
      "Epoch 19/200\n",
      "61/61 [==============================] - 1s 12ms/step - loss: 0.7774 - categorical_accuracy: 0.7066\n",
      "Epoch 20/200\n",
      "61/61 [==============================] - 1s 13ms/step - loss: 1.1360 - categorical_accuracy: 0.5696\n",
      "Epoch 21/200\n",
      "61/61 [==============================] - 1s 12ms/step - loss: 0.7886 - categorical_accuracy: 0.7035\n",
      "Epoch 22/200\n",
      "61/61 [==============================] - 1s 13ms/step - loss: 0.7882 - categorical_accuracy: 0.7009\n",
      "Epoch 23/200\n",
      "61/61 [==============================] - 1s 13ms/step - loss: 0.7177 - categorical_accuracy: 0.7316\n",
      "Epoch 24/200\n",
      "61/61 [==============================] - 1s 23ms/step - loss: 0.8964 - categorical_accuracy: 0.6698\n",
      "Epoch 25/200\n",
      "61/61 [==============================] - 1s 13ms/step - loss: 0.7376 - categorical_accuracy: 0.7160\n",
      "Epoch 26/200\n",
      "61/61 [==============================] - 1s 12ms/step - loss: 0.6647 - categorical_accuracy: 0.7638\n",
      "Epoch 27/200\n",
      "61/61 [==============================] - 1s 12ms/step - loss: 0.5608 - categorical_accuracy: 0.7793\n",
      "Epoch 28/200\n",
      "61/61 [==============================] - 1s 12ms/step - loss: 0.5357 - categorical_accuracy: 0.8037\n",
      "Epoch 29/200\n",
      "61/61 [==============================] - 1s 12ms/step - loss: 0.5140 - categorical_accuracy: 0.8053\n",
      "Epoch 30/200\n",
      "61/61 [==============================] - 1s 24ms/step - loss: 0.3285 - categorical_accuracy: 0.8811\n",
      "Epoch 31/200\n",
      "61/61 [==============================] - 1s 13ms/step - loss: 0.4009 - categorical_accuracy: 0.8416\n",
      "Epoch 32/200\n",
      "61/61 [==============================] - 1s 12ms/step - loss: 0.3922 - categorical_accuracy: 0.8396\n",
      "Epoch 33/200\n",
      "61/61 [==============================] - 1s 13ms/step - loss: 0.4790 - categorical_accuracy: 0.8167\n",
      "Epoch 34/200\n",
      "61/61 [==============================] - 1s 24ms/step - loss: 0.3048 - categorical_accuracy: 0.8915\n",
      "Epoch 35/200\n",
      "61/61 [==============================] - 1s 13ms/step - loss: 0.2806 - categorical_accuracy: 0.8951\n",
      "Epoch 36/200\n",
      "61/61 [==============================] - 1s 12ms/step - loss: 0.2250 - categorical_accuracy: 0.9180\n",
      "Epoch 37/200\n",
      "61/61 [==============================] - 1s 13ms/step - loss: 0.2799 - categorical_accuracy: 0.8847\n",
      "Epoch 38/200\n",
      "61/61 [==============================] - 1s 12ms/step - loss: 0.2138 - categorical_accuracy: 0.9268\n",
      "Epoch 39/200\n",
      "61/61 [==============================] - 1s 12ms/step - loss: 0.2641 - categorical_accuracy: 0.9071\n",
      "Epoch 40/200\n",
      "61/61 [==============================] - 1s 12ms/step - loss: 0.1813 - categorical_accuracy: 0.9335\n",
      "Epoch 41/200\n",
      "61/61 [==============================] - 1s 12ms/step - loss: 0.1925 - categorical_accuracy: 0.9325\n",
      "Epoch 42/200\n",
      "61/61 [==============================] - 1s 12ms/step - loss: 0.1487 - categorical_accuracy: 0.9481\n",
      "Epoch 43/200\n",
      "61/61 [==============================] - 1s 15ms/step - loss: 0.2803 - categorical_accuracy: 0.8993\n",
      "Epoch 44/200\n",
      "61/61 [==============================] - 1s 12ms/step - loss: 0.4059 - categorical_accuracy: 0.8993\n",
      "Epoch 45/200\n",
      "61/61 [==============================] - 2s 30ms/step - loss: 0.4039 - categorical_accuracy: 0.8676\n",
      "Epoch 46/200\n",
      "61/61 [==============================] - 1s 13ms/step - loss: 0.0899 - categorical_accuracy: 0.9756\n",
      "Epoch 47/200\n",
      "61/61 [==============================] - 1s 12ms/step - loss: 0.0443 - categorical_accuracy: 0.9901\n",
      "Epoch 48/200\n",
      "61/61 [==============================] - 1s 13ms/step - loss: 0.1254 - categorical_accuracy: 0.9512\n",
      "Epoch 49/200\n",
      "61/61 [==============================] - 1s 13ms/step - loss: 0.1207 - categorical_accuracy: 0.9579\n",
      "Epoch 50/200\n",
      "61/61 [==============================] - 1s 12ms/step - loss: 0.1537 - categorical_accuracy: 0.9548\n",
      "Epoch 51/200\n",
      "61/61 [==============================] - 1s 12ms/step - loss: 0.1464 - categorical_accuracy: 0.9548\n",
      "Epoch 52/200\n",
      "61/61 [==============================] - 1s 13ms/step - loss: 0.3156 - categorical_accuracy: 0.9107\n",
      "Epoch 53/200\n",
      "61/61 [==============================] - 1s 13ms/step - loss: 0.0705 - categorical_accuracy: 0.9803\n",
      "Epoch 54/200\n",
      "61/61 [==============================] - 1s 13ms/step - loss: 0.0504 - categorical_accuracy: 0.9849\n",
      "Epoch 55/200\n",
      "61/61 [==============================] - 1s 12ms/step - loss: 0.0509 - categorical_accuracy: 0.9834\n",
      "Epoch 56/200\n",
      "61/61 [==============================] - 1s 12ms/step - loss: 0.4291 - categorical_accuracy: 0.8525\n",
      "Epoch 57/200\n",
      "61/61 [==============================] - 1s 12ms/step - loss: 0.1659 - categorical_accuracy: 0.9538\n",
      "Epoch 58/200\n",
      "61/61 [==============================] - 1s 12ms/step - loss: 0.1191 - categorical_accuracy: 0.9652\n",
      "Epoch 59/200\n",
      "61/61 [==============================] - 1s 12ms/step - loss: 0.2906 - categorical_accuracy: 0.9065\n",
      "Epoch 60/200\n",
      "61/61 [==============================] - 1s 12ms/step - loss: 0.0515 - categorical_accuracy: 0.9839\n",
      "Epoch 61/200\n",
      "61/61 [==============================] - 1s 12ms/step - loss: 0.1123 - categorical_accuracy: 0.9595\n",
      "Epoch 62/200\n",
      "61/61 [==============================] - 1s 24ms/step - loss: 0.0344 - categorical_accuracy: 0.9907\n",
      "Epoch 63/200\n",
      "61/61 [==============================] - 1s 14ms/step - loss: 0.0655 - categorical_accuracy: 0.9798\n",
      "Epoch 64/200\n",
      "61/61 [==============================] - 1s 13ms/step - loss: 0.2744 - categorical_accuracy: 0.9195\n",
      "Epoch 65/200\n",
      "61/61 [==============================] - 1s 13ms/step - loss: 0.1438 - categorical_accuracy: 0.9507\n",
      "Epoch 66/200\n",
      "61/61 [==============================] - 1s 12ms/step - loss: 0.0763 - categorical_accuracy: 0.9777\n",
      "Epoch 67/200\n",
      "61/61 [==============================] - 1s 12ms/step - loss: 0.0598 - categorical_accuracy: 0.9808\n",
      "Epoch 68/200\n",
      "61/61 [==============================] - 1s 12ms/step - loss: 0.1397 - categorical_accuracy: 0.9585\n",
      "Epoch 69/200\n",
      "61/61 [==============================] - 1s 12ms/step - loss: 0.0368 - categorical_accuracy: 0.9922\n",
      "Epoch 70/200\n",
      "61/61 [==============================] - 1s 13ms/step - loss: 0.0357 - categorical_accuracy: 0.9917\n",
      "Epoch 71/200\n",
      "61/61 [==============================] - 1s 12ms/step - loss: 0.1146 - categorical_accuracy: 0.9637\n",
      "Epoch 72/200\n",
      "61/61 [==============================] - 1s 13ms/step - loss: 0.0342 - categorical_accuracy: 0.9927\n",
      "Epoch 73/200\n",
      "61/61 [==============================] - 1s 12ms/step - loss: 0.0060 - categorical_accuracy: 1.0000\n",
      "Epoch 74/200\n",
      "45/61 [=====================>........] - ETA: 0s - loss: 0.0034 - categorical_accuracy: 1.0000"
     ]
    },
    {
     "ename": "KeyboardInterrupt",
     "evalue": "",
     "output_type": "error",
     "traceback": [
      "\u001b[1;31m---------------------------------------------------------------------------\u001b[0m",
      "\u001b[1;31mKeyboardInterrupt\u001b[0m                         Traceback (most recent call last)",
      "Cell \u001b[1;32mIn[11], line 1\u001b[0m\n\u001b[1;32m----> 1\u001b[0m \u001b[43mmodel\u001b[49m\u001b[38;5;241;43m.\u001b[39;49m\u001b[43mfit\u001b[49m\u001b[43m(\u001b[49m\u001b[43mX_train\u001b[49m\u001b[43m,\u001b[49m\u001b[43m \u001b[49m\u001b[43my_train\u001b[49m\u001b[43m,\u001b[49m\u001b[43m \u001b[49m\u001b[43mepochs\u001b[49m\u001b[38;5;241;43m=\u001b[39;49m\u001b[38;5;241;43m200\u001b[39;49m\u001b[43m,\u001b[49m\u001b[43m \u001b[49m\u001b[43mcallbacks\u001b[49m\u001b[38;5;241;43m=\u001b[39;49m\u001b[43m[\u001b[49m\u001b[43mtb_callback\u001b[49m\u001b[43m]\u001b[49m\u001b[43m)\u001b[49m\n",
      "File \u001b[1;32mc:\\Users\\Kanzoon\\miniconda3\\envs\\tf\\lib\\site-packages\\keras\\utils\\traceback_utils.py:65\u001b[0m, in \u001b[0;36mfilter_traceback.<locals>.error_handler\u001b[1;34m(*args, **kwargs)\u001b[0m\n\u001b[0;32m     63\u001b[0m filtered_tb \u001b[38;5;241m=\u001b[39m \u001b[38;5;28;01mNone\u001b[39;00m\n\u001b[0;32m     64\u001b[0m \u001b[38;5;28;01mtry\u001b[39;00m:\n\u001b[1;32m---> 65\u001b[0m     \u001b[38;5;28;01mreturn\u001b[39;00m fn(\u001b[38;5;241m*\u001b[39margs, \u001b[38;5;241m*\u001b[39m\u001b[38;5;241m*\u001b[39mkwargs)\n\u001b[0;32m     66\u001b[0m \u001b[38;5;28;01mexcept\u001b[39;00m \u001b[38;5;167;01mException\u001b[39;00m \u001b[38;5;28;01mas\u001b[39;00m e:\n\u001b[0;32m     67\u001b[0m     filtered_tb \u001b[38;5;241m=\u001b[39m _process_traceback_frames(e\u001b[38;5;241m.\u001b[39m__traceback__)\n",
      "File \u001b[1;32mc:\\Users\\Kanzoon\\miniconda3\\envs\\tf\\lib\\site-packages\\keras\\engine\\training.py:1564\u001b[0m, in \u001b[0;36mModel.fit\u001b[1;34m(self, x, y, batch_size, epochs, verbose, callbacks, validation_split, validation_data, shuffle, class_weight, sample_weight, initial_epoch, steps_per_epoch, validation_steps, validation_batch_size, validation_freq, max_queue_size, workers, use_multiprocessing)\u001b[0m\n\u001b[0;32m   1556\u001b[0m \u001b[38;5;28;01mwith\u001b[39;00m tf\u001b[38;5;241m.\u001b[39mprofiler\u001b[38;5;241m.\u001b[39mexperimental\u001b[38;5;241m.\u001b[39mTrace(\n\u001b[0;32m   1557\u001b[0m     \u001b[38;5;124m\"\u001b[39m\u001b[38;5;124mtrain\u001b[39m\u001b[38;5;124m\"\u001b[39m,\n\u001b[0;32m   1558\u001b[0m     epoch_num\u001b[38;5;241m=\u001b[39mepoch,\n\u001b[1;32m   (...)\u001b[0m\n\u001b[0;32m   1561\u001b[0m     _r\u001b[38;5;241m=\u001b[39m\u001b[38;5;241m1\u001b[39m,\n\u001b[0;32m   1562\u001b[0m ):\n\u001b[0;32m   1563\u001b[0m     callbacks\u001b[38;5;241m.\u001b[39mon_train_batch_begin(step)\n\u001b[1;32m-> 1564\u001b[0m     tmp_logs \u001b[38;5;241m=\u001b[39m \u001b[38;5;28;43mself\u001b[39;49m\u001b[38;5;241;43m.\u001b[39;49m\u001b[43mtrain_function\u001b[49m\u001b[43m(\u001b[49m\u001b[43miterator\u001b[49m\u001b[43m)\u001b[49m\n\u001b[0;32m   1565\u001b[0m     \u001b[38;5;28;01mif\u001b[39;00m data_handler\u001b[38;5;241m.\u001b[39mshould_sync:\n\u001b[0;32m   1566\u001b[0m         context\u001b[38;5;241m.\u001b[39masync_wait()\n",
      "File \u001b[1;32mc:\\Users\\Kanzoon\\miniconda3\\envs\\tf\\lib\\site-packages\\tensorflow\\python\\util\\traceback_utils.py:150\u001b[0m, in \u001b[0;36mfilter_traceback.<locals>.error_handler\u001b[1;34m(*args, **kwargs)\u001b[0m\n\u001b[0;32m    148\u001b[0m filtered_tb \u001b[38;5;241m=\u001b[39m \u001b[38;5;28;01mNone\u001b[39;00m\n\u001b[0;32m    149\u001b[0m \u001b[38;5;28;01mtry\u001b[39;00m:\n\u001b[1;32m--> 150\u001b[0m   \u001b[38;5;28;01mreturn\u001b[39;00m fn(\u001b[38;5;241m*\u001b[39margs, \u001b[38;5;241m*\u001b[39m\u001b[38;5;241m*\u001b[39mkwargs)\n\u001b[0;32m    151\u001b[0m \u001b[38;5;28;01mexcept\u001b[39;00m \u001b[38;5;167;01mException\u001b[39;00m \u001b[38;5;28;01mas\u001b[39;00m e:\n\u001b[0;32m    152\u001b[0m   filtered_tb \u001b[38;5;241m=\u001b[39m _process_traceback_frames(e\u001b[38;5;241m.\u001b[39m__traceback__)\n",
      "File \u001b[1;32mc:\\Users\\Kanzoon\\miniconda3\\envs\\tf\\lib\\site-packages\\tensorflow\\python\\eager\\def_function.py:915\u001b[0m, in \u001b[0;36mFunction.__call__\u001b[1;34m(self, *args, **kwds)\u001b[0m\n\u001b[0;32m    912\u001b[0m compiler \u001b[38;5;241m=\u001b[39m \u001b[38;5;124m\"\u001b[39m\u001b[38;5;124mxla\u001b[39m\u001b[38;5;124m\"\u001b[39m \u001b[38;5;28;01mif\u001b[39;00m \u001b[38;5;28mself\u001b[39m\u001b[38;5;241m.\u001b[39m_jit_compile \u001b[38;5;28;01melse\u001b[39;00m \u001b[38;5;124m\"\u001b[39m\u001b[38;5;124mnonXla\u001b[39m\u001b[38;5;124m\"\u001b[39m\n\u001b[0;32m    914\u001b[0m \u001b[38;5;28;01mwith\u001b[39;00m OptionalXlaContext(\u001b[38;5;28mself\u001b[39m\u001b[38;5;241m.\u001b[39m_jit_compile):\n\u001b[1;32m--> 915\u001b[0m   result \u001b[38;5;241m=\u001b[39m \u001b[38;5;28mself\u001b[39m\u001b[38;5;241m.\u001b[39m_call(\u001b[38;5;241m*\u001b[39margs, \u001b[38;5;241m*\u001b[39m\u001b[38;5;241m*\u001b[39mkwds)\n\u001b[0;32m    917\u001b[0m new_tracing_count \u001b[38;5;241m=\u001b[39m \u001b[38;5;28mself\u001b[39m\u001b[38;5;241m.\u001b[39mexperimental_get_tracing_count()\n\u001b[0;32m    918\u001b[0m without_tracing \u001b[38;5;241m=\u001b[39m (tracing_count \u001b[38;5;241m==\u001b[39m new_tracing_count)\n",
      "File \u001b[1;32mc:\\Users\\Kanzoon\\miniconda3\\envs\\tf\\lib\\site-packages\\tensorflow\\python\\eager\\def_function.py:947\u001b[0m, in \u001b[0;36mFunction._call\u001b[1;34m(self, *args, **kwds)\u001b[0m\n\u001b[0;32m    944\u001b[0m   \u001b[38;5;28mself\u001b[39m\u001b[38;5;241m.\u001b[39m_lock\u001b[38;5;241m.\u001b[39mrelease()\n\u001b[0;32m    945\u001b[0m   \u001b[38;5;66;03m# In this case we have created variables on the first call, so we run the\u001b[39;00m\n\u001b[0;32m    946\u001b[0m   \u001b[38;5;66;03m# defunned version which is guaranteed to never create variables.\u001b[39;00m\n\u001b[1;32m--> 947\u001b[0m   \u001b[38;5;28;01mreturn\u001b[39;00m \u001b[38;5;28mself\u001b[39m\u001b[38;5;241m.\u001b[39m_stateless_fn(\u001b[38;5;241m*\u001b[39margs, \u001b[38;5;241m*\u001b[39m\u001b[38;5;241m*\u001b[39mkwds)  \u001b[38;5;66;03m# pylint: disable=not-callable\u001b[39;00m\n\u001b[0;32m    948\u001b[0m \u001b[38;5;28;01melif\u001b[39;00m \u001b[38;5;28mself\u001b[39m\u001b[38;5;241m.\u001b[39m_stateful_fn \u001b[38;5;129;01mis\u001b[39;00m \u001b[38;5;129;01mnot\u001b[39;00m \u001b[38;5;28;01mNone\u001b[39;00m:\n\u001b[0;32m    949\u001b[0m   \u001b[38;5;66;03m# Release the lock early so that multiple threads can perform the call\u001b[39;00m\n\u001b[0;32m    950\u001b[0m   \u001b[38;5;66;03m# in parallel.\u001b[39;00m\n\u001b[0;32m    951\u001b[0m   \u001b[38;5;28mself\u001b[39m\u001b[38;5;241m.\u001b[39m_lock\u001b[38;5;241m.\u001b[39mrelease()\n",
      "File \u001b[1;32mc:\\Users\\Kanzoon\\miniconda3\\envs\\tf\\lib\\site-packages\\tensorflow\\python\\eager\\function.py:2496\u001b[0m, in \u001b[0;36mFunction.__call__\u001b[1;34m(self, *args, **kwargs)\u001b[0m\n\u001b[0;32m   2493\u001b[0m \u001b[38;5;28;01mwith\u001b[39;00m \u001b[38;5;28mself\u001b[39m\u001b[38;5;241m.\u001b[39m_lock:\n\u001b[0;32m   2494\u001b[0m   (graph_function,\n\u001b[0;32m   2495\u001b[0m    filtered_flat_args) \u001b[38;5;241m=\u001b[39m \u001b[38;5;28mself\u001b[39m\u001b[38;5;241m.\u001b[39m_maybe_define_function(args, kwargs)\n\u001b[1;32m-> 2496\u001b[0m \u001b[38;5;28;01mreturn\u001b[39;00m \u001b[43mgraph_function\u001b[49m\u001b[38;5;241;43m.\u001b[39;49m\u001b[43m_call_flat\u001b[49m\u001b[43m(\u001b[49m\n\u001b[0;32m   2497\u001b[0m \u001b[43m    \u001b[49m\u001b[43mfiltered_flat_args\u001b[49m\u001b[43m,\u001b[49m\u001b[43m \u001b[49m\u001b[43mcaptured_inputs\u001b[49m\u001b[38;5;241;43m=\u001b[39;49m\u001b[43mgraph_function\u001b[49m\u001b[38;5;241;43m.\u001b[39;49m\u001b[43mcaptured_inputs\u001b[49m\u001b[43m)\u001b[49m\n",
      "File \u001b[1;32mc:\\Users\\Kanzoon\\miniconda3\\envs\\tf\\lib\\site-packages\\tensorflow\\python\\eager\\function.py:1862\u001b[0m, in \u001b[0;36mConcreteFunction._call_flat\u001b[1;34m(self, args, captured_inputs, cancellation_manager)\u001b[0m\n\u001b[0;32m   1858\u001b[0m possible_gradient_type \u001b[38;5;241m=\u001b[39m gradients_util\u001b[38;5;241m.\u001b[39mPossibleTapeGradientTypes(args)\n\u001b[0;32m   1859\u001b[0m \u001b[38;5;28;01mif\u001b[39;00m (possible_gradient_type \u001b[38;5;241m==\u001b[39m gradients_util\u001b[38;5;241m.\u001b[39mPOSSIBLE_GRADIENT_TYPES_NONE\n\u001b[0;32m   1860\u001b[0m     \u001b[38;5;129;01mand\u001b[39;00m executing_eagerly):\n\u001b[0;32m   1861\u001b[0m   \u001b[38;5;66;03m# No tape is watching; skip to running the function.\u001b[39;00m\n\u001b[1;32m-> 1862\u001b[0m   \u001b[38;5;28;01mreturn\u001b[39;00m \u001b[38;5;28mself\u001b[39m\u001b[38;5;241m.\u001b[39m_build_call_outputs(\u001b[38;5;28;43mself\u001b[39;49m\u001b[38;5;241;43m.\u001b[39;49m\u001b[43m_inference_function\u001b[49m\u001b[38;5;241;43m.\u001b[39;49m\u001b[43mcall\u001b[49m\u001b[43m(\u001b[49m\n\u001b[0;32m   1863\u001b[0m \u001b[43m      \u001b[49m\u001b[43mctx\u001b[49m\u001b[43m,\u001b[49m\u001b[43m \u001b[49m\u001b[43margs\u001b[49m\u001b[43m,\u001b[49m\u001b[43m \u001b[49m\u001b[43mcancellation_manager\u001b[49m\u001b[38;5;241;43m=\u001b[39;49m\u001b[43mcancellation_manager\u001b[49m\u001b[43m)\u001b[49m)\n\u001b[0;32m   1864\u001b[0m forward_backward \u001b[38;5;241m=\u001b[39m \u001b[38;5;28mself\u001b[39m\u001b[38;5;241m.\u001b[39m_select_forward_and_backward_functions(\n\u001b[0;32m   1865\u001b[0m     args,\n\u001b[0;32m   1866\u001b[0m     possible_gradient_type,\n\u001b[0;32m   1867\u001b[0m     executing_eagerly)\n\u001b[0;32m   1868\u001b[0m forward_function, args_with_tangents \u001b[38;5;241m=\u001b[39m forward_backward\u001b[38;5;241m.\u001b[39mforward()\n",
      "File \u001b[1;32mc:\\Users\\Kanzoon\\miniconda3\\envs\\tf\\lib\\site-packages\\tensorflow\\python\\eager\\function.py:499\u001b[0m, in \u001b[0;36m_EagerDefinedFunction.call\u001b[1;34m(self, ctx, args, cancellation_manager)\u001b[0m\n\u001b[0;32m    497\u001b[0m \u001b[38;5;28;01mwith\u001b[39;00m _InterpolateFunctionError(\u001b[38;5;28mself\u001b[39m):\n\u001b[0;32m    498\u001b[0m   \u001b[38;5;28;01mif\u001b[39;00m cancellation_manager \u001b[38;5;129;01mis\u001b[39;00m \u001b[38;5;28;01mNone\u001b[39;00m:\n\u001b[1;32m--> 499\u001b[0m     outputs \u001b[38;5;241m=\u001b[39m \u001b[43mexecute\u001b[49m\u001b[38;5;241;43m.\u001b[39;49m\u001b[43mexecute\u001b[49m\u001b[43m(\u001b[49m\n\u001b[0;32m    500\u001b[0m \u001b[43m        \u001b[49m\u001b[38;5;28;43mstr\u001b[39;49m\u001b[43m(\u001b[49m\u001b[38;5;28;43mself\u001b[39;49m\u001b[38;5;241;43m.\u001b[39;49m\u001b[43msignature\u001b[49m\u001b[38;5;241;43m.\u001b[39;49m\u001b[43mname\u001b[49m\u001b[43m)\u001b[49m\u001b[43m,\u001b[49m\n\u001b[0;32m    501\u001b[0m \u001b[43m        \u001b[49m\u001b[43mnum_outputs\u001b[49m\u001b[38;5;241;43m=\u001b[39;49m\u001b[38;5;28;43mself\u001b[39;49m\u001b[38;5;241;43m.\u001b[39;49m\u001b[43m_num_outputs\u001b[49m\u001b[43m,\u001b[49m\n\u001b[0;32m    502\u001b[0m \u001b[43m        \u001b[49m\u001b[43minputs\u001b[49m\u001b[38;5;241;43m=\u001b[39;49m\u001b[43margs\u001b[49m\u001b[43m,\u001b[49m\n\u001b[0;32m    503\u001b[0m \u001b[43m        \u001b[49m\u001b[43mattrs\u001b[49m\u001b[38;5;241;43m=\u001b[39;49m\u001b[43mattrs\u001b[49m\u001b[43m,\u001b[49m\n\u001b[0;32m    504\u001b[0m \u001b[43m        \u001b[49m\u001b[43mctx\u001b[49m\u001b[38;5;241;43m=\u001b[39;49m\u001b[43mctx\u001b[49m\u001b[43m)\u001b[49m\n\u001b[0;32m    505\u001b[0m   \u001b[38;5;28;01melse\u001b[39;00m:\n\u001b[0;32m    506\u001b[0m     outputs \u001b[38;5;241m=\u001b[39m execute\u001b[38;5;241m.\u001b[39mexecute_with_cancellation(\n\u001b[0;32m    507\u001b[0m         \u001b[38;5;28mstr\u001b[39m(\u001b[38;5;28mself\u001b[39m\u001b[38;5;241m.\u001b[39msignature\u001b[38;5;241m.\u001b[39mname),\n\u001b[0;32m    508\u001b[0m         num_outputs\u001b[38;5;241m=\u001b[39m\u001b[38;5;28mself\u001b[39m\u001b[38;5;241m.\u001b[39m_num_outputs,\n\u001b[1;32m   (...)\u001b[0m\n\u001b[0;32m    511\u001b[0m         ctx\u001b[38;5;241m=\u001b[39mctx,\n\u001b[0;32m    512\u001b[0m         cancellation_manager\u001b[38;5;241m=\u001b[39mcancellation_manager)\n",
      "File \u001b[1;32mc:\\Users\\Kanzoon\\miniconda3\\envs\\tf\\lib\\site-packages\\tensorflow\\python\\eager\\execute.py:54\u001b[0m, in \u001b[0;36mquick_execute\u001b[1;34m(op_name, num_outputs, inputs, attrs, ctx, name)\u001b[0m\n\u001b[0;32m     52\u001b[0m \u001b[38;5;28;01mtry\u001b[39;00m:\n\u001b[0;32m     53\u001b[0m   ctx\u001b[38;5;241m.\u001b[39mensure_initialized()\n\u001b[1;32m---> 54\u001b[0m   tensors \u001b[38;5;241m=\u001b[39m \u001b[43mpywrap_tfe\u001b[49m\u001b[38;5;241;43m.\u001b[39;49m\u001b[43mTFE_Py_Execute\u001b[49m\u001b[43m(\u001b[49m\u001b[43mctx\u001b[49m\u001b[38;5;241;43m.\u001b[39;49m\u001b[43m_handle\u001b[49m\u001b[43m,\u001b[49m\u001b[43m \u001b[49m\u001b[43mdevice_name\u001b[49m\u001b[43m,\u001b[49m\u001b[43m \u001b[49m\u001b[43mop_name\u001b[49m\u001b[43m,\u001b[49m\n\u001b[0;32m     55\u001b[0m \u001b[43m                                      \u001b[49m\u001b[43minputs\u001b[49m\u001b[43m,\u001b[49m\u001b[43m \u001b[49m\u001b[43mattrs\u001b[49m\u001b[43m,\u001b[49m\u001b[43m \u001b[49m\u001b[43mnum_outputs\u001b[49m\u001b[43m)\u001b[49m\n\u001b[0;32m     56\u001b[0m \u001b[38;5;28;01mexcept\u001b[39;00m core\u001b[38;5;241m.\u001b[39m_NotOkStatusException \u001b[38;5;28;01mas\u001b[39;00m e:\n\u001b[0;32m     57\u001b[0m   \u001b[38;5;28;01mif\u001b[39;00m name \u001b[38;5;129;01mis\u001b[39;00m \u001b[38;5;129;01mnot\u001b[39;00m \u001b[38;5;28;01mNone\u001b[39;00m:\n",
      "\u001b[1;31mKeyboardInterrupt\u001b[0m: "
     ]
    }
   ],
   "source": [
    "model.fit(X_train, y_train, epochs=200, callbacks=[tb_callback])\n"
   ]
  },
  {
   "cell_type": "code",
   "execution_count": 12,
   "metadata": {},
   "outputs": [
    {
     "name": "stdout",
     "output_type": "stream",
     "text": [
      "Model: \"sequential\"\n",
      "_________________________________________________________________\n",
      " Layer (type)                Output Shape              Param #   \n",
      "=================================================================\n",
      " lstm (LSTM)                 (None, 14, 64)            48896     \n",
      "                                                                 \n",
      " lstm_1 (LSTM)               (None, 14, 128)           98816     \n",
      "                                                                 \n",
      " lstm_2 (LSTM)               (None, 64)                49408     \n",
      "                                                                 \n",
      " dense (Dense)               (None, 64)                4160      \n",
      "                                                                 \n",
      " dense_1 (Dense)             (None, 32)                2080      \n",
      "                                                                 \n",
      " dense_2 (Dense)             (None, 26)                858       \n",
      "                                                                 \n",
      "=================================================================\n",
      "Total params: 204,218\n",
      "Trainable params: 204,218\n",
      "Non-trainable params: 0\n",
      "_________________________________________________________________\n"
     ]
    }
   ],
   "source": [
    "model.summary()\n"
   ]
  },
  {
   "cell_type": "code",
   "execution_count": 13,
   "metadata": {},
   "outputs": [
    {
     "name": "stdout",
     "output_type": "stream",
     "text": [
      "16/16 [==============================] - 1s 12ms/step\n"
     ]
    }
   ],
   "source": [
    "res = model.predict(X_test)"
   ]
  },
  {
   "cell_type": "code",
   "execution_count": 14,
   "metadata": {},
   "outputs": [
    {
     "name": "stdout",
     "output_type": "stream",
     "text": [
      "16/16 [==============================] - 0s 14ms/step\n",
      "Accuracy: 1.0\n",
      "Precision: 1.0\n",
      "Recall: 1.0\n",
      "F1 Score: 1.0\n",
      "              precision    recall  f1-score   support\n",
      "\n",
      "           0       1.00      1.00      1.00        29\n",
      "           1       1.00      1.00      1.00        21\n",
      "           2       1.00      1.00      1.00        22\n",
      "           3       1.00      1.00      1.00        19\n",
      "           4       1.00      1.00      1.00        14\n",
      "           5       1.00      1.00      1.00        23\n",
      "           6       1.00      1.00      1.00        17\n",
      "           7       1.00      1.00      1.00        23\n",
      "           8       1.00      1.00      1.00        23\n",
      "           9       1.00      1.00      1.00        11\n",
      "          10       1.00      1.00      1.00        21\n",
      "          11       1.00      1.00      1.00        34\n",
      "          12       1.00      1.00      1.00         9\n",
      "          13       1.00      1.00      1.00        16\n",
      "          14       1.00      1.00      1.00        26\n",
      "          15       1.00      1.00      1.00        10\n",
      "          17       1.00      1.00      1.00        17\n",
      "          18       1.00      1.00      1.00        17\n",
      "          19       1.00      1.00      1.00         9\n",
      "          20       1.00      1.00      1.00        26\n",
      "          21       1.00      1.00      1.00        13\n",
      "          22       1.00      1.00      1.00        22\n",
      "          23       1.00      1.00      1.00         9\n",
      "          24       1.00      1.00      1.00         8\n",
      "          25       1.00      1.00      1.00        43\n",
      "\n",
      "    accuracy                           1.00       482\n",
      "   macro avg       1.00      1.00      1.00       482\n",
      "weighted avg       1.00      1.00      1.00       482\n",
      "\n"
     ]
    }
   ],
   "source": [
    "\n",
    "\n",
    "# Assume X_test and y_test are your test dataset\n",
    "# Make predictions\n",
    "y_pred = model.predict(X_test)\n",
    "\n",
    "# Convert predictions to class labels\n",
    "y_pred_classes = np.argmax(y_pred, axis=1)\n",
    "y_true = np.argmax(y_test, axis=1)  # if y_test is one-hot encoded\n",
    "\n",
    "# Calculate accuracy\n",
    "accuracy = accuracy_score(y_true, y_pred_classes)\n",
    "\n",
    "# Calculate precision, recall, and F1 score for each class\n",
    "precision = precision_score(y_true, y_pred_classes, average='weighted')\n",
    "recall = recall_score(y_true, y_pred_classes, average='weighted')\n",
    "f1 = f1_score(y_true, y_pred_classes, average='weighted')\n",
    "\n",
    "# Print the results\n",
    "print(f\"Accuracy: {accuracy}\")\n",
    "print(f\"Precision: {precision}\")\n",
    "print(f\"Recall: {recall}\")\n",
    "print(f\"F1 Score: {f1}\")\n",
    "\n",
    "# Detailed classification report\n",
    "report = classification_report(y_true, y_pred_classes)\n",
    "print(report)\n"
   ]
  },
  {
   "cell_type": "code",
   "execution_count": 15,
   "metadata": {},
   "outputs": [
    {
     "name": "stdout",
     "output_type": "stream",
     "text": [
      "k k\n"
     ]
    }
   ],
   "source": [
    "actions = np.array(ALL_CLASSES)\n",
    "testing = 17\n",
    "print(actions[np.argmax(res[testing])], actions[np.argmax(y_test[testing])])"
   ]
  },
  {
   "cell_type": "code",
   "execution_count": 16,
   "metadata": {},
   "outputs": [],
   "source": [
    "model.save('action.h5')"
   ]
  },
  {
   "cell_type": "code",
   "execution_count": 17,
   "metadata": {},
   "outputs": [],
   "source": [
    "model.load_weights('action.h5')"
   ]
  },
  {
   "cell_type": "code",
   "execution_count": 18,
   "metadata": {},
   "outputs": [
    {
     "name": "stdout",
     "output_type": "stream",
     "text": [
      "16/16 [==============================] - 0s 14ms/step\n"
     ]
    }
   ],
   "source": [
    "yhat = model.predict(X_test)"
   ]
  },
  {
   "cell_type": "code",
   "execution_count": 19,
   "metadata": {},
   "outputs": [],
   "source": [
    "ytrue = np.argmax(y_test, axis=1).tolist()\n"
   ]
  },
  {
   "cell_type": "code",
   "execution_count": 20,
   "metadata": {},
   "outputs": [],
   "source": [
    "yhat = np.argmax(yhat, axis=1).tolist()"
   ]
  },
  {
   "cell_type": "code",
   "execution_count": 21,
   "metadata": {},
   "outputs": [
    {
     "data": {
      "text/plain": [
       "array([[[453,   0],\n",
       "        [  0,  29]],\n",
       "\n",
       "       [[461,   0],\n",
       "        [  0,  21]],\n",
       "\n",
       "       [[460,   0],\n",
       "        [  0,  22]],\n",
       "\n",
       "       [[463,   0],\n",
       "        [  0,  19]],\n",
       "\n",
       "       [[468,   0],\n",
       "        [  0,  14]],\n",
       "\n",
       "       [[459,   0],\n",
       "        [  0,  23]],\n",
       "\n",
       "       [[465,   0],\n",
       "        [  0,  17]],\n",
       "\n",
       "       [[459,   0],\n",
       "        [  0,  23]],\n",
       "\n",
       "       [[459,   0],\n",
       "        [  0,  23]],\n",
       "\n",
       "       [[471,   0],\n",
       "        [  0,  11]],\n",
       "\n",
       "       [[461,   0],\n",
       "        [  0,  21]],\n",
       "\n",
       "       [[448,   0],\n",
       "        [  0,  34]],\n",
       "\n",
       "       [[473,   0],\n",
       "        [  0,   9]],\n",
       "\n",
       "       [[466,   0],\n",
       "        [  0,  16]],\n",
       "\n",
       "       [[456,   0],\n",
       "        [  0,  26]],\n",
       "\n",
       "       [[472,   0],\n",
       "        [  0,  10]],\n",
       "\n",
       "       [[465,   0],\n",
       "        [  0,  17]],\n",
       "\n",
       "       [[465,   0],\n",
       "        [  0,  17]],\n",
       "\n",
       "       [[473,   0],\n",
       "        [  0,   9]],\n",
       "\n",
       "       [[456,   0],\n",
       "        [  0,  26]],\n",
       "\n",
       "       [[469,   0],\n",
       "        [  0,  13]],\n",
       "\n",
       "       [[460,   0],\n",
       "        [  0,  22]],\n",
       "\n",
       "       [[473,   0],\n",
       "        [  0,   9]],\n",
       "\n",
       "       [[474,   0],\n",
       "        [  0,   8]],\n",
       "\n",
       "       [[439,   0],\n",
       "        [  0,  43]]], dtype=int64)"
      ]
     },
     "execution_count": 21,
     "metadata": {},
     "output_type": "execute_result"
    }
   ],
   "source": [
    "\n",
    "multilabel_confusion_matrix(ytrue, yhat)"
   ]
  },
  {
   "cell_type": "code",
   "execution_count": 22,
   "metadata": {},
   "outputs": [
    {
     "data": {
      "text/plain": [
       "1.0"
      ]
     },
     "execution_count": 22,
     "metadata": {},
     "output_type": "execute_result"
    }
   ],
   "source": [
    "accuracy_score(ytrue, yhat)"
   ]
  }
 ],
 "metadata": {
  "kernelspec": {
   "display_name": "tf",
   "language": "python",
   "name": "python3"
  },
  "language_info": {
   "codemirror_mode": {
    "name": "ipython",
    "version": 3
   },
   "file_extension": ".py",
   "mimetype": "text/x-python",
   "name": "python",
   "nbconvert_exporter": "python",
   "pygments_lexer": "ipython3",
   "version": "3.9.18"
  },
  "orig_nbformat": 4
 },
 "nbformat": 4,
 "nbformat_minor": 2
}
