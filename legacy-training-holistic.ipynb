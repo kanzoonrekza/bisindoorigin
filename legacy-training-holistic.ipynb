{
 "cells": [
  {
   "cell_type": "markdown",
   "metadata": {},
   "source": [
    "# Code for training the holistic model"
   ]
  },
  {
   "cell_type": "markdown",
   "metadata": {},
   "source": [
    "## Import Libraries \n"
   ]
  },
  {
   "cell_type": "code",
   "execution_count": 1,
   "metadata": {},
   "outputs": [],
   "source": [
    "import tensorflow as tf\n",
    "import numpy as np\n",
    "import os\n",
    "from datetime import datetime\n",
    "\n",
    "from keras.models import Sequential\n",
    "from keras.layers import LSTM, Dense\n",
    "from keras.callbacks import TensorBoard\n",
    "from keras.callbacks import ModelCheckpoint\n",
    "\n",
    "from sklearn.model_selection import train_test_split\n",
    "from sklearn.metrics import multilabel_confusion_matrix, accuracy_score, precision_score, recall_score, f1_score, classification_report"
   ]
  },
  {
   "cell_type": "markdown",
   "metadata": {},
   "source": [
    "## Setup Variables"
   ]
  },
  {
   "cell_type": "code",
   "execution_count": 2,
   "metadata": {},
   "outputs": [],
   "source": [
    "FOLDER_NAME = 'dataset'\n",
    "ALL_CLASSES = ['a', 'b', 'c', 'd', 'e', 'f', 'g', 'h', 'i', 'j', 'k', 'l', 'm', 'n', 'o', 'p', 'q', 'r', 's', 't', 'u', 'v', 'w', 'x', 'y', 'z']"
   ]
  },
  {
   "cell_type": "code",
   "execution_count": 3,
   "metadata": {},
   "outputs": [
    {
     "name": "stdout",
     "output_type": "stream",
     "text": [
      "{'a': 0, 'b': 1, 'c': 2, 'd': 3, 'e': 4, 'f': 5, 'g': 6, 'h': 7, 'i': 8, 'j': 9, 'k': 10, 'l': 11, 'm': 12, 'n': 13, 'o': 14, 'p': 15, 'q': 16, 'r': 17, 's': 18, 't': 19, 'u': 20, 'v': 21, 'w': 22, 'x': 23, 'y': 24, 'z': 25}\n"
     ]
    }
   ],
   "source": [
    "# Create label map, representing each class as a number\n",
    "label_map = {}\n",
    "for (root, folders, files) in os.walk(FOLDER_NAME):\n",
    "    for foldername in folders:\n",
    "        if foldername in ALL_CLASSES:\n",
    "            label_map[foldername] = ALL_CLASSES.index(foldername)\n",
    "\n",
    "print(label_map)"
   ]
  },
  {
   "cell_type": "code",
   "execution_count": 10,
   "metadata": {},
   "outputs": [
    {
     "name": "stdout",
     "output_type": "stream",
     "text": [
      "Total files: 0 --- dataset\n",
      "Total files: 60 --- dataset\\a\n",
      "Total files: 40 --- dataset\\b\n",
      "Total files: 60 --- dataset\\c\n",
      "Total files: 40 --- dataset\\d\n",
      "Total files: 35 --- dataset\\e\n",
      "Total files: 30 --- dataset\\f\n",
      "Total files: 30 --- dataset\\g\n",
      "Total files: 30 --- dataset\\h\n",
      "Total files: 30 --- dataset\\i\n",
      "Total files: 40 --- dataset\\j\n",
      "Total files: 31 --- dataset\\k\n",
      "Total files: 40 --- dataset\\l\n",
      "Total files: 50 --- dataset\\m\n",
      "Total files: 30 --- dataset\\n\n",
      "Total files: 41 --- dataset\\o\n",
      "Total files: 35 --- dataset\\p\n",
      "Total files: 40 --- dataset\\q\n",
      "Total files: 32 --- dataset\\r\n",
      "Total files: 45 --- dataset\\s\n",
      "Total files: 36 --- dataset\\t\n",
      "Total files: 29 --- dataset\\u\n",
      "Total files: 35 --- dataset\\v\n",
      "Total files: 30 --- dataset\\w\n",
      "Total files: 40 --- dataset\\x\n",
      "Total files: 30 --- dataset\\y\n",
      "Total files: 60 --- dataset\\z\n",
      "(999, 14, 126)\n",
      "(999,)\n"
     ]
    }
   ],
   "source": [
    "# Get all datset data with its label and put it in a list\n",
    "sequence, label = [], []\n",
    "target_length = 14\n",
    "for (root, folders, files) in os.walk(FOLDER_NAME):\n",
    "    total_file = 0\n",
    "    for filename in files:\n",
    "        file_path = os.path.join(os.path.relpath(\n",
    "            root, FOLDER_NAME), filename)\n",
    "        if (filename.endswith('.npy') and os.path.split(file_path)[0] in ALL_CLASSES):\n",
    "            res = np.load(f'{FOLDER_NAME}/{file_path}')\n",
    "            for _ in range(target_length-res.shape[0]):\n",
    "                res = np.vstack((res, res[-1, :]))\n",
    "            res = res[:, -126:]\n",
    "            sequence.append(np.array(res))\n",
    "            label.append(label_map[os.path.basename(root[-1])])\n",
    "            total_file += 1\n",
    "    print(f\"Total files: {total_file} --- {root}\")\n",
    "\n",
    "print(np.array(sequence).shape)\n",
    "print(np.array(label).shape)"
   ]
  },
  {
   "cell_type": "code",
   "execution_count": 11,
   "metadata": {},
   "outputs": [
    {
     "name": "stdout",
     "output_type": "stream",
     "text": [
      "(1998, 14, 126)\n",
      "(1998,)\n"
     ]
    }
   ],
   "source": [
    "# Dataset duplication if necessary\n",
    "n = 2\n",
    "sequence = np.concatenate([sequence] * n, axis=0)\n",
    "label = np.concatenate([label] * n, axis=0)\n",
    "\n",
    "\n",
    "print(np.array(sequence).shape)\n",
    "print(np.array(label).shape)"
   ]
  },
  {
   "cell_type": "code",
   "execution_count": 12,
   "metadata": {},
   "outputs": [
    {
     "data": {
      "text/plain": [
       "[PhysicalDevice(name='/physical_device:GPU:0', device_type='GPU')]"
      ]
     },
     "execution_count": 12,
     "metadata": {},
     "output_type": "execute_result"
    }
   ],
   "source": [
    "tf.config.list_physical_devices('GPU')\n"
   ]
  },
  {
   "cell_type": "markdown",
   "metadata": {},
   "source": [
    "## Training Data"
   ]
  },
  {
   "cell_type": "code",
   "execution_count": 13,
   "metadata": {},
   "outputs": [
    {
     "name": "stdout",
     "output_type": "stream",
     "text": [
      "(1598, 14, 126) (400, 14, 126)\n"
     ]
    }
   ],
   "source": [
    "X_train, X_test, y_train, y_test = train_test_split(np.array(sequence), tf.keras.utils.to_categorical(\n",
    "    np.array(label).astype(int), num_classes=np.array(ALL_CLASSES).shape[0], dtype='float32'), test_size=0.2)\n",
    "\n",
    "print(X_train.shape, X_test.shape)\n"
   ]
  },
  {
   "cell_type": "code",
   "execution_count": 14,
   "metadata": {},
   "outputs": [
    {
     "name": "stdout",
     "output_type": "stream",
     "text": [
      "Logs\\20240628-163454\n"
     ]
    }
   ],
   "source": [
    "current_time = datetime.now().strftime(\"%Y%m%d-%H%M%S\")\n",
    "\n",
    "log_dir = os.path.join('Logs', current_time)\n",
    "tb_callback = TensorBoard(log_dir=log_dir)\n",
    "\n",
    "print(log_dir)\n",
    "\n",
    "model = Sequential()\n",
    "model.add(LSTM(64, return_sequences=True,\n",
    "          activation='tanh', input_shape=(14, 126)))\n",
    "model.add(LSTM(128, return_sequences=True, activation='tanh'))\n",
    "model.add(LSTM(64, return_sequences=False, activation='tanh'))\n",
    "model.add(Dense(64, activation='relu'))\n",
    "model.add(Dense(32, activation='relu'))\n",
    "model.add(Dense(np.array(ALL_CLASSES).shape[0], activation='softmax'))\n",
    "\n",
    "model.compile(optimizer='adam', loss='categorical_crossentropy',\n",
    "              metrics=['categorical_accuracy'])"
   ]
  },
  {
   "cell_type": "code",
   "execution_count": 15,
   "metadata": {},
   "outputs": [
    {
     "name": "stdout",
     "output_type": "stream",
     "text": [
      "Epoch 1/100\n",
      "50/50 [==============================] - 8s 14ms/step - loss: 3.0158 - categorical_accuracy: 0.1389\n",
      "Epoch 2/100\n",
      "50/50 [==============================] - 1s 13ms/step - loss: 2.4948 - categorical_accuracy: 0.2103\n",
      "Epoch 3/100\n",
      "50/50 [==============================] - 1s 13ms/step - loss: 2.1224 - categorical_accuracy: 0.2553\n",
      "Epoch 4/100\n",
      "50/50 [==============================] - 1s 12ms/step - loss: 1.8864 - categorical_accuracy: 0.3023\n",
      "Epoch 5/100\n",
      "50/50 [==============================] - 1s 12ms/step - loss: 1.8738 - categorical_accuracy: 0.2916\n",
      "Epoch 6/100\n",
      "50/50 [==============================] - 1s 12ms/step - loss: 1.6735 - categorical_accuracy: 0.3548\n",
      "Epoch 7/100\n",
      "50/50 [==============================] - 1s 13ms/step - loss: 1.6954 - categorical_accuracy: 0.3385\n",
      "Epoch 8/100\n",
      "50/50 [==============================] - 1s 13ms/step - loss: 1.5381 - categorical_accuracy: 0.3861\n",
      "Epoch 9/100\n",
      "50/50 [==============================] - 1s 21ms/step - loss: 1.4917 - categorical_accuracy: 0.3974\n",
      "Epoch 10/100\n",
      "50/50 [==============================] - 2s 34ms/step - loss: 1.4184 - categorical_accuracy: 0.4155\n",
      "Epoch 11/100\n",
      "50/50 [==============================] - 1s 13ms/step - loss: 1.4225 - categorical_accuracy: 0.4143\n",
      "Epoch 12/100\n",
      "50/50 [==============================] - 1s 20ms/step - loss: 1.3538 - categorical_accuracy: 0.4406\n",
      "Epoch 13/100\n",
      "50/50 [==============================] - 1s 13ms/step - loss: 1.2690 - categorical_accuracy: 0.4700\n",
      "Epoch 14/100\n",
      "50/50 [==============================] - 1s 25ms/step - loss: 1.3090 - categorical_accuracy: 0.4581\n",
      "Epoch 15/100\n",
      "50/50 [==============================] - 1s 14ms/step - loss: 1.1780 - categorical_accuracy: 0.5144\n",
      "Epoch 16/100\n",
      "50/50 [==============================] - 1s 14ms/step - loss: 1.0153 - categorical_accuracy: 0.5895\n",
      "Epoch 17/100\n",
      "50/50 [==============================] - 1s 13ms/step - loss: 1.0349 - categorical_accuracy: 0.5776\n",
      "Epoch 18/100\n",
      "50/50 [==============================] - 1s 13ms/step - loss: 0.9063 - categorical_accuracy: 0.6245\n",
      "Epoch 19/100\n",
      "50/50 [==============================] - 1s 13ms/step - loss: 1.1309 - categorical_accuracy: 0.5657\n",
      "Epoch 20/100\n",
      "50/50 [==============================] - 1s 21ms/step - loss: 0.8324 - categorical_accuracy: 0.6809\n",
      "Epoch 21/100\n",
      "50/50 [==============================] - 1s 13ms/step - loss: 0.5960 - categorical_accuracy: 0.7760\n",
      "Epoch 22/100\n",
      "50/50 [==============================] - 1s 13ms/step - loss: 0.6514 - categorical_accuracy: 0.7509\n",
      "Epoch 23/100\n",
      "50/50 [==============================] - 1s 13ms/step - loss: 0.5930 - categorical_accuracy: 0.7703\n",
      "Epoch 24/100\n",
      "50/50 [==============================] - 1s 13ms/step - loss: 0.6951 - categorical_accuracy: 0.7247\n",
      "Epoch 25/100\n",
      "50/50 [==============================] - 1s 13ms/step - loss: 0.5715 - categorical_accuracy: 0.7735\n",
      "Epoch 26/100\n",
      "50/50 [==============================] - 1s 13ms/step - loss: 0.5366 - categorical_accuracy: 0.7935\n",
      "Epoch 27/100\n",
      "50/50 [==============================] - 1s 23ms/step - loss: 0.5160 - categorical_accuracy: 0.8160\n",
      "Epoch 28/100\n",
      "50/50 [==============================] - 1s 13ms/step - loss: 0.5549 - categorical_accuracy: 0.7941\n",
      "Epoch 29/100\n",
      "50/50 [==============================] - 1s 13ms/step - loss: 0.3835 - categorical_accuracy: 0.8673\n",
      "Epoch 30/100\n",
      "50/50 [==============================] - 1s 13ms/step - loss: 0.3514 - categorical_accuracy: 0.8667\n",
      "Epoch 31/100\n",
      "50/50 [==============================] - 1s 13ms/step - loss: 0.3503 - categorical_accuracy: 0.8667\n",
      "Epoch 32/100\n",
      "50/50 [==============================] - 1s 17ms/step - loss: 0.3469 - categorical_accuracy: 0.8792\n",
      "Epoch 33/100\n",
      "50/50 [==============================] - 1s 15ms/step - loss: 0.3083 - categorical_accuracy: 0.8867\n",
      "Epoch 34/100\n",
      "50/50 [==============================] - 1s 13ms/step - loss: 0.3277 - categorical_accuracy: 0.8817\n",
      "Epoch 35/100\n",
      "50/50 [==============================] - 1s 13ms/step - loss: 0.3865 - categorical_accuracy: 0.8661\n",
      "Epoch 36/100\n",
      "50/50 [==============================] - 1s 13ms/step - loss: 0.6972 - categorical_accuracy: 0.7653\n",
      "Epoch 37/100\n",
      "50/50 [==============================] - 1s 13ms/step - loss: 0.4273 - categorical_accuracy: 0.8461\n",
      "Epoch 38/100\n",
      "50/50 [==============================] - 1s 13ms/step - loss: 0.2956 - categorical_accuracy: 0.8842\n",
      "Epoch 39/100\n",
      "50/50 [==============================] - 1s 14ms/step - loss: 0.2621 - categorical_accuracy: 0.9005\n",
      "Epoch 40/100\n",
      "50/50 [==============================] - 1s 13ms/step - loss: 0.2830 - categorical_accuracy: 0.8905\n",
      "Epoch 41/100\n",
      "50/50 [==============================] - 1s 13ms/step - loss: 0.2331 - categorical_accuracy: 0.9149\n",
      "Epoch 42/100\n",
      "50/50 [==============================] - 1s 21ms/step - loss: 0.3828 - categorical_accuracy: 0.8736\n",
      "Epoch 43/100\n",
      "50/50 [==============================] - 1s 13ms/step - loss: 0.3010 - categorical_accuracy: 0.8924\n",
      "Epoch 44/100\n",
      "50/50 [==============================] - 1s 13ms/step - loss: 0.2224 - categorical_accuracy: 0.9149\n",
      "Epoch 45/100\n",
      "50/50 [==============================] - 1s 13ms/step - loss: 0.2566 - categorical_accuracy: 0.8955\n",
      "Epoch 46/100\n",
      "50/50 [==============================] - 1s 13ms/step - loss: 0.1386 - categorical_accuracy: 0.9493\n",
      "Epoch 47/100\n",
      "50/50 [==============================] - 1s 13ms/step - loss: 0.1318 - categorical_accuracy: 0.9556\n",
      "Epoch 48/100\n",
      "50/50 [==============================] - 1s 13ms/step - loss: 0.1005 - categorical_accuracy: 0.9675\n",
      "Epoch 49/100\n",
      "50/50 [==============================] - 1s 16ms/step - loss: 0.1484 - categorical_accuracy: 0.9549\n",
      "Epoch 50/100\n",
      "50/50 [==============================] - 1s 13ms/step - loss: 0.1296 - categorical_accuracy: 0.9518\n",
      "Epoch 51/100\n",
      "50/50 [==============================] - 1s 14ms/step - loss: 0.0613 - categorical_accuracy: 0.9862\n",
      "Epoch 52/100\n",
      "50/50 [==============================] - 1s 13ms/step - loss: 0.2707 - categorical_accuracy: 0.9005\n",
      "Epoch 53/100\n",
      "50/50 [==============================] - 1s 14ms/step - loss: 0.5367 - categorical_accuracy: 0.8398\n",
      "Epoch 54/100\n",
      "50/50 [==============================] - 1s 14ms/step - loss: 0.1278 - categorical_accuracy: 0.9587\n",
      "Epoch 55/100\n",
      "50/50 [==============================] - 1s 13ms/step - loss: 0.1439 - categorical_accuracy: 0.9537\n",
      "Epoch 56/100\n",
      "50/50 [==============================] - 1s 13ms/step - loss: 0.0709 - categorical_accuracy: 0.9800\n",
      "Epoch 57/100\n",
      "50/50 [==============================] - 1s 13ms/step - loss: 0.0712 - categorical_accuracy: 0.9731\n",
      "Epoch 58/100\n",
      "50/50 [==============================] - 1s 13ms/step - loss: 0.0866 - categorical_accuracy: 0.9768\n",
      "Epoch 59/100\n",
      "50/50 [==============================] - 1s 13ms/step - loss: 0.1910 - categorical_accuracy: 0.9230\n",
      "Epoch 60/100\n",
      "50/50 [==============================] - 1s 13ms/step - loss: 0.3525 - categorical_accuracy: 0.8717\n",
      "Epoch 61/100\n",
      "50/50 [==============================] - 1s 13ms/step - loss: 0.1714 - categorical_accuracy: 0.9449\n",
      "Epoch 62/100\n",
      "50/50 [==============================] - 1s 13ms/step - loss: 0.0837 - categorical_accuracy: 0.9718\n",
      "Epoch 63/100\n",
      "50/50 [==============================] - 1s 14ms/step - loss: 0.0395 - categorical_accuracy: 0.9894\n",
      "Epoch 64/100\n",
      "50/50 [==============================] - 1s 14ms/step - loss: 0.0358 - categorical_accuracy: 0.9856\n",
      "Epoch 65/100\n",
      "50/50 [==============================] - 1s 14ms/step - loss: 0.0212 - categorical_accuracy: 0.9931\n",
      "Epoch 66/100\n",
      "50/50 [==============================] - 1s 15ms/step - loss: 0.0345 - categorical_accuracy: 0.9906\n",
      "Epoch 67/100\n",
      "50/50 [==============================] - 1s 14ms/step - loss: 0.0295 - categorical_accuracy: 0.9894\n",
      "Epoch 68/100\n",
      "50/50 [==============================] - 1s 14ms/step - loss: 0.0496 - categorical_accuracy: 0.9806\n",
      "Epoch 69/100\n",
      "50/50 [==============================] - 1s 14ms/step - loss: 0.0312 - categorical_accuracy: 0.9850\n",
      "Epoch 70/100\n",
      "50/50 [==============================] - 1s 14ms/step - loss: 0.2593 - categorical_accuracy: 0.9174\n",
      "Epoch 71/100\n",
      "50/50 [==============================] - 1s 14ms/step - loss: 0.0615 - categorical_accuracy: 0.9862\n",
      "Epoch 72/100\n",
      "50/50 [==============================] - 1s 14ms/step - loss: 0.1147 - categorical_accuracy: 0.9693\n",
      "Epoch 73/100\n",
      "50/50 [==============================] - 1s 14ms/step - loss: 0.3765 - categorical_accuracy: 0.8942\n",
      "Epoch 74/100\n",
      "50/50 [==============================] - 1s 14ms/step - loss: 0.1625 - categorical_accuracy: 0.9418\n",
      "Epoch 75/100\n",
      "50/50 [==============================] - 1s 15ms/step - loss: 0.0697 - categorical_accuracy: 0.9787\n",
      "Epoch 76/100\n",
      "50/50 [==============================] - 1s 14ms/step - loss: 0.0882 - categorical_accuracy: 0.9693\n",
      "Epoch 77/100\n",
      "50/50 [==============================] - 1s 14ms/step - loss: 0.1896 - categorical_accuracy: 0.9418\n",
      "Epoch 78/100\n",
      "50/50 [==============================] - 1s 14ms/step - loss: 0.5615 - categorical_accuracy: 0.8385\n",
      "Epoch 79/100\n",
      "50/50 [==============================] - 1s 14ms/step - loss: 0.1008 - categorical_accuracy: 0.9768\n",
      "Epoch 80/100\n",
      "50/50 [==============================] - 1s 14ms/step - loss: 0.0267 - categorical_accuracy: 0.9969\n",
      "Epoch 81/100\n",
      "50/50 [==============================] - 1s 15ms/step - loss: 0.0287 - categorical_accuracy: 0.9925\n",
      "Epoch 82/100\n",
      "50/50 [==============================] - 1s 14ms/step - loss: 0.0133 - categorical_accuracy: 0.9981\n",
      "Epoch 83/100\n",
      "50/50 [==============================] - 1s 13ms/step - loss: 0.0106 - categorical_accuracy: 0.9987\n",
      "Epoch 84/100\n",
      "50/50 [==============================] - 1s 14ms/step - loss: 0.0338 - categorical_accuracy: 0.9837\n",
      "Epoch 85/100\n",
      "50/50 [==============================] - 1s 14ms/step - loss: 0.0338 - categorical_accuracy: 0.9906\n",
      "Epoch 86/100\n",
      "50/50 [==============================] - 1s 13ms/step - loss: 0.1012 - categorical_accuracy: 0.9631\n",
      "Epoch 87/100\n",
      "50/50 [==============================] - 1s 14ms/step - loss: 0.0278 - categorical_accuracy: 0.9950\n",
      "Epoch 88/100\n",
      "50/50 [==============================] - 1s 13ms/step - loss: 0.0079 - categorical_accuracy: 0.9994\n",
      "Epoch 89/100\n",
      "50/50 [==============================] - 1s 14ms/step - loss: 0.0652 - categorical_accuracy: 0.9756\n",
      "Epoch 90/100\n",
      "50/50 [==============================] - 1s 14ms/step - loss: 0.8598 - categorical_accuracy: 0.7735\n",
      "Epoch 91/100\n",
      "50/50 [==============================] - 1s 14ms/step - loss: 0.3405 - categorical_accuracy: 0.8842\n",
      "Epoch 92/100\n",
      "50/50 [==============================] - 1s 14ms/step - loss: 0.2453 - categorical_accuracy: 0.9161\n",
      "Epoch 93/100\n",
      "50/50 [==============================] - 1s 14ms/step - loss: 0.1491 - categorical_accuracy: 0.9462\n",
      "Epoch 94/100\n",
      "50/50 [==============================] - 1s 16ms/step - loss: 0.1416 - categorical_accuracy: 0.9512\n",
      "Epoch 95/100\n",
      "50/50 [==============================] - 1s 16ms/step - loss: 0.4120 - categorical_accuracy: 0.8705\n",
      "Epoch 96/100\n",
      "50/50 [==============================] - 1s 16ms/step - loss: 0.2603 - categorical_accuracy: 0.9105\n",
      "Epoch 97/100\n",
      "50/50 [==============================] - 1s 15ms/step - loss: 0.1687 - categorical_accuracy: 0.9349\n",
      "Epoch 98/100\n",
      "50/50 [==============================] - 1s 15ms/step - loss: 0.2479 - categorical_accuracy: 0.9124\n",
      "Epoch 99/100\n",
      "50/50 [==============================] - 1s 16ms/step - loss: 0.0596 - categorical_accuracy: 0.9831\n",
      "Epoch 100/100\n",
      "50/50 [==============================] - 1s 17ms/step - loss: 0.0177 - categorical_accuracy: 0.9981\n"
     ]
    },
    {
     "data": {
      "text/plain": [
       "<keras.callbacks.History at 0x26d25209e80>"
      ]
     },
     "execution_count": 15,
     "metadata": {},
     "output_type": "execute_result"
    }
   ],
   "source": [
    "model.fit(X_train, y_train, epochs=100, callbacks=[\n",
    "          tb_callback])"
   ]
  },
  {
   "cell_type": "code",
   "execution_count": 16,
   "metadata": {},
   "outputs": [
    {
     "name": "stdout",
     "output_type": "stream",
     "text": [
      "Model: \"sequential\"\n",
      "_________________________________________________________________\n",
      " Layer (type)                Output Shape              Param #   \n",
      "=================================================================\n",
      " lstm (LSTM)                 (None, 14, 64)            48896     \n",
      "                                                                 \n",
      " lstm_1 (LSTM)               (None, 14, 128)           98816     \n",
      "                                                                 \n",
      " lstm_2 (LSTM)               (None, 64)                49408     \n",
      "                                                                 \n",
      " dense (Dense)               (None, 64)                4160      \n",
      "                                                                 \n",
      " dense_1 (Dense)             (None, 32)                2080      \n",
      "                                                                 \n",
      " dense_2 (Dense)             (None, 26)                858       \n",
      "                                                                 \n",
      "=================================================================\n",
      "Total params: 204,218\n",
      "Trainable params: 204,218\n",
      "Non-trainable params: 0\n",
      "_________________________________________________________________\n"
     ]
    }
   ],
   "source": [
    "model.summary()\n"
   ]
  },
  {
   "cell_type": "code",
   "execution_count": 17,
   "metadata": {},
   "outputs": [
    {
     "name": "stdout",
     "output_type": "stream",
     "text": [
      "13/13 [==============================] - 1s 9ms/step\n"
     ]
    }
   ],
   "source": [
    "res = model.predict(X_test)"
   ]
  },
  {
   "cell_type": "code",
   "execution_count": 18,
   "metadata": {},
   "outputs": [],
   "source": [
    "\n",
    "\n",
    "# # Assume X_test and y_test are your test dataset\n",
    "# # Make predictions\n",
    "# y_pred = model.predict(X_test)\n",
    "\n",
    "# # Convert predictions to class labels\n",
    "# y_pred_classes = np.argmax(y_pred, axis=1)\n",
    "# y_true = np.argmax(y_test, axis=1)  # if y_test is one-hot encoded\n",
    "\n",
    "# # Calculate accuracy\n",
    "# accuracy = accuracy_score(y_true, y_pred_classes)\n",
    "\n",
    "# # Calculate precision, recall, and F1 score for each class\n",
    "# precision = precision_score(y_true, y_pred_classes, average='weighted')\n",
    "# recall = recall_score(y_true, y_pred_classes, average='weighted')\n",
    "# f1 = f1_score(y_true, y_pred_classes, average='weighted')\n",
    "\n",
    "# # Print the results\n",
    "# print(f\"Accuracy: {accuracy}\")\n",
    "# print(f\"Precision: {precision}\")\n",
    "# print(f\"Recall: {recall}\")\n",
    "# print(f\"F1 Score: {f1}\")\n",
    "\n",
    "# # Detailed classification report\n",
    "# report = classification_report(y_true, y_pred_classes)\n",
    "# print(report)\n"
   ]
  },
  {
   "cell_type": "code",
   "execution_count": 19,
   "metadata": {},
   "outputs": [
    {
     "name": "stdout",
     "output_type": "stream",
     "text": [
      "i i\n"
     ]
    }
   ],
   "source": [
    "actions = np.array(ALL_CLASSES)\n",
    "testing = 13\n",
    "print(actions[np.argmax(res[testing])], actions[np.argmax(y_test[testing])])"
   ]
  },
  {
   "cell_type": "code",
   "execution_count": 20,
   "metadata": {},
   "outputs": [],
   "source": [
    "model.save(f'{log_dir}/action.h5')"
   ]
  }
 ],
 "metadata": {
  "kernelspec": {
   "display_name": "tf",
   "language": "python",
   "name": "python3"
  },
  "language_info": {
   "codemirror_mode": {
    "name": "ipython",
    "version": 3
   },
   "file_extension": ".py",
   "mimetype": "text/x-python",
   "name": "python",
   "nbconvert_exporter": "python",
   "pygments_lexer": "ipython3",
   "version": "3.9.18"
  },
  "orig_nbformat": 4
 },
 "nbformat": 4,
 "nbformat_minor": 2
}
