{
 "cells": [
  {
   "cell_type": "code",
   "execution_count": 2,
   "metadata": {},
   "outputs": [],
   "source": [
    "import cv2\n",
    "\n",
    "\n",
    "\n",
    "# Initialize video capture\n",
    "video = cv2.VideoCapture(1)\n",
    "\n",
    "if not video.isOpened():\n",
    "    print(\"Error reading video file\")\n",
    "\n",
    "# Initialize variables\n",
    "frames = []\n",
    "save_video_frames = 60\n",
    "video_counter = 1\n",
    "\n",
    "while True:\n",
    "    ret, frame = video.read()\n",
    "\n",
    "    if ret:\n",
    "        # Display the frame\n",
    "        cv2.imshow('Frame', frame)\n",
    "\n",
    "        # Add frame to the list\n",
    "        frames.append(frame)\n",
    "\n",
    "        # Check if 's' key is pressed\n",
    "        if cv2.waitKey(1) & 0xFF == ord('s'):\n",
    "            # Save the recorded frames as a video\n",
    "            save_video(frames[-save_video_frames:], f'vide/video{video_counter}.mp4')\n",
    "            print(f\"Video {video_counter} was successfully saved\")\n",
    "            video_counter += 1\n",
    "\n",
    "            # Clear the frames list\n",
    "            frames = []\n",
    "\n",
    "            # Wait for a key press to start recording the next video\n",
    "            cv2.waitKey(0)\n",
    "\n",
    "        # Break the loop if 'q' key is pressed\n",
    "        if cv2.waitKey(1) & 0xFF == ord('q'):\n",
    "            break\n",
    "    else:\n",
    "        break\n",
    "\n",
    "# When everything is done, release\n",
    "# the video capture and close all windows\n",
    "video.release()\n",
    "cv2.destroyAllWindows()\n"
   ]
  }
 ],
 "metadata": {
  "kernelspec": {
   "display_name": "Python 3",
   "language": "python",
   "name": "python3"
  },
  "language_info": {
   "codemirror_mode": {
    "name": "ipython",
    "version": 3
   },
   "file_extension": ".py",
   "mimetype": "text/x-python",
   "name": "python",
   "nbconvert_exporter": "python",
   "pygments_lexer": "ipython3",
   "version": "3.10.4"
  },
  "orig_nbformat": 4
 },
 "nbformat": 4,
 "nbformat_minor": 2
}
