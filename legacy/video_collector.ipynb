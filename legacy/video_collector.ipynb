{
 "cells": [
  {
   "cell_type": "code",
   "execution_count": 1,
   "metadata": {},
   "outputs": [],
   "source": [
    "import cv2\n",
    "import mediapipe as mp\n",
    "import time\n",
    "import numpy as np\n",
    "import os\n",
    "from matplotlib import pyplot as plt"
   ]
  },
  {
   "cell_type": "code",
   "execution_count": 2,
   "metadata": {},
   "outputs": [],
   "source": [
    "pTime, cTime = 0, 0\n",
    "\n",
    "CAMERA_INDEX = 0\n",
    "CAMERA_WIDTH = 1920\n",
    "CAMERA_HEIGHT = 1080\n",
    "DATA_DURATION = 60\n",
    "DATA_LENGTH = 30\n",
    "DATA_BASE_PATH = 'raw_video'\n",
    "CLASS_TAKEN = 'a'\n"
   ]
  },
  {
   "cell_type": "code",
   "execution_count": 3,
   "metadata": {},
   "outputs": [],
   "source": [
    "try:\n",
    "    os.makedirs(os.path.join(DATA_BASE_PATH, CLASS_TAKEN))\n",
    "except:\n",
    "    pass\n"
   ]
  },
  {
   "cell_type": "code",
   "execution_count": 4,
   "metadata": {},
   "outputs": [],
   "source": [
    "def show_fps(image, pTime):\n",
    "    cTime = time.time()\n",
    "    fps = 1 / (cTime - pTime)\n",
    "    pTime = cTime\n",
    "    cv2.putText(image, str(int(fps)), (10, 70),\n",
    "                cv2.FONT_HERSHEY_PLAIN, 3, (255, 128, 255), 3)\n",
    "    return image, pTime\n",
    "\n",
    "def save_video(frames, filename):\n",
    "    # We need to set resolutions.\n",
    "    # So, convert them from float to integer.\n",
    "    frame_width = CAMERA_WIDTH\n",
    "    frame_height = CAMERA_HEIGHT\n",
    "\n",
    "    size = (frame_width, frame_height)\n",
    "\n",
    "    # Below VideoWriter object will create\n",
    "    # a frame of above defined size.\n",
    "    result = cv2.VideoWriter(filename,\n",
    "                             cv2.VideoWriter_fourcc(*'mp4v'),\n",
    "                             24, size)\n",
    "\n",
    "    for frame in frames:\n",
    "        # Write the frame into the video file\n",
    "        result.write(frame)\n",
    "\n",
    "    # Release the video write object\n",
    "    result.release()"
   ]
  },
  {
   "cell_type": "code",
   "execution_count": 9,
   "metadata": {},
   "outputs": [
    {
     "ename": "",
     "evalue": "",
     "output_type": "error",
     "traceback": [
      "\u001b[1;31mCannot execute code, session has been disposed. Please try restarting the Kernel."
     ]
    },
    {
     "ename": "",
     "evalue": "",
     "output_type": "error",
     "traceback": [
      "\u001b[1;31mThe Kernel crashed while executing code in the the current cell or a previous cell. Please review the code in the cell(s) to identify a possible cause of the failure. Click <a href='https://aka.ms/vscodeJupyterKernelCrash'>here</a> for more info. View Jupyter <a href='command:jupyter.viewOutput'>log</a> for further details."
     ]
    }
   ],
   "source": [
    "cap = cv2.VideoCapture(CAMERA_INDEX, cv2.CAP_DSHOW)\n",
    "cap.set(cv2.CAP_PROP_FRAME_WIDTH, CAMERA_WIDTH)\n",
    "cap.set(cv2.CAP_PROP_FRAME_HEIGHT, CAMERA_HEIGHT)\n",
    "\n",
    "\n",
    "if not cap.isOpened():\n",
    "    print(\"Cannot open camera\")\n",
    "    exit()\n",
    "\n",
    "frame_count = 0\n",
    "capture_frames = False\n",
    "session_count = 0\n",
    "frames = []\n",
    "video_counter = 1\n",
    "\n",
    "while True:\n",
    "    success, frame = cap.read()\n",
    "    if not success:\n",
    "        break\n",
    "\n",
    "    frame_fps, pTime = show_fps(frame, pTime)\n",
    "    key = cv2.waitKey(1) & 0xFF\n",
    "\n",
    "    # If pressed space bar create a path for new dataset\n",
    "    if key == ord(' '):\n",
    "        frame_count = 0\n",
    "        save_video(frames[-DATA_DURATION:], f'vide/video{video_counter}.mp4')\n",
    "        video_counter += 1\n",
    "\n",
    "        while(os.path.exists(os.path.join(DATA_BASE_PATH, CLASS_TAKEN))):\n",
    "            session_count += 1\n",
    "\n",
    "        if not os.path.exists(os.path.join(DATA_BASE_PATH, CLASS_TAKEN, str(session_count))):\n",
    "            os.makedirs(os.path.join(DATA_BASE_PATH,\n",
    "                        CLASS_TAKEN, str(session_count)))\n",
    "            # session_count += 1\n",
    "\n",
    "        capture_frames = True\n",
    "\n",
    "    if capture_frames:\n",
    "        frame_count += 1\n",
    "\n",
    "        # Stop capturing frames after capturing 30 frames\n",
    "        if frame_count == 30:\n",
    "            capture_frames = False\n",
    "            print(\"Finished capturing frames.\")\n",
    "            result.release()\n",
    "\n",
    "    cv2.imshow(\"Holistic Mediapipe\", frame)\n",
    "    if key == ord('q'):\n",
    "        break\n",
    "\n",
    "cap.release()\n",
    "cv2.destroyAllWindows()\n"
   ]
  }
 ],
 "metadata": {
  "kernelspec": {
   "display_name": "Python 3",
   "language": "python",
   "name": "python3"
  },
  "language_info": {
   "codemirror_mode": {
    "name": "ipython",
    "version": 3
   },
   "file_extension": ".py",
   "mimetype": "text/x-python",
   "name": "python",
   "nbconvert_exporter": "python",
   "pygments_lexer": "ipython3",
   "version": "3.10.4"
  },
  "orig_nbformat": 4,
  "vscode": {
   "interpreter": {
    "hash": "b70a1df445f6aaef4f3d85bf837047af5ade8636513558fdaf2fee1f0a0508fe"
   }
  }
 },
 "nbformat": 4,
 "nbformat_minor": 2
}
