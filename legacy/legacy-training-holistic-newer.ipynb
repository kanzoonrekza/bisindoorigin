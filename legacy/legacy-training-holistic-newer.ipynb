{
 "cells": [
  {
   "cell_type": "markdown",
   "metadata": {},
   "source": [
    "# Code for training the holistic model"
   ]
  },
  {
   "cell_type": "markdown",
   "metadata": {},
   "source": [
    "## Import Libraries \n"
   ]
  },
  {
   "cell_type": "code",
   "execution_count": 337,
   "metadata": {},
   "outputs": [],
   "source": [
    "import tensorflow as tf\n",
    "import numpy as np\n",
    "import os\n",
    "from datetime import datetime\n",
    "\n",
    "from keras.models import Sequential\n",
    "from keras.layers import LSTM, Dense\n",
    "from keras.callbacks import TensorBoard\n",
    "from keras.optimizers import Adam\n",
    "\n",
    "\n",
    "from sklearn.model_selection import train_test_split\n",
    "from sklearn.metrics import multilabel_confusion_matrix, accuracy_score, precision_score, recall_score, f1_score, classification_report"
   ]
  },
  {
   "cell_type": "markdown",
   "metadata": {},
   "source": [
    "## Setup Variables"
   ]
  },
  {
   "cell_type": "code",
   "execution_count": 338,
   "metadata": {},
   "outputs": [],
   "source": [
    "FOLDER_NAME = 'dataset'\n",
    "ALL_CLASSES = ['a', 'b', 'c', 'd', 'e', 'f', 'g', 'h', 'i', 'j', 'k', 'l', 'm', 'n', 'o', 'p', 'q', 'r', 's', 't', 'u', 'v', 'w', 'x', 'y', 'z']"
   ]
  },
  {
   "cell_type": "code",
   "execution_count": 339,
   "metadata": {},
   "outputs": [
    {
     "name": "stdout",
     "output_type": "stream",
     "text": [
      "{'a': 0, 'b': 1, 'c': 2, 'd': 3, 'e': 4, 'f': 5, 'g': 6, 'h': 7, 'i': 8, 'j': 9, 'k': 10, 'l': 11, 'm': 12, 'n': 13, 'o': 14, 'p': 15, 'q': 16, 'r': 17, 's': 18, 't': 19, 'u': 20, 'v': 21, 'w': 22, 'x': 23, 'y': 24, 'z': 25}\n"
     ]
    }
   ],
   "source": [
    "# Create label map, representing each class as a number\n",
    "label_map = {}\n",
    "for (root, folders, files) in os.walk(FOLDER_NAME):\n",
    "    for foldername in folders:\n",
    "        if foldername in ALL_CLASSES:\n",
    "            label_map[foldername] = ALL_CLASSES.index(foldername)\n",
    "\n",
    "print(label_map)"
   ]
  },
  {
   "cell_type": "code",
   "execution_count": 340,
   "metadata": {},
   "outputs": [
    {
     "name": "stdout",
     "output_type": "stream",
     "text": [
      "Total files: 0 --- dataset\n",
      "Total files: 50 --- dataset\\a\n",
      "Total files: 50 --- dataset\\b\n",
      "Total files: 50 --- dataset\\c\n",
      "Total files: 50 --- dataset\\d\n",
      "Total files: 50 --- dataset\\e\n",
      "Total files: 50 --- dataset\\f\n",
      "Total files: 50 --- dataset\\g\n",
      "Total files: 50 --- dataset\\h\n",
      "Total files: 50 --- dataset\\i\n",
      "Total files: 50 --- dataset\\j\n",
      "Total files: 50 --- dataset\\k\n",
      "Total files: 50 --- dataset\\l\n",
      "Total files: 50 --- dataset\\m\n",
      "Total files: 50 --- dataset\\n\n",
      "Total files: 50 --- dataset\\o\n",
      "Total files: 50 --- dataset\\p\n",
      "Total files: 50 --- dataset\\q\n",
      "Total files: 50 --- dataset\\r\n",
      "Total files: 50 --- dataset\\s\n",
      "Total files: 50 --- dataset\\t\n",
      "Total files: 50 --- dataset\\u\n",
      "Total files: 50 --- dataset\\v\n",
      "Total files: 50 --- dataset\\w\n",
      "Total files: 50 --- dataset\\x\n",
      "Total files: 50 --- dataset\\y\n",
      "Total files: 50 --- dataset\\z\n",
      "(1300, 14, 1662)\n",
      "(1300,)\n"
     ]
    }
   ],
   "source": [
    "# Get all datset data with its label and put it in a list\n",
    "sequence, label = [], []\n",
    "target_length = 14\n",
    "for (root, folders, files) in os.walk(FOLDER_NAME):\n",
    "    total_file = 0\n",
    "    for filename in files:\n",
    "        file_path = os.path.join(os.path.relpath(\n",
    "            root, FOLDER_NAME), filename)\n",
    "        if (filename.endswith('.npy') and os.path.split(file_path)[0] in ALL_CLASSES):\n",
    "            res = np.load(f'{FOLDER_NAME}/{file_path}')\n",
    "            for _ in range(target_length-res.shape[0]):\n",
    "                res = np.vstack((res, res[-1, :]))\n",
    "            # res = res[:, -126:]\n",
    "            sequence.append(np.array(res))\n",
    "            label.append(label_map[os.path.basename(root[-1])])\n",
    "            total_file += 1\n",
    "    print(f\"Total files: {total_file} --- {root}\")\n",
    "\n",
    "print(np.array(sequence).shape)\n",
    "print(np.array(label).shape)"
   ]
  },
  {
   "cell_type": "code",
   "execution_count": 341,
   "metadata": {},
   "outputs": [
    {
     "name": "stdout",
     "output_type": "stream",
     "text": [
      "(2600, 14, 1662)\n",
      "(2600,)\n"
     ]
    }
   ],
   "source": [
    "# Dataset duplication if necessary, 1 means no duplication\n",
    "n = 2\n",
    "sequence = np.concatenate([sequence] * n, axis=0)\n",
    "label = np.concatenate([label] * n, axis=0)\n",
    "\n",
    "\n",
    "print(np.array(sequence).shape)\n",
    "print(np.array(label).shape)"
   ]
  },
  {
   "cell_type": "code",
   "execution_count": 342,
   "metadata": {},
   "outputs": [
    {
     "data": {
      "text/plain": [
       "[PhysicalDevice(name='/physical_device:GPU:0', device_type='GPU')]"
      ]
     },
     "execution_count": 342,
     "metadata": {},
     "output_type": "execute_result"
    }
   ],
   "source": [
    "tf.config.list_physical_devices('GPU')\n"
   ]
  },
  {
   "cell_type": "markdown",
   "metadata": {},
   "source": [
    "## Training Data"
   ]
  },
  {
   "cell_type": "code",
   "execution_count": 343,
   "metadata": {},
   "outputs": [
    {
     "name": "stdout",
     "output_type": "stream",
     "text": [
      "(2080, 14, 1662) (520, 14, 1662)\n"
     ]
    }
   ],
   "source": [
    "X_train, X_test, y_train, y_test = train_test_split(np.array(sequence), tf.keras.utils.to_categorical(\n",
    "    np.array(label).astype(int), num_classes=np.array(ALL_CLASSES).shape[0], dtype='float32'), test_size=0.2)\n",
    "\n",
    "print(X_train.shape, X_test.shape)\n"
   ]
  },
  {
   "cell_type": "code",
   "execution_count": 344,
   "metadata": {},
   "outputs": [
    {
     "name": "stdout",
     "output_type": "stream",
     "text": [
      "Logs\\holistic-1662-tanh-lr-0001-dupli-2x-20240802-090903\n"
     ]
    }
   ],
   "source": [
    "training_phase = \"holistic-1662-tanh-lr-0001-dupli-2x-\" + datetime.now().strftime(\"%Y%m%d-%H%M%S\")\n",
    "log_dir = os.path.join('Logs', training_phase)\n",
    "tb_callback = TensorBoard(log_dir=log_dir)\n",
    "\n",
    "print(log_dir)\n",
    "\n",
    "model = Sequential()\n",
    "model.add(LSTM(64, return_sequences=True,\n",
    "          # activation='tanh', input_shape=(14, 126)))\n",
    "          activation='tanh', input_shape=(14, 1662)))\n",
    "model.add(LSTM(64, return_sequences=True, activation='tanh'))\n",
    "model.add(LSTM(64, return_sequences=False, activation='tanh'))\n",
    "model.add(Dense(64, activation='relu'))\n",
    "model.add(Dense(32, activation='relu'))\n",
    "model.add(Dense(np.array(ALL_CLASSES).shape[0], activation='softmax'))\n",
    "\n",
    "learning_rate = 0.0001\n",
    "optimizer = Adam(learning_rate=learning_rate)\n",
    "\n",
    "model.compile(optimizer=optimizer, loss='categorical_crossentropy',\n",
    "              metrics=['categorical_accuracy'])"
   ]
  },
  {
   "cell_type": "code",
   "execution_count": 345,
   "metadata": {},
   "outputs": [
    {
     "name": "stdout",
     "output_type": "stream",
     "text": [
      "Epoch 1/80\n",
      "65/65 [==============================] - 5s 17ms/step - loss: 3.2194 - categorical_accuracy: 0.0673\n",
      "Epoch 2/80\n",
      "65/65 [==============================] - 1s 13ms/step - loss: 3.1010 - categorical_accuracy: 0.0784\n",
      "Epoch 3/80\n",
      "65/65 [==============================] - 1s 13ms/step - loss: 3.0029 - categorical_accuracy: 0.0784\n",
      "Epoch 4/80\n",
      "65/65 [==============================] - 1s 22ms/step - loss: 2.9281 - categorical_accuracy: 0.0889\n",
      "Epoch 5/80\n",
      "65/65 [==============================] - 1s 13ms/step - loss: 2.8348 - categorical_accuracy: 0.1005\n",
      "Epoch 6/80\n",
      "65/65 [==============================] - 2s 24ms/step - loss: 2.7429 - categorical_accuracy: 0.0981\n",
      "Epoch 7/80\n",
      "65/65 [==============================] - 1s 23ms/step - loss: 2.6383 - categorical_accuracy: 0.1269\n",
      "Epoch 8/80\n",
      "65/65 [==============================] - 1s 12ms/step - loss: 2.4753 - categorical_accuracy: 0.2062\n",
      "Epoch 9/80\n",
      "65/65 [==============================] - 1s 12ms/step - loss: 2.3611 - categorical_accuracy: 0.2308\n",
      "Epoch 10/80\n",
      "65/65 [==============================] - 1s 13ms/step - loss: 2.2443 - categorical_accuracy: 0.2659\n",
      "Epoch 11/80\n",
      "65/65 [==============================] - 1s 15ms/step - loss: 2.1376 - categorical_accuracy: 0.2981\n",
      "Epoch 12/80\n",
      "65/65 [==============================] - 1s 20ms/step - loss: 2.0928 - categorical_accuracy: 0.2880\n",
      "Epoch 13/80\n",
      "65/65 [==============================] - 1s 12ms/step - loss: 2.0112 - categorical_accuracy: 0.3293\n",
      "Epoch 14/80\n",
      "65/65 [==============================] - 1s 20ms/step - loss: 1.9373 - categorical_accuracy: 0.3514\n",
      "Epoch 15/80\n",
      "65/65 [==============================] - 1s 21ms/step - loss: 1.9233 - categorical_accuracy: 0.3534\n",
      "Epoch 16/80\n",
      "65/65 [==============================] - 1s 12ms/step - loss: 1.8508 - categorical_accuracy: 0.3827\n",
      "Epoch 17/80\n",
      "65/65 [==============================] - 1s 11ms/step - loss: 1.8424 - categorical_accuracy: 0.3913\n",
      "Epoch 18/80\n",
      "65/65 [==============================] - 1s 12ms/step - loss: 1.7641 - categorical_accuracy: 0.4058\n",
      "Epoch 19/80\n",
      "65/65 [==============================] - 1s 14ms/step - loss: 1.6945 - categorical_accuracy: 0.4341\n",
      "Epoch 20/80\n",
      "65/65 [==============================] - 1s 15ms/step - loss: 1.6546 - categorical_accuracy: 0.4389\n",
      "Epoch 21/80\n",
      "65/65 [==============================] - 1s 16ms/step - loss: 1.5911 - categorical_accuracy: 0.4500\n",
      "Epoch 22/80\n",
      "65/65 [==============================] - 1s 12ms/step - loss: 1.6126 - categorical_accuracy: 0.4457\n",
      "Epoch 23/80\n",
      "65/65 [==============================] - 1s 13ms/step - loss: 1.5263 - categorical_accuracy: 0.4899\n",
      "Epoch 24/80\n",
      "65/65 [==============================] - 1s 13ms/step - loss: 1.4925 - categorical_accuracy: 0.4909\n",
      "Epoch 25/80\n",
      "65/65 [==============================] - 1s 14ms/step - loss: 1.4640 - categorical_accuracy: 0.5053\n",
      "Epoch 26/80\n",
      "65/65 [==============================] - 1s 13ms/step - loss: 1.4135 - categorical_accuracy: 0.5159\n",
      "Epoch 27/80\n",
      "65/65 [==============================] - 1s 13ms/step - loss: 1.3714 - categorical_accuracy: 0.5327\n",
      "Epoch 28/80\n",
      "65/65 [==============================] - 1s 13ms/step - loss: 1.3358 - categorical_accuracy: 0.5389\n",
      "Epoch 29/80\n",
      "65/65 [==============================] - 1s 14ms/step - loss: 1.3211 - categorical_accuracy: 0.5433\n",
      "Epoch 30/80\n",
      "65/65 [==============================] - 1s 14ms/step - loss: 1.2416 - categorical_accuracy: 0.5784\n",
      "Epoch 31/80\n",
      "65/65 [==============================] - 1s 15ms/step - loss: 1.2145 - categorical_accuracy: 0.6038\n",
      "Epoch 32/80\n",
      "65/65 [==============================] - 1s 14ms/step - loss: 1.1695 - categorical_accuracy: 0.6072\n",
      "Epoch 33/80\n",
      "65/65 [==============================] - 1s 13ms/step - loss: 1.1520 - categorical_accuracy: 0.6130\n",
      "Epoch 34/80\n",
      "65/65 [==============================] - 1s 13ms/step - loss: 1.2456 - categorical_accuracy: 0.5673\n",
      "Epoch 35/80\n",
      "65/65 [==============================] - 1s 13ms/step - loss: 1.1096 - categorical_accuracy: 0.6245\n",
      "Epoch 36/80\n",
      "65/65 [==============================] - 1s 14ms/step - loss: 1.1055 - categorical_accuracy: 0.6221\n",
      "Epoch 37/80\n",
      "65/65 [==============================] - 1s 13ms/step - loss: 1.0360 - categorical_accuracy: 0.6534\n",
      "Epoch 38/80\n",
      "65/65 [==============================] - 1s 14ms/step - loss: 1.0252 - categorical_accuracy: 0.6538\n",
      "Epoch 39/80\n",
      "65/65 [==============================] - 1s 13ms/step - loss: 1.0386 - categorical_accuracy: 0.6447\n",
      "Epoch 40/80\n",
      "65/65 [==============================] - 1s 13ms/step - loss: 1.0333 - categorical_accuracy: 0.6447\n",
      "Epoch 41/80\n",
      "65/65 [==============================] - 1s 13ms/step - loss: 1.1565 - categorical_accuracy: 0.5899\n",
      "Epoch 42/80\n",
      "65/65 [==============================] - 1s 13ms/step - loss: 0.9751 - categorical_accuracy: 0.6755\n",
      "Epoch 43/80\n",
      "65/65 [==============================] - 1s 17ms/step - loss: 0.9379 - categorical_accuracy: 0.6938\n",
      "Epoch 44/80\n",
      "65/65 [==============================] - 1s 13ms/step - loss: 0.9299 - categorical_accuracy: 0.6889\n",
      "Epoch 45/80\n",
      "65/65 [==============================] - 1s 14ms/step - loss: 0.8942 - categorical_accuracy: 0.7115\n",
      "Epoch 46/80\n",
      "65/65 [==============================] - 1s 13ms/step - loss: 0.8986 - categorical_accuracy: 0.6971\n",
      "Epoch 47/80\n",
      "65/65 [==============================] - 1s 14ms/step - loss: 0.8563 - categorical_accuracy: 0.7260\n",
      "Epoch 48/80\n",
      "65/65 [==============================] - 1s 13ms/step - loss: 0.8462 - categorical_accuracy: 0.7183\n",
      "Epoch 49/80\n",
      "65/65 [==============================] - 1s 14ms/step - loss: 0.8459 - categorical_accuracy: 0.7178\n",
      "Epoch 50/80\n",
      "65/65 [==============================] - 1s 16ms/step - loss: 0.8047 - categorical_accuracy: 0.7197\n",
      "Epoch 51/80\n",
      "65/65 [==============================] - 1s 16ms/step - loss: 0.8290 - categorical_accuracy: 0.7101\n",
      "Epoch 52/80\n",
      "65/65 [==============================] - 1s 17ms/step - loss: 0.8605 - categorical_accuracy: 0.7048\n",
      "Epoch 53/80\n",
      "65/65 [==============================] - 1s 16ms/step - loss: 0.8229 - categorical_accuracy: 0.7197\n",
      "Epoch 54/80\n",
      "65/65 [==============================] - 1s 18ms/step - loss: 0.7413 - categorical_accuracy: 0.7558\n",
      "Epoch 55/80\n",
      "65/65 [==============================] - 1s 12ms/step - loss: 0.7093 - categorical_accuracy: 0.7606\n",
      "Epoch 56/80\n",
      "65/65 [==============================] - 1s 12ms/step - loss: 0.7636 - categorical_accuracy: 0.7365\n",
      "Epoch 57/80\n",
      "65/65 [==============================] - 1s 13ms/step - loss: 0.7263 - categorical_accuracy: 0.7534\n",
      "Epoch 58/80\n",
      "65/65 [==============================] - 1s 13ms/step - loss: 0.7537 - categorical_accuracy: 0.7346\n",
      "Epoch 59/80\n",
      "65/65 [==============================] - 1s 13ms/step - loss: 0.6746 - categorical_accuracy: 0.7841\n",
      "Epoch 60/80\n",
      "65/65 [==============================] - 1s 17ms/step - loss: 0.7701 - categorical_accuracy: 0.7212\n",
      "Epoch 61/80\n",
      "65/65 [==============================] - 1s 12ms/step - loss: 0.6380 - categorical_accuracy: 0.7909\n",
      "Epoch 62/80\n",
      "65/65 [==============================] - 1s 12ms/step - loss: 0.6419 - categorical_accuracy: 0.7837\n",
      "Epoch 63/80\n",
      "65/65 [==============================] - 1s 13ms/step - loss: 0.6660 - categorical_accuracy: 0.7726\n",
      "Epoch 64/80\n",
      "65/65 [==============================] - 1s 13ms/step - loss: 0.6780 - categorical_accuracy: 0.7707\n",
      "Epoch 65/80\n",
      "65/65 [==============================] - 1s 13ms/step - loss: 0.5980 - categorical_accuracy: 0.7904\n",
      "Epoch 66/80\n",
      "65/65 [==============================] - 1s 14ms/step - loss: 0.6459 - categorical_accuracy: 0.7702\n",
      "Epoch 67/80\n",
      "65/65 [==============================] - 1s 13ms/step - loss: 0.5485 - categorical_accuracy: 0.8192\n",
      "Epoch 68/80\n",
      "65/65 [==============================] - 1s 13ms/step - loss: 0.5594 - categorical_accuracy: 0.8019\n",
      "Epoch 69/80\n",
      "65/65 [==============================] - 1s 13ms/step - loss: 0.5650 - categorical_accuracy: 0.8072\n",
      "Epoch 70/80\n",
      "65/65 [==============================] - 1s 14ms/step - loss: 0.5424 - categorical_accuracy: 0.8163\n",
      "Epoch 71/80\n",
      "65/65 [==============================] - 1s 13ms/step - loss: 0.7367 - categorical_accuracy: 0.7341\n",
      "Epoch 72/80\n",
      "65/65 [==============================] - 1s 13ms/step - loss: 0.5591 - categorical_accuracy: 0.8053\n",
      "Epoch 73/80\n",
      "65/65 [==============================] - 1s 12ms/step - loss: 0.5374 - categorical_accuracy: 0.8111\n",
      "Epoch 74/80\n",
      "65/65 [==============================] - 1s 13ms/step - loss: 0.5025 - categorical_accuracy: 0.8264\n",
      "Epoch 75/80\n",
      "65/65 [==============================] - 1s 13ms/step - loss: 0.5543 - categorical_accuracy: 0.7976\n",
      "Epoch 76/80\n",
      "65/65 [==============================] - 1s 13ms/step - loss: 0.5196 - categorical_accuracy: 0.8216\n",
      "Epoch 77/80\n",
      "65/65 [==============================] - 1s 20ms/step - loss: 0.4572 - categorical_accuracy: 0.8490\n",
      "Epoch 78/80\n",
      "65/65 [==============================] - 1s 12ms/step - loss: 0.4913 - categorical_accuracy: 0.8346\n",
      "Epoch 79/80\n",
      "65/65 [==============================] - 1s 12ms/step - loss: 0.4957 - categorical_accuracy: 0.8207\n",
      "Epoch 80/80\n",
      "65/65 [==============================] - 1s 12ms/step - loss: 0.4360 - categorical_accuracy: 0.8510\n"
     ]
    },
    {
     "data": {
      "text/plain": [
       "<keras.callbacks.History at 0x1d75e1a8f10>"
      ]
     },
     "execution_count": 345,
     "metadata": {},
     "output_type": "execute_result"
    }
   ],
   "source": [
    "model.fit(X_train, y_train, epochs=80, callbacks=[\n",
    "          tb_callback])"
   ]
  },
  {
   "cell_type": "code",
   "execution_count": 346,
   "metadata": {},
   "outputs": [
    {
     "name": "stdout",
     "output_type": "stream",
     "text": [
      "Model: \"sequential_22\"\n",
      "_________________________________________________________________\n",
      " Layer (type)                Output Shape              Param #   \n",
      "=================================================================\n",
      " lstm_66 (LSTM)              (None, 14, 64)            442112    \n",
      "                                                                 \n",
      " lstm_67 (LSTM)              (None, 14, 64)            33024     \n",
      "                                                                 \n",
      " lstm_68 (LSTM)              (None, 64)                33024     \n",
      "                                                                 \n",
      " dense_66 (Dense)            (None, 64)                4160      \n",
      "                                                                 \n",
      " dense_67 (Dense)            (None, 32)                2080      \n",
      "                                                                 \n",
      " dense_68 (Dense)            (None, 26)                858       \n",
      "                                                                 \n",
      "=================================================================\n",
      "Total params: 515,258\n",
      "Trainable params: 515,258\n",
      "Non-trainable params: 0\n",
      "_________________________________________________________________\n"
     ]
    }
   ],
   "source": [
    "model.summary()\n"
   ]
  },
  {
   "cell_type": "code",
   "execution_count": 347,
   "metadata": {},
   "outputs": [],
   "source": [
    "model.save(f'{log_dir}/action.h5')"
   ]
  },
  {
   "cell_type": "code",
   "execution_count": 348,
   "metadata": {},
   "outputs": [
    {
     "name": "stdout",
     "output_type": "stream",
     "text": [
      "17/17 [==============================] - 1s 8ms/step\n"
     ]
    }
   ],
   "source": [
    "res = model.predict(X_test)"
   ]
  },
  {
   "cell_type": "code",
   "execution_count": 349,
   "metadata": {},
   "outputs": [
    {
     "name": "stdout",
     "output_type": "stream",
     "text": [
      "17/17 [==============================] - 0s 7ms/step\n",
      "Accuracy: 0.8788461538461538\n",
      "Precision: 0.8852867803655915\n",
      "Recall: 0.8788461538461538\n",
      "F1 Score: 0.8780779553907957\n",
      "\n"
     ]
    }
   ],
   "source": [
    "\n",
    "import sys\n",
    "import io\n",
    "\n",
    "# Redirect stdout to a string buffer\n",
    "old_stdout = sys.stdout\n",
    "sys.stdout = buffer = io.StringIO()\n",
    "\n",
    "# Assume X_test and y_test are your test dataset\n",
    "# Make predictions\n",
    "y_pred = model.predict(X_test)\n",
    "\n",
    "# Convert predictions to class labels\n",
    "y_pred_classes = np.argmax(y_pred, axis=1)\n",
    "y_true = np.argmax(y_test, axis=1)  # if y_test is one-hot encoded\n",
    "\n",
    "# Calculate accuracy\n",
    "accuracy = accuracy_score(y_true, y_pred_classes)\n",
    "\n",
    "# Calculate precision, recall, and F1 score for each class\n",
    "precision = precision_score(y_true, y_pred_classes, average='weighted')\n",
    "recall = recall_score(y_true, y_pred_classes, average='weighted')\n",
    "f1 = f1_score(y_true, y_pred_classes, average='weighted')\n",
    "\n",
    "# Print the results\n",
    "print(f\"Accuracy: {accuracy}\")\n",
    "print(f\"Precision: {precision}\")\n",
    "print(f\"Recall: {recall}\")\n",
    "print(f\"F1 Score: {f1}\")\n",
    "\n",
    "# Detailed classification report\n",
    "report = classification_report(y_true, y_pred_classes)\n",
    "\n",
    "# Restore stdout\n",
    "sys.stdout = old_stdout\n",
    "\n",
    "# Get the contents of the buffer\n",
    "output = buffer.getvalue()\n",
    "\n",
    "# Save the output to a text file\n",
    "with open('classification_results.txt', 'w') as f:\n",
    "    f.write(output)\n",
    "\n",
    "# Optionally, print the output to console as well\n",
    "print(output)"
   ]
  },
  {
   "cell_type": "code",
   "execution_count": 350,
   "metadata": {},
   "outputs": [
    {
     "name": "stdout",
     "output_type": "stream",
     "text": [
      "r r\n"
     ]
    }
   ],
   "source": [
    "actions = np.array(ALL_CLASSES)\n",
    "testing = 13\n",
    "print(actions[np.argmax(res[testing])], actions[np.argmax(y_test[testing])])"
   ]
  }
 ],
 "metadata": {
  "kernelspec": {
   "display_name": "tf",
   "language": "python",
   "name": "python3"
  },
  "language_info": {
   "codemirror_mode": {
    "name": "ipython",
    "version": 3
   },
   "file_extension": ".py",
   "mimetype": "text/x-python",
   "name": "python",
   "nbconvert_exporter": "python",
   "pygments_lexer": "ipython3",
   "version": "3.9.18"
  },
  "orig_nbformat": 4
 },
 "nbformat": 4,
 "nbformat_minor": 2
}
