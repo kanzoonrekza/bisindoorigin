{
 "cells": [
  {
   "cell_type": "code",
   "execution_count": 8,
   "metadata": {},
   "outputs": [],
   "source": [
    "import cv2\n",
    "import mediapipe as mp\n",
    "import time\n",
    "import numpy as np\n",
    "import os\n",
    "from matplotlib import pyplot as plt"
   ]
  },
  {
   "cell_type": "code",
   "execution_count": 9,
   "metadata": {},
   "outputs": [],
   "source": [
    "mp_holistic = mp.solutions.holistic  # MP holistic model\n",
    "mp_drawing = mp.solutions.drawing_utils  # MP drawing utilities\n",
    "mp_drawing_styles = mp.solutions.drawing_styles\n",
    "pTime, cTime = 0, 0\n",
    "\n",
    "CAMERA_INDEX = 0\n",
    "CAMERA_WIDTH = 1920\n",
    "CAMERA_HEIGHT = 1080\n",
    "DATA_DURATION = 30\n",
    "DATA_LENGTH = 30\n",
    "DATA_BASE_PATH = 'MP_Dataset'\n",
    "CLASS_TAKEN = 'a'\n"
   ]
  },
  {
   "cell_type": "code",
   "execution_count": 10,
   "metadata": {},
   "outputs": [],
   "source": [
    "try:\n",
    "    os.makedirs(os.path.join(DATA_BASE_PATH, CLASS_TAKEN))\n",
    "except:\n",
    "    pass\n"
   ]
  },
  {
   "cell_type": "code",
   "execution_count": 11,
   "metadata": {},
   "outputs": [],
   "source": [
    "def use_holistic(image, holistic, mp_drawing):\n",
    "    image.flags.writeable = False\n",
    "    image = cv2.cvtColor(image, cv2.COLOR_BGR2RGB)\n",
    "    results = holistic.process(image)\n",
    "\n",
    "    # Draw landmark annotation on the image.\n",
    "    image.flags.writeable = True\n",
    "    image = cv2.cvtColor(image, cv2.COLOR_RGB2BGR)\n",
    "    mp_drawing.draw_landmarks(\n",
    "        image,\n",
    "        results.face_landmarks,\n",
    "        mp_holistic.FACEMESH_CONTOURS,\n",
    "        landmark_drawing_spec=None,\n",
    "        connection_drawing_spec=mp_drawing_styles\n",
    "        .get_default_face_mesh_contours_style())\n",
    "    mp_drawing.draw_landmarks(\n",
    "        image,\n",
    "        results.pose_landmarks,\n",
    "        mp_holistic.POSE_CONNECTIONS,\n",
    "        landmark_drawing_spec=mp_drawing_styles\n",
    "        .get_default_pose_landmarks_style())\n",
    "    mp_drawing.draw_landmarks(\n",
    "        image,\n",
    "        results.left_hand_landmarks,\n",
    "        mp_holistic.HAND_CONNECTIONS,\n",
    "        landmark_drawing_spec=mp_drawing_styles\n",
    "        .get_default_hand_landmarks_style())\n",
    "    mp_drawing.draw_landmarks(\n",
    "        image,\n",
    "        results.right_hand_landmarks,\n",
    "        mp_holistic.HAND_CONNECTIONS,\n",
    "        landmark_drawing_spec=mp_drawing_styles\n",
    "        .get_default_hand_landmarks_style())\n",
    "    return image, results\n",
    "\n",
    "def show_fps(image, pTime):\n",
    "    cTime = time.time()\n",
    "    fps = 1 / (cTime - pTime)\n",
    "    pTime = cTime\n",
    "    cv2.putText(image, str(int(fps)), (10, 70),\n",
    "                cv2.FONT_HERSHEY_PLAIN, 3, (255, 128, 255), 3)\n",
    "    return image, pTime"
   ]
  },
  {
   "cell_type": "code",
   "execution_count": 12,
   "metadata": {},
   "outputs": [],
   "source": [
    "def image_keypoints(results):\n",
    "    pose = np.array([[res.x, res.y, res.z, res.visibility] for res in results.pose_landmarks.landmark]\n",
    "                    ).flatten() if results.pose_landmarks else np.zeros(132)\n",
    "    face = np.array([[res.x, res.y, res.z] for res in results.face_landmarks.landmark]\n",
    "                    ).flatten() if results.face_landmarks else np.zeros(1404)\n",
    "    left_hand = np.array([[res.x, res.y, res.z] for res in results.left_hand_landmarks.landmark]\n",
    "                         ).flatten() if results.left_hand_landmarks else np.zeros(21*3)\n",
    "    right_hand = np.array([[res.x, res.y, res.z] for res in results.right_hand_landmarks.landmark]\n",
    "                          ).flatten() if results.right_hand_landmarks else np.zeros(21*3)\n",
    "    return np.concatenate([pose, face, left_hand, right_hand])\n"
   ]
  },
  {
   "cell_type": "code",
   "execution_count": 16,
   "metadata": {},
   "outputs": [
    {
     "name": "stdout",
     "output_type": "stream",
     "text": [
      "Capturing frames...\n",
      "Finished capturing frames.\n"
     ]
    }
   ],
   "source": [
    "cap = cv2.VideoCapture(CAMERA_INDEX, cv2.CAP_DSHOW)\n",
    "cap.set(cv2.CAP_PROP_FRAME_WIDTH, CAMERA_WIDTH)\n",
    "cap.set(cv2.CAP_PROP_FRAME_HEIGHT, CAMERA_HEIGHT)\n",
    "with mp_holistic.Holistic(\n",
    "        min_detection_confidence=0.3,\n",
    "        min_tracking_confidence=0.3) as holistic:\n",
    "\n",
    "    if not cap.isOpened():\n",
    "        print(\"Cannot open camera\")\n",
    "        exit()\n",
    "\n",
    "    frame_count = 0\n",
    "    capture_frames = False\n",
    "    session_count = 0\n",
    "    while True:\n",
    "        success, image = cap.read()\n",
    "        if not success:\n",
    "            print(\"Can't receive frame (stream end?). Exiting ...\")\n",
    "            break\n",
    "\n",
    "        image, results = use_holistic(image, holistic, mp_drawing)\n",
    "        image, pTime = show_fps(image, pTime)\n",
    "        key = cv2.waitKey(1) & 0xFF\n",
    "\n",
    "        # If pressed space bar create a path for new dataset\n",
    "        if key == ord(' '):\n",
    "            landmarks = image_keypoints(results)\n",
    "            frame_count = 0\n",
    "            print(\"Capturing frames...\")\n",
    "\n",
    "            while(os.path.exists(os.path.join(DATA_BASE_PATH, CLASS_TAKEN, str(session_count)))):\n",
    "                session_count += 1\n",
    "\n",
    "            if not os.path.exists(os.path.join(DATA_BASE_PATH, CLASS_TAKEN, str(session_count))):\n",
    "                os.makedirs(os.path.join(DATA_BASE_PATH,\n",
    "                            CLASS_TAKEN, str(session_count)))\n",
    "                # session_count += 1\n",
    "\n",
    "            capture_frames = True\n",
    "\n",
    "        if capture_frames:\n",
    "            cv2.imwrite(os.path.join(\n",
    "                DATA_BASE_PATH, CLASS_TAKEN, str(session_count), f\"frame{frame_count}.jpg\"), image)\n",
    "            np.save(os.path.join(\n",
    "                DATA_BASE_PATH, CLASS_TAKEN, str(session_count), f\"frame{frame_count}\"), landmarks)\n",
    "            frame_count += 1\n",
    "\n",
    "            # Stop capturing frames after capturing 30 frames\n",
    "            if frame_count == 30:\n",
    "                capture_frames = False\n",
    "                print(\"Finished capturing frames.\")\n",
    "\n",
    "        cv2.imshow(\"Holistic Mediapipe\", image)\n",
    "        if key == ord('q'):\n",
    "            break\n",
    "\n",
    "cap.release()\n",
    "cv2.destroyAllWindows()\n"
   ]
  }
 ],
 "metadata": {
  "kernelspec": {
   "display_name": "Python 3",
   "language": "python",
   "name": "python3"
  },
  "language_info": {
   "codemirror_mode": {
    "name": "ipython",
    "version": 3
   },
   "file_extension": ".py",
   "mimetype": "text/x-python",
   "name": "python",
   "nbconvert_exporter": "python",
   "pygments_lexer": "ipython3",
   "version": "3.10.4"
  },
  "orig_nbformat": 4,
  "vscode": {
   "interpreter": {
    "hash": "b70a1df445f6aaef4f3d85bf837047af5ade8636513558fdaf2fee1f0a0508fe"
   }
  }
 },
 "nbformat": 4,
 "nbformat_minor": 2
}
